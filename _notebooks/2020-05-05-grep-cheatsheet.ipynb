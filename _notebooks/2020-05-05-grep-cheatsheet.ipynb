{
 "cells": [
  {
   "cell_type": "markdown",
   "metadata": {},
   "source": [
    "# \"Filtering file content with the `grep` command\"\n",
    "> Cheatsheet on the grep command in macos\n",
    "\n",
    "- toc: true \n",
    "- badges: true\n",
    "- comments: true\n",
    "- categories: [cheatsheet]"
   ]
  },
  {
   "cell_type": "markdown",
   "metadata": {},
   "source": [
    "> Important: The exclamation mark `!` and percent `%` symbols at the beginning of the lines should be ignored.  Indeed, this page is generated from a `jupyter notebook`, each cell of which runs `python` code.  In order to run `shell` commands (as \"magic commands\") one inserts a `!` or `%` at the beginning of the line."
   ]
  },
  {
   "cell_type": "markdown",
   "metadata": {},
   "source": [
    "# TODO"
   ]
  },
  {
   "cell_type": "markdown",
   "metadata": {},
   "source": [
    "- `v`\n",
    "- search directory recursively"
   ]
  },
  {
   "cell_type": "markdown",
   "metadata": {},
   "source": [
    "# References"
   ]
  },
  {
   "cell_type": "markdown",
   "metadata": {},
   "source": [
    "- [Examples using `grep`](https://www.tldp.org/LDP/Bash-Beginners-Guide/html/sect_04_02.html) (tldp.org)\n",
    "- [Character classes and bracket expressions](https://www.gnu.org/software/grep/manual/html_node/Character-Classes-and-Bracket-Expressions.html) (gnu.org)\n",
    "- [A large collection of Unix/Linux ‘grep’ command examples](https://alvinalexander.com/unix/edu/examples/grep.shtml)\n",
    "- [grep or and not operators](https://www.thegeekstuff.com/2011/10/grep-or-and-not-operators/)\n",
    "- [15 practical unix grep command examples](https://www.thegeekstuff.com/2009/03/15-practical-unix-grep-command-examples/)\n",
    "\n",
    "- [What's the difference between `\\b` and `\\<` in the `grep` command?](https://unix.stackexchange.com/questions/121739/whats-the-difference-between-b-and-in-the-grep-command) (unix.stackexchange)\n",
    "- [Tutorial: Find Strings in Text Files Using Grep with Regular Expressions](https://thenewstack.io/tutorial-find-strings-in-text-files-using-grep-with-regular-expressions/) (Matt Zand, thenewstack)\n",
    "- [Regular Expressions In grep examples](https://www.cyberciti.biz/faq/grep-regular-expressions/) (cyberciti.biz)\n",
    "- [regex quickstart](https://www.rexegg.com/regex-quickstart.html) (Rex Egg)"
   ]
  },
  {
   "cell_type": "markdown",
   "metadata": {},
   "source": [
    "# Documentation from the `man` page \n",
    "Also [available here](https://ss64.com/osx/grep.html):"
   ]
  },
  {
   "cell_type": "code",
   "execution_count": null,
   "metadata": {},
   "outputs": [],
   "source": [
    "!man grep"
   ]
  },
  {
   "cell_type": "markdown",
   "metadata": {},
   "source": [
    "# Sample text files\n",
    "The sample text files used in this post are directly available from the OS:\n",
    "- calendar files in `/usr/share/calendar`\n",
    "- dictionary words in `/usr/share/dict/words`\n",
    "- meaning of flowers in `/usr/share/misc/flowers`\n",
    "- birth token `/usr/share/misc/birthtoken`\n",
    "- the ascii table `/usr/share/misc/ascii`\n",
    "- units `/usr/share/misc/units.lib`"
   ]
  },
  {
   "cell_type": "markdown",
   "metadata": {},
   "source": [
    "# System information"
   ]
  },
  {
   "cell_type": "markdown",
   "metadata": {},
   "source": [
    "Version of the `grep` utility:"
   ]
  },
  {
   "cell_type": "code",
   "execution_count": 1,
   "metadata": {},
   "outputs": [
    {
     "name": "stdout",
     "output_type": "stream",
     "text": [
      "grep (BSD grep) 2.5.1-FreeBSD\r\n"
     ]
    }
   ],
   "source": [
    "!grep -V"
   ]
  },
  {
   "cell_type": "markdown",
   "metadata": {},
   "source": [
    "Operating system name, version, and release:"
   ]
  },
  {
   "cell_type": "code",
   "execution_count": 7,
   "metadata": {},
   "outputs": [
    {
     "name": "stdout",
     "output_type": "stream",
     "text": [
      "Darwin Kernel Version 19.4.0: Wed Mar  4 22:28:40 PST 2020; root:xnu-6153.101.6~15/RELEASE_X86_64\r\n"
     ]
    }
   ],
   "source": [
    "!uname -v"
   ]
  },
  {
   "cell_type": "markdown",
   "metadata": {},
   "source": [
    "# Basic usage"
   ]
  },
  {
   "cell_type": "markdown",
   "metadata": {},
   "source": [
    "## Match a string"
   ]
  },
  {
   "cell_type": "markdown",
   "metadata": {},
   "source": [
    "In a single file:"
   ]
  },
  {
   "cell_type": "code",
   "execution_count": 8,
   "metadata": {
    "scrolled": true
   },
   "outputs": [
    {
     "name": "stdout",
     "output_type": "stream",
     "text": [
      "06/07\tAlan Mathison Turing died, 1954\r\n",
      "06/23\tAlan Mathison Turing born, 1912\r\n"
     ]
    }
   ],
   "source": [
    "!grep Alan /usr/share/calendar/calendar.birthday"
   ]
  },
  {
   "cell_type": "markdown",
   "metadata": {},
   "source": [
    "In multiple files:"
   ]
  },
  {
   "cell_type": "code",
   "execution_count": 9,
   "metadata": {
    "scrolled": true
   },
   "outputs": [
    {
     "name": "stdout",
     "output_type": "stream",
     "text": [
      "/usr/share/calendar/calendar.birthday:06/07\tAlan Mathison Turing died, 1954\r\n",
      "/usr/share/calendar/calendar.birthday:06/23\tAlan Mathison Turing born, 1912\r\n",
      "/usr/share/calendar/calendar.computer:06/07\tAlan Mathison Turing died, 1954\r\n",
      "/usr/share/calendar/calendar.computer:06/23\tAlan Mathison Turing born, 1912\r\n",
      "/usr/share/calendar/calendar.freebsd:06/06\tAlan Eldridge <alane@FreeBSD.org> died in Denver, Colorado, 2003\r\n",
      "/usr/share/calendar/calendar.history:06/28\tSupreme Court decides in favor of Alan Bakke, 1978\r\n"
     ]
    }
   ],
   "source": [
    "!grep Alan /usr/share/calendar/calendar.*"
   ]
  },
  {
   "cell_type": "markdown",
   "metadata": {},
   "source": [
    "## Insert line number: `-n`"
   ]
  },
  {
   "cell_type": "code",
   "execution_count": 10,
   "metadata": {},
   "outputs": [
    {
     "name": "stdout",
     "output_type": "stream",
     "text": [
      "158:06/07\tAlan Mathison Turing died, 1954\r\n",
      "168:06/23\tAlan Mathison Turing born, 1912\r\n"
     ]
    }
   ],
   "source": [
    "!grep -n Alan /usr/share/calendar/calendar.birthday"
   ]
  },
  {
   "cell_type": "markdown",
   "metadata": {},
   "source": [
    "## Highlight match: `--color`"
   ]
  },
  {
   "cell_type": "code",
   "execution_count": 11,
   "metadata": {},
   "outputs": [
    {
     "name": "stdout",
     "output_type": "stream",
     "text": [
      "06/07\t\u001b[01;31m\u001b[KAlan\u001b[m\u001b[K Mathison Turing died, 1954\r\n",
      "06/23\t\u001b[01;31m\u001b[KAlan\u001b[m\u001b[K Mathison Turing born, 1912\r\n"
     ]
    }
   ],
   "source": [
    "!grep --color Alan /usr/share/calendar/calendar.birthday"
   ]
  },
  {
   "cell_type": "markdown",
   "metadata": {},
   "source": [
    "## Match count: `-c`"
   ]
  },
  {
   "cell_type": "markdown",
   "metadata": {},
   "source": [
    "In a single file:"
   ]
  },
  {
   "cell_type": "code",
   "execution_count": 12,
   "metadata": {},
   "outputs": [
    {
     "name": "stdout",
     "output_type": "stream",
     "text": [
      "2\r\n"
     ]
    }
   ],
   "source": [
    "!grep -c Alan /usr/share/calendar/calendar.birthday"
   ]
  },
  {
   "cell_type": "markdown",
   "metadata": {},
   "source": [
    "In multiple files:"
   ]
  },
  {
   "cell_type": "code",
   "execution_count": 13,
   "metadata": {},
   "outputs": [
    {
     "name": "stdout",
     "output_type": "stream",
     "text": [
      "/usr/share/calendar/calendar.all:0\r\n",
      "/usr/share/calendar/calendar.australia:0\r\n",
      "/usr/share/calendar/calendar.birthday:2\r\n",
      "/usr/share/calendar/calendar.christian:0\r\n",
      "/usr/share/calendar/calendar.computer:2\r\n",
      "/usr/share/calendar/calendar.croatian:0\r\n",
      "/usr/share/calendar/calendar.dutch:0\r\n",
      "/usr/share/calendar/calendar.freebsd:1\r\n",
      "/usr/share/calendar/calendar.french:0\r\n",
      "/usr/share/calendar/calendar.german:0\r\n",
      "/usr/share/calendar/calendar.history:1\r\n",
      "/usr/share/calendar/calendar.holiday:0\r\n",
      "/usr/share/calendar/calendar.hungarian:0\r\n",
      "/usr/share/calendar/calendar.judaic:0\r\n",
      "/usr/share/calendar/calendar.lotr:0\r\n",
      "/usr/share/calendar/calendar.music:0\r\n",
      "/usr/share/calendar/calendar.newzealand:0\r\n",
      "/usr/share/calendar/calendar.russian:0\r\n",
      "/usr/share/calendar/calendar.southafrica:0\r\n",
      "/usr/share/calendar/calendar.ukrainian:0\r\n",
      "/usr/share/calendar/calendar.usholiday:0\r\n",
      "/usr/share/calendar/calendar.world:0\r\n"
     ]
    }
   ],
   "source": [
    "!grep -c Alan /usr/share/calendar/calendar.*"
   ]
  },
  {
   "cell_type": "markdown",
   "metadata": {},
   "source": [
    "## Case-insensitive match"
   ]
  },
  {
   "cell_type": "code",
   "execution_count": 14,
   "metadata": {},
   "outputs": [
    {
     "name": "stdout",
     "output_type": "stream",
     "text": [
      "01/01\tThe Epoch (Time 0 for \u001b[01;31m\u001b[KUNIX\u001b[m\u001b[K systems, Midnight GMT, 1970)\r\n",
      "05/19\t\u001b[01;31m\u001b[KUNIX\u001b[m\u001b[K is 10000 days old, 1997\r\n",
      "08/14\tFirst \u001b[01;31m\u001b[KUnix\u001b[m\u001b[K-based mallet created, 1954\r\n"
     ]
    }
   ],
   "source": [
    "!grep --color -i unix /usr/share/calendar/calendar.computer"
   ]
  },
  {
   "cell_type": "markdown",
   "metadata": {},
   "source": [
    "## File names with a match: `-l`"
   ]
  },
  {
   "cell_type": "code",
   "execution_count": 15,
   "metadata": {},
   "outputs": [
    {
     "name": "stdout",
     "output_type": "stream",
     "text": [
      "/usr/share/calendar/calendar.birthday\r\n",
      "/usr/share/calendar/calendar.computer\r\n",
      "/usr/share/calendar/calendar.freebsd\r\n",
      "/usr/share/calendar/calendar.history\r\n"
     ]
    }
   ],
   "source": [
    "!grep -l Alan /usr/share/calendar/calendar.*"
   ]
  },
  {
   "cell_type": "markdown",
   "metadata": {},
   "source": [
    "## Position of match in file: `-b`"
   ]
  },
  {
   "cell_type": "code",
   "execution_count": 16,
   "metadata": {},
   "outputs": [
    {
     "name": "stdout",
     "output_type": "stream",
     "text": [
      "6906:06/07\tAlan Mathison Turing died, 1954\r\n",
      "7346:06/23\tAlan Mathison Turing born, 1912\r\n"
     ]
    }
   ],
   "source": [
    "!grep -b Alan /usr/share/calendar/calendar.birthday"
   ]
  },
  {
   "cell_type": "markdown",
   "metadata": {},
   "source": [
    "## Include/exclude files: `--include`, `--exclude`"
   ]
  },
  {
   "cell_type": "markdown",
   "metadata": {},
   "source": [
    "Exclude file in search:"
   ]
  },
  {
   "cell_type": "code",
   "execution_count": 17,
   "metadata": {},
   "outputs": [
    {
     "name": "stdout",
     "output_type": "stream",
     "text": [
      "/usr/share/calendar/calendar.birthday:06/07\tAlan Mathison Turing died, 1954\r\n",
      "/usr/share/calendar/calendar.birthday:06/23\tAlan Mathison Turing born, 1912\r\n",
      "/usr/share/calendar/calendar.freebsd:06/06\tAlan Eldridge <alane@FreeBSD.org> died in Denver, Colorado, 2003\r\n",
      "/usr/share/calendar/calendar.history:06/28\tSupreme Court decides in favor of Alan Bakke, 1978\r\n"
     ]
    }
   ],
   "source": [
    "!grep Alan --exclude /usr/share/calendar/calendar.computer /usr/share/calendar/calendar.*"
   ]
  },
  {
   "cell_type": "markdown",
   "metadata": {},
   "source": [
    "Include files:"
   ]
  },
  {
   "cell_type": "code",
   "execution_count": 18,
   "metadata": {},
   "outputs": [
    {
     "name": "stdout",
     "output_type": "stream",
     "text": [
      "/usr/share/calendar/calendar.birthday:06/07\tAlan Mathison Turing died, 1954\r\n",
      "/usr/share/calendar/calendar.birthday:06/23\tAlan Mathison Turing born, 1912\r\n",
      "/usr/share/calendar/calendar.computer:06/07\tAlan Mathison Turing died, 1954\r\n",
      "/usr/share/calendar/calendar.computer:06/23\tAlan Mathison Turing born, 1912\r\n",
      "/usr/share/calendar/calendar.freebsd:06/06\tAlan Eldridge <alane@FreeBSD.org> died in Denver, Colorado, 2003\r\n",
      "/usr/share/calendar/calendar.history:06/28\tSupreme Court decides in favor of Alan Bakke, 1978\r\n"
     ]
    }
   ],
   "source": [
    "!grep Alan --include \"calendar.*\" /usr/share/calendar/*"
   ]
  },
  {
   "cell_type": "markdown",
   "metadata": {},
   "source": [
    "## Whole word match: `-w`"
   ]
  },
  {
   "cell_type": "code",
   "execution_count": 19,
   "metadata": {},
   "outputs": [
    {
     "name": "stdout",
     "output_type": "stream",
     "text": [
      "01/22\tSir \u001b[01;31m\u001b[KFrancis\u001b[m\u001b[K Bacon born, 1561\r\n",
      "11/20\tRobert \u001b[01;31m\u001b[KFrancis\u001b[m\u001b[K Kennedy (RFK) born in Boston, Massachusetts, 1925\r\n"
     ]
    }
   ],
   "source": [
    "!grep -w  --color Francis /usr/share/calendar/calendar.birthday"
   ]
  },
  {
   "cell_type": "markdown",
   "metadata": {},
   "source": [
    "... as opposed to string matches:"
   ]
  },
  {
   "cell_type": "code",
   "execution_count": 20,
   "metadata": {},
   "outputs": [
    {
     "name": "stdout",
     "output_type": "stream",
     "text": [
      "01/22\tSir \u001b[01;31m\u001b[KFrancis\u001b[m\u001b[K Bacon born, 1561\r\n",
      "03/30\t\u001b[01;31m\u001b[KFrancis\u001b[m\u001b[Kco Jose de Goya born, 1746\r\n",
      "04/29\tWilliam Randolph Hearst born in San \u001b[01;31m\u001b[KFrancis\u001b[m\u001b[Kco, 1863\r\n",
      "05/30\tMel (Melvin Jerome) Blanc born in San \u001b[01;31m\u001b[KFrancis\u001b[m\u001b[Kco, 1908\r\n",
      "11/20\tRobert \u001b[01;31m\u001b[KFrancis\u001b[m\u001b[K Kennedy (RFK) born in Boston, Massachusetts, 1925\r\n"
     ]
    }
   ],
   "source": [
    "!grep --color Francis /usr/share/calendar/calendar.birthday"
   ]
  },
  {
   "cell_type": "markdown",
   "metadata": {},
   "source": [
    "## Lines before/after/around match"
   ]
  },
  {
   "cell_type": "markdown",
   "metadata": {},
   "source": [
    "Show two lines before each match:"
   ]
  },
  {
   "cell_type": "code",
   "execution_count": 21,
   "metadata": {},
   "outputs": [
    {
     "name": "stdout",
     "output_type": "stream",
     "text": [
      "212942-uncomputableness\r\n",
      "212943-uncomputably\r\n",
      "212944:\u001b[01;31m\u001b[Kuncomputed\u001b[m\u001b[K\r\n"
     ]
    }
   ],
   "source": [
    "!grep -n --color -B2 uncomputed /usr/share/dict/words"
   ]
  },
  {
   "cell_type": "markdown",
   "metadata": {},
   "source": [
    "Show three lines after each match:"
   ]
  },
  {
   "cell_type": "code",
   "execution_count": 22,
   "metadata": {},
   "outputs": [
    {
     "name": "stdout",
     "output_type": "stream",
     "text": [
      "212944:\u001b[01;31m\u001b[Kuncomputed\u001b[m\u001b[K\r\n",
      "212945-uncomraded\r\n",
      "212946-unconcatenated\r\n",
      "212947-unconcatenating\r\n"
     ]
    }
   ],
   "source": [
    "!grep -n --color -A3 uncomputed /usr/share/dict/words"
   ]
  },
  {
   "cell_type": "markdown",
   "metadata": {},
   "source": [
    "Show two lines before and three lines after each match:"
   ]
  },
  {
   "cell_type": "code",
   "execution_count": 23,
   "metadata": {},
   "outputs": [
    {
     "name": "stdout",
     "output_type": "stream",
     "text": [
      "212942-uncomputableness\r\n",
      "212943-uncomputably\r\n",
      "212944:\u001b[01;31m\u001b[Kuncomputed\u001b[m\u001b[K\r\n",
      "212945-uncomraded\r\n",
      "212946-unconcatenated\r\n",
      "212947-unconcatenating\r\n"
     ]
    }
   ],
   "source": [
    "!grep -n --color -B2 -A3 uncomputed /usr/share/dict/words"
   ]
  },
  {
   "cell_type": "markdown",
   "metadata": {},
   "source": [
    "Show two lines around match:"
   ]
  },
  {
   "cell_type": "code",
   "execution_count": 24,
   "metadata": {},
   "outputs": [
    {
     "name": "stdout",
     "output_type": "stream",
     "text": [
      "212942-uncomputableness\r\n",
      "212943-uncomputably\r\n",
      "212944:\u001b[01;31m\u001b[Kuncomputed\u001b[m\u001b[K\r\n",
      "212945-uncomraded\r\n",
      "212946-unconcatenated\r\n"
     ]
    }
   ],
   "source": [
    "!grep -n --color -C2 uncomputed /usr/share/dict/words"
   ]
  },
  {
   "cell_type": "markdown",
   "metadata": {},
   "source": [
    "# Regular expressions"
   ]
  },
  {
   "cell_type": "markdown",
   "metadata": {},
   "source": [
    "- `?` The preceding item is optional and matched at most once\n",
    "- `*` The preceding item will be matched zero or more times\n",
    "- `+` The preceding item will be matched one or more times\n",
    "- `{n}` The preceding item is matched exactly n times\n",
    "- `{n,}` The preceding item is matched n or more times\n",
    "- `{,m}` The preceding item is matched at most m times\n",
    "- `{n,m}` The preceding item is matched at least n times, but not more than m times\n",
    "\n",
    "- `\\<` matches the beginning of a word\n",
    "- `\\>` matches the end of a word\n",
    "- `\\b` matches both boundaries if at the end or at the beginning\n",
    "\n",
    "Classes of characters:  \n",
    "- `[[:alnum:]]`: Alphanumeric characters.\n",
    "- `[[:alpha:]]`: Alphabetic characters\n",
    "- `[[:blank:]]`: Blank characters: space and tab.\n",
    "- `[[:digit:]]`: Digits: ‘0 1 2 3 4 5 6 7 8 9’.\n",
    "- `[[:lower:]]`: Lower-case letters: ‘a b c d e f g h i j k l m n o p q r s t u v w x y z’.\n",
    "- `[[:space:]]`: Space characters: tab, newline, vertical tab, form feed, carriage return, and space.\n",
    "- `[[:upper:]]`: Upper-case letters: ‘A B C D E F G H I J K L M N O P Q R S T U V W X Y Z’.\n"
   ]
  },
  {
   "cell_type": "markdown",
   "metadata": {},
   "source": [
    "## Word anchors: `^`, `$`, `\\>`, `\\>`, `\\b`"
   ]
  },
  {
   "cell_type": "markdown",
   "metadata": {},
   "source": [
    "Lines **beginning** with pattern:"
   ]
  },
  {
   "cell_type": "code",
   "execution_count": 25,
   "metadata": {},
   "outputs": [
    {
     "name": "stdout",
     "output_type": "stream",
     "text": [
      "40564:\u001b[01;31m\u001b[Kcompute\u001b[m\u001b[K\r\n",
      "40565:\u001b[01;31m\u001b[Kcompute\u001b[m\u001b[Kr\r\n"
     ]
    }
   ],
   "source": [
    "!grep -n --color ^compute /usr/share/dict/words"
   ]
  },
  {
   "cell_type": "markdown",
   "metadata": {},
   "source": [
    "Lines **ending** with pattern:"
   ]
  },
  {
   "cell_type": "code",
   "execution_count": 26,
   "metadata": {},
   "outputs": [
    {
     "name": "stdout",
     "output_type": "stream",
     "text": [
      "40564:\u001b[01;31m\u001b[Kcompute\u001b[m\u001b[K\n",
      "117000:mis\u001b[01;31m\u001b[Kcompute\u001b[m\u001b[K\n",
      "164643:re\u001b[01;31m\u001b[Kcompute\u001b[m\u001b[K\n"
     ]
    }
   ],
   "source": [
    "!grep -n --color \"compute$\" /usr/share/dict/words "
   ]
  },
  {
   "cell_type": "markdown",
   "metadata": {},
   "source": [
    "Beginning a word:"
   ]
  },
  {
   "cell_type": "code",
   "execution_count": 29,
   "metadata": {},
   "outputs": [
    {
     "name": "stdout",
     "output_type": "stream",
     "text": [
      "40564:\u001b[01;31m\u001b[Kcompute\u001b[m\u001b[K\r\n",
      "40565:\u001b[01;31m\u001b[Kcompute\u001b[m\u001b[Kr\r\n"
     ]
    }
   ],
   "source": [
    "!grep -n --colo '\\<compute' /usr/share/dict/words"
   ]
  },
  {
   "cell_type": "markdown",
   "metadata": {},
   "source": [
    "Ending a word:"
   ]
  },
  {
   "cell_type": "code",
   "execution_count": 30,
   "metadata": {
    "scrolled": true
   },
   "outputs": [
    {
     "name": "stdout",
     "output_type": "stream",
     "text": [
      "40564:\u001b[01;31m\u001b[Kcompute\u001b[m\u001b[K\n",
      "117000:mis\u001b[01;31m\u001b[Kcompute\u001b[m\u001b[K\n",
      "164643:re\u001b[01;31m\u001b[Kcompute\u001b[m\u001b[K\n"
     ]
    }
   ],
   "source": [
    "!grep -n --color 'compute\\>' /usr/share/dict/words"
   ]
  },
  {
   "cell_type": "markdown",
   "metadata": {},
   "source": [
    "Words of specified length:"
   ]
  },
  {
   "cell_type": "code",
   "execution_count": 66,
   "metadata": {},
   "outputs": [
    {
     "name": "stdout",
     "output_type": "stream",
     "text": [
      "formaldehydesulphoxylate\n",
      "pathologicopsychological\n",
      "scientificophilosophical\n",
      "tetraiodophenolphthalein\n",
      "thyroparathyroidectomize\n"
     ]
    }
   ],
   "source": [
    "!grep '\\<.\\{24\\}\\>' /usr/share/dict/words"
   ]
  },
  {
   "cell_type": "markdown",
   "metadata": {},
   "source": [
    "Words with fixed length and speficied starting and ending characters:"
   ]
  },
  {
   "cell_type": "code",
   "execution_count": 32,
   "metadata": {},
   "outputs": [
    {
     "name": "stdout",
     "output_type": "stream",
     "text": [
      "yamph\r\n",
      "yarth\r\n",
      "yerth\r\n",
      "yirth\r\n",
      "youth\r\n"
     ]
    }
   ],
   "source": [
    "!grep '\\<y...h\\>' /usr/share/dict/words"
   ]
  },
  {
   "cell_type": "markdown",
   "metadata": {},
   "source": [
    "Words with specified first and last characters, of any length:"
   ]
  },
  {
   "cell_type": "code",
   "execution_count": 33,
   "metadata": {
    "scrolled": true
   },
   "outputs": [
    {
     "name": "stdout",
     "output_type": "stream",
     "text": [
      "xanthocyanopsy\r\n",
      "xanthocyanopy\r\n",
      "xenagogy\r\n",
      "xenelasy\r\n",
      "xenogamy\r\n",
      "xenogeny\r\n",
      "xenophoby\r\n",
      "xerically\r\n",
      "xerography\r\n",
      "xeromorphy\r\n",
      "xerophagy\r\n",
      "xerophily\r\n",
      "xerophthalmy\r\n",
      "xerophytically\r\n",
      "xyloglyphy\r\n",
      "xylographically\r\n",
      "xylography\r\n",
      "xylology\r\n",
      "xylomancy\r\n",
      "xylopyrography\r\n",
      "xylotomy\r\n",
      "xylotypography\r\n"
     ]
    }
   ],
   "source": [
    "!grep '\\<x.*y\\>' /usr/share/dict/words"
   ]
  },
  {
   "cell_type": "markdown",
   "metadata": {},
   "source": [
    "## Boolean `OR`"
   ]
  },
  {
   "cell_type": "code",
   "execution_count": 68,
   "metadata": {},
   "outputs": [
    {
     "name": "stdout",
     "output_type": "stream",
     "text": [
      "40565:\u001b[01;31m\u001b[Kcomputer\u001b[m\u001b[K\n",
      "82436:\u001b[01;31m\u001b[Khardware\u001b[m\u001b[K\n",
      "82437:\u001b[01;31m\u001b[Khardware\u001b[m\u001b[Kman\n"
     ]
    }
   ],
   "source": [
    "!grep -n --color -E 'computer|hardware' /usr/share/dict/words"
   ]
  },
  {
   "cell_type": "code",
   "execution_count": 70,
   "metadata": {},
   "outputs": [
    {
     "name": "stdout",
     "output_type": "stream",
     "text": [
      "4:February:Amethyst:\u001b[01;31m\u001b[KViolet\u001b[m\u001b[K\r\n",
      "8:June:Pearl:\u001b[01;31m\u001b[KRose\u001b[m\u001b[K\r\n"
     ]
    }
   ],
   "source": [
    "!grep -n --color -E 'Rose|Violet' /usr/share/misc/birthtoken"
   ]
  },
  {
   "cell_type": "markdown",
   "metadata": {},
   "source": [
    "Match whole words `gray` or `grey`:"
   ]
  },
  {
   "cell_type": "code",
   "execution_count": 76,
   "metadata": {},
   "outputs": [
    {
     "name": "stdout",
     "output_type": "stream",
     "text": [
      "79755:\u001b[01;31m\u001b[Kgray\u001b[m\u001b[K\r\n",
      "79976:\u001b[01;31m\u001b[Kgrey\u001b[m\u001b[K\r\n"
     ]
    }
   ],
   "source": [
    "!grep -n --color '\\<gr[ae]y\\>' /usr/share/dict/words"
   ]
  },
  {
   "cell_type": "code",
   "execution_count": 47,
   "metadata": {},
   "outputs": [
    {
     "name": "stdout",
     "output_type": "stream",
     "text": [
      "186:\u001b[01;31m\u001b[Kfoot\u001b[m\u001b[K\t\t\t12 in\r\n",
      "187:feet\t\t\t\u001b[01;31m\u001b[Kfoot\u001b[m\u001b[K\r\n",
      "188:\u001b[01;31m\u001b[Kft\t\t\tfoot\u001b[m\u001b[K\r\n",
      "189:yard\t\t\t3 \u001b[01;31m\u001b[Kft\u001b[m\u001b[K\r\n",
      "193:mile\t\t\t5280 \u001b[01;31m\u001b[Kft\u001b[m\u001b[K\r\n",
      "196:british\t\t\t1200|3937 m/\u001b[01;31m\u001b[Kft\u001b[m\u001b[K\r\n",
      "265:pood\t\t\t40 \u001b[01;31m\u001b[Kfunt\u001b[m\u001b[K\r\n",
      "266:\u001b[01;31m\u001b[Kfunt\u001b[m\u001b[K\t\t\t0.40951 kg\r\n",
      "267:lot\t\t\t1|32 \u001b[01;31m\u001b[Kfunt\u001b[m\u001b[K\r\n",
      "424:admiraltyknot\t\t6080 \u001b[01;31m\u001b[Kft\u001b[m\u001b[K/hr\r\n",
      "429:arpentlin\t\t191.835 \u001b[01;31m\u001b[Kft\u001b[m\u001b[K\r\n",
      "456:cable\t\t\t720 \u001b[01;31m\u001b[Kft\u001b[m\u001b[K\r\n",
      "467:chain\t\t\t66 \u001b[01;31m\u001b[Kft\u001b[m\u001b[K\r\n",
      "488:engineerschain\t\t100 \u001b[01;31m\u001b[Kft\u001b[m\u001b[K\r\n",
      "489:engineerslink\t\t100|100 \u001b[01;31m\u001b[Kft\u001b[m\u001b[K\r\n",
      "496:fathom\t\t\t6 \u001b[01;31m\u001b[Kft\u001b[m\u001b[K\r\n",
      "498:\u001b[01;31m\u001b[Kfifth\t\t\t4|5 qt\u001b[m\u001b[K\r\n",
      "504:\u001b[01;31m\u001b[Kfortnight\u001b[m\u001b[K\t\t14 da\r\n",
      "512:geodeticfoot\t\tbritish-\u001b[01;31m\u001b[Kft\u001b[m\u001b[K\r\n",
      "550:link\t\t\t66|100 \u001b[01;31m\u001b[Kft\u001b[m\u001b[K\r\n",
      "597:poundal\t\t\t\u001b[01;31m\u001b[Kft\u001b[m\u001b[K-lb/sec2\r\n",
      "617:rope\t\t\t20 \u001b[01;31m\u001b[Kft\u001b[m\u001b[K\r\n",
      "635:slug\t\t\tlb-g-sec2/\u001b[01;31m\u001b[Kft\u001b[m\u001b[K\r\n",
      "648:surveyfoot\t\tbritish-\u001b[01;31m\u001b[Kft\u001b[m\u001b[K\r\n",
      "650:surveyorschain\t\t66 \u001b[01;31m\u001b[Kft\u001b[m\u001b[K\r\n",
      "651:surveyorslink\t\t66|100 \u001b[01;31m\u001b[Kft\u001b[m\u001b[K\r\n",
      "716:frenchfoot\t\t16|15 \u001b[01;31m\u001b[Kft\u001b[m\u001b[K\r\n",
      "728:cottonyarncount\t\t2520 \u001b[01;31m\u001b[Kft\u001b[m\u001b[K/pound\r\n",
      "729:linenyarncount\t\t900 \u001b[01;31m\u001b[Kft\u001b[m\u001b[K/pound\r\n",
      "730:worstedyarncount\t1680 \u001b[01;31m\u001b[Kft\u001b[m\u001b[K/pound\r\n"
     ]
    }
   ],
   "source": [
    "!grep -n --color '\\bf[^:space:]\\{0,\\}t\\b' /usr/share/misc/units.lib"
   ]
  },
  {
   "cell_type": "code",
   "execution_count": 42,
   "metadata": {},
   "outputs": [
    {
     "name": "stdout",
     "output_type": "stream",
     "text": [
      "186:\u001b[01;31m\u001b[Kfoot\u001b[m\u001b[K\t\t\t12 in\r\n",
      "187:\u001b[01;31m\u001b[Kfeet\t\t\tfoot\u001b[m\u001b[K\r\n",
      "188:\u001b[01;31m\u001b[Kft\t\t\tfoot\u001b[m\u001b[K\r\n",
      "215:\u001b[01;31m\u001b[Kfloz\t\t\t1|16 pt\u001b[m\u001b[K\r\n",
      "265:pood\t\t\t40 \u001b[01;31m\u001b[Kfunt\u001b[m\u001b[K\r\n",
      "266:\u001b[01;31m\u001b[Kfunt\u001b[m\u001b[K\t\t\t0.40951 kg\r\n",
      "267:lot\t\t\t1|32 \u001b[01;31m\u001b[Kfunt\u001b[m\u001b[K\r\n",
      "314:\u001b[01;31m\u001b[Kfarad\t\t\tcoul/volt\u001b[m\u001b[K\r\n",
      "496:\u001b[01;31m\u001b[Kfathom\t\t\t6 ft\u001b[m\u001b[K\r\n",
      "498:\u001b[01;31m\u001b[Kfifth\t\t\t4|5 qt\u001b[m\u001b[K\r\n",
      "503:\u001b[01;31m\u001b[Kfootlambert\u001b[m\u001b[K\t\tcd/pi-ft2\r\n",
      "504:\u001b[01;31m\u001b[Kfortnight\u001b[m\u001b[K\t\t14 da\r\n",
      "716:\u001b[01;31m\u001b[Kfrenchfoot\t\t16|15 ft\u001b[m\u001b[K\r\n",
      "717:\u001b[01;31m\u001b[Kfrenchfeet\t\tfrenchfoot\u001b[m\u001b[K\r\n",
      "718:toise\t\t\t6 \u001b[01;31m\u001b[Kfrenchfeet\u001b[m\u001b[K\r\n",
      "721:militarypace\t\t2.5 \u001b[01;31m\u001b[Kfeet\u001b[m\u001b[K\r\n"
     ]
    }
   ],
   "source": [
    "!grep -n --color '\\bf.\\{1,\\}t\\b' /usr/share/misc/units.lib"
   ]
  },
  {
   "cell_type": "markdown",
   "metadata": {},
   "source": [
    "## Character classes"
   ]
  },
  {
   "cell_type": "markdown",
   "metadata": {},
   "source": [
    "Match words of two characters, first an upper case, the second lower case:"
   ]
  },
  {
   "cell_type": "code",
   "execution_count": 64,
   "metadata": {},
   "outputs": [
    {
     "name": "stdout",
     "output_type": "stream",
     "text": [
      "May:Emerald:Lily \u001b[01;31m\u001b[KOf\u001b[m\u001b[K The Valley\r\n"
     ]
    }
   ],
   "source": [
    "!grep --color '\\<[[:upper:]][[:lower:]]\\>' /usr/share/misc/birthtoken "
   ]
  },
  {
   "cell_type": "markdown",
   "metadata": {},
   "source": [
    "Match numbers of any length:"
   ]
  },
  {
   "cell_type": "code",
   "execution_count": 62,
   "metadata": {},
   "outputs": [
    {
     "name": "stdout",
     "output_type": "stream",
     "text": [
      "1258:aceto\u001b[01;31m\u001b[Kxy\u001b[m\u001b[Kl\n",
      "1259:aceto\u001b[01;31m\u001b[Kxy\u001b[m\u001b[Kphthalide\n",
      "2168:acylo\u001b[01;31m\u001b[Kxy\u001b[m\u001b[K\n",
      "2169:acylo\u001b[01;31m\u001b[Kxy\u001b[m\u001b[Kmethane\n",
      "2731:adnexope\u001b[01;31m\u001b[Kxy\u001b[m\u001b[K\n",
      "2805:ado\u001b[01;31m\u001b[Kxy\u001b[m\u001b[K\n",
      "3774:agala\u001b[01;31m\u001b[Kxy\u001b[m\u001b[K\n",
      "5413:alko\u001b[01;31m\u001b[Kxy\u001b[m\u001b[K\n",
      "5414:alko\u001b[01;31m\u001b[Kxy\u001b[m\u001b[Kl\n",
      "5426:alkylo\u001b[01;31m\u001b[Kxy\u001b[m\u001b[K\n",
      "5736:allo\u001b[01;31m\u001b[Kxy\u001b[m\u001b[Kproteic\n",
      "6715:amido\u001b[01;31m\u001b[Kxy\u001b[m\u001b[K\n",
      "6716:amido\u001b[01;31m\u001b[Kxy\u001b[m\u001b[Kl\n",
      "6781:amino\u001b[01;31m\u001b[Kxy\u001b[m\u001b[Klol\n",
      "9152:anore\u001b[01;31m\u001b[Kxy\u001b[m\u001b[K\n",
      "9202:ano\u001b[01;31m\u001b[Kxy\u001b[m\u001b[Kbiosis\n",
      "9203:ano\u001b[01;31m\u001b[Kxy\u001b[m\u001b[Kbiotic\n",
      "9204:ano\u001b[01;31m\u001b[Kxy\u001b[m\u001b[Kscope\n",
      "9596:anthota\u001b[01;31m\u001b[Kxy\u001b[m\u001b[K\n",
      "9665:anthra\u001b[01;31m\u001b[Kxy\u001b[m\u001b[Klon\n",
      "9684:anthropodeo\u001b[01;31m\u001b[Kxy\u001b[m\u001b[Kcholic\n",
      "10433:antio\u001b[01;31m\u001b[Kxy\u001b[m\u001b[Kgen\n",
      "10434:antio\u001b[01;31m\u001b[Kxy\u001b[m\u001b[Kgenation\n",
      "10435:antio\u001b[01;31m\u001b[Kxy\u001b[m\u001b[Kgenator\n",
      "10436:antio\u001b[01;31m\u001b[Kxy\u001b[m\u001b[Kgenic\n",
      "11589:apople\u001b[01;31m\u001b[Kxy\u001b[m\u001b[K\n",
      "11702:Apo\u001b[01;31m\u001b[Kxy\u001b[m\u001b[Komenos\n",
      "12091:apyre\u001b[01;31m\u001b[Kxy\u001b[m\u001b[K\n",
      "12320:Araucario\u001b[01;31m\u001b[Kxy\u001b[m\u001b[Klon\n",
      "13435:aro\u001b[01;31m\u001b[Kxy\u001b[m\u001b[Kl\n",
      "14359:asphy\u001b[01;31m\u001b[Kxy\u001b[m\u001b[K\n",
      "14729:Astero\u001b[01;31m\u001b[Kxy\u001b[m\u001b[Klaceae\n",
      "14730:Astero\u001b[01;31m\u001b[Kxy\u001b[m\u001b[Klon\n",
      "15003:atara\u001b[01;31m\u001b[Kxy\u001b[m\u001b[K\n",
      "15024:ata\u001b[01;31m\u001b[Kxy\u001b[m\u001b[K\n",
      "15303:Ato\u001b[01;31m\u001b[Kxy\u001b[m\u001b[Kl\n",
      "15304:ato\u001b[01;31m\u001b[Kxy\u001b[m\u001b[Kl\n",
      "16993:azodicarbo\u001b[01;31m\u001b[Kxy\u001b[m\u001b[Klic\n",
      "17061:azo\u001b[01;31m\u001b[Kxy\u001b[m\u001b[K\n",
      "17062:azo\u001b[01;31m\u001b[Kxy\u001b[m\u001b[Kanisole\n",
      "17063:azo\u001b[01;31m\u001b[Kxy\u001b[m\u001b[Kbenzene\n",
      "17064:azo\u001b[01;31m\u001b[Kxy\u001b[m\u001b[Kbenzoic\n",
      "17065:azo\u001b[01;31m\u001b[Kxy\u001b[m\u001b[Knaphthalene\n",
      "17066:azo\u001b[01;31m\u001b[Kxy\u001b[m\u001b[Kphenetole\n",
      "17067:azo\u001b[01;31m\u001b[Kxy\u001b[m\u001b[Ktoluidine\n",
      "18222:bandbo\u001b[01;31m\u001b[Kxy\u001b[m\u001b[K\n",
      "18733:barota\u001b[01;31m\u001b[Kxy\u001b[m\u001b[K\n",
      "18741:baro\u001b[01;31m\u001b[Kxy\u001b[m\u001b[Kton\n",
      "20976:benzo\u001b[01;31m\u001b[Kxy\u001b[m\u001b[K\n",
      "20977:benzo\u001b[01;31m\u001b[Kxy\u001b[m\u001b[Kacetic\n",
      "20978:benzo\u001b[01;31m\u001b[Kxy\u001b[m\u001b[Kcamphor\n",
      "20979:benzo\u001b[01;31m\u001b[Kxy\u001b[m\u001b[Kphenanthrene\n",
      "22646:biota\u001b[01;31m\u001b[Kxy\u001b[m\u001b[K\n",
      "25351:bo\u001b[01;31m\u001b[Kxy\u001b[m\u001b[K\n",
      "25909:bra\u001b[01;31m\u001b[Kxy\u001b[m\u001b[K\n",
      "27944:buto\u001b[01;31m\u001b[Kxy\u001b[m\u001b[K\n",
      "27945:buto\u001b[01;31m\u001b[Kxy\u001b[m\u001b[Kl\n",
      "28288:cache\u001b[01;31m\u001b[Kxy\u001b[m\u001b[K\n",
      "28331:cacodo\u001b[01;31m\u001b[Kxy\u001b[m\u001b[K\n",
      "28804:calcipe\u001b[01;31m\u001b[Kxy\u001b[m\u001b[K\n",
      "29372:camphocarbo\u001b[01;31m\u001b[Kxy\u001b[m\u001b[Klic\n",
      "30278:carbetho\u001b[01;31m\u001b[Kxy\u001b[m\u001b[K\n",
      "30279:carbetho\u001b[01;31m\u001b[Kxy\u001b[m\u001b[Kl\n",
      "30307:carbol\u001b[01;31m\u001b[Kxy\u001b[m\u001b[Klol\n",
      "30309:carbometho\u001b[01;31m\u001b[Kxy\u001b[m\u001b[K\n",
      "30310:carbometho\u001b[01;31m\u001b[Kxy\u001b[m\u001b[Kl\n",
      "30358:carbo\u001b[01;31m\u001b[Kxy\u001b[m\u001b[K\n",
      "30359:Carbo\u001b[01;31m\u001b[Kxy\u001b[m\u001b[Kdomonas\n",
      "30360:carbo\u001b[01;31m\u001b[Kxy\u001b[m\u001b[Khemoglobin\n",
      "30361:carbo\u001b[01;31m\u001b[Kxy\u001b[m\u001b[Kl\n",
      "30362:carbo\u001b[01;31m\u001b[Kxy\u001b[m\u001b[Klase\n",
      "30363:carbo\u001b[01;31m\u001b[Kxy\u001b[m\u001b[Klate\n",
      "30364:carbo\u001b[01;31m\u001b[Kxy\u001b[m\u001b[Klation\n",
      "30365:carbo\u001b[01;31m\u001b[Kxy\u001b[m\u001b[Klic\n",
      "31507:cataple\u001b[01;31m\u001b[Kxy\u001b[m\u001b[K\n",
      "31908:caulota\u001b[01;31m\u001b[Kxy\u001b[m\u001b[K\n",
      "32979:cero\u001b[01;31m\u001b[Kxy\u001b[m\u001b[Kle\n",
      "32980:Cero\u001b[01;31m\u001b[Kxy\u001b[m\u001b[Klon\n",
      "33223:chaetota\u001b[01;31m\u001b[Kxy\u001b[m\u001b[K\n",
      "34270:chemota\u001b[01;31m\u001b[Kxy\u001b[m\u001b[K\n",
      "35193:cholecystope\u001b[01;31m\u001b[Kxy\u001b[m\u001b[K\n",
      "35832:chromo\u001b[01;31m\u001b[Kxy\u001b[m\u001b[Klograph\n",
      "35833:chromo\u001b[01;31m\u001b[Kxy\u001b[m\u001b[Klography\n",
      "35841:chrona\u001b[01;31m\u001b[Kxy\u001b[m\u001b[K\n",
      "36801:Cithare\u001b[01;31m\u001b[Kxy\u001b[m\u001b[Klum\n",
      "38258:coa\u001b[01;31m\u001b[Kxy\u001b[m\u001b[K\n",
      "38344:cocarbo\u001b[01;31m\u001b[Kxy\u001b[m\u001b[Klase\n",
      "39464:collo\u001b[01;31m\u001b[Kxy\u001b[m\u001b[Klin\n",
      "39539:colonope\u001b[01;31m\u001b[Kxy\u001b[m\u001b[K\n",
      "39545:colope\u001b[01;31m\u001b[Kxy\u001b[m\u001b[K\n",
      "39672:coltpi\u001b[01;31m\u001b[Kxy\u001b[m\u001b[K\n",
      "43801:costopneumope\u001b[01;31m\u001b[Kxy\u001b[m\u001b[K\n",
      "44805:co\u001b[01;31m\u001b[Kxy\u001b[m\u001b[K\n",
      "45437:creso\u001b[01;31m\u001b[Kxy\u001b[m\u001b[K\n",
      "46843:Cupressino\u001b[01;31m\u001b[Kxy\u001b[m\u001b[Klon\n",
      "47451:cyclohe\u001b[01;31m\u001b[Kxy\u001b[m\u001b[Kl\n",
      "47735:Cyno\u001b[01;31m\u001b[Kxy\u001b[m\u001b[Klon\n",
      "48200:Dado\u001b[01;31m\u001b[Kxy\u001b[m\u001b[Klon\n",
      "49310:decarbo\u001b[01;31m\u001b[Kxy\u001b[m\u001b[Klate\n",
      "49311:decarbo\u001b[01;31m\u001b[Kxy\u001b[m\u001b[Klation\n",
      "49312:decarbo\u001b[01;31m\u001b[Kxy\u001b[m\u001b[Klization\n",
      "49313:decarbo\u001b[01;31m\u001b[Kxy\u001b[m\u001b[Klize\n",
      "51203:deo\u001b[01;31m\u001b[Kxy\u001b[m\u001b[Kgenate\n",
      "51204:deo\u001b[01;31m\u001b[Kxy\u001b[m\u001b[Kgenation\n",
      "51205:deo\u001b[01;31m\u001b[Kxy\u001b[m\u001b[Kgenization\n",
      "51959:deso\u001b[01;31m\u001b[Kxy\u001b[m\u001b[Kanisoin\n",
      "51960:deso\u001b[01;31m\u001b[Kxy\u001b[m\u001b[Kbenzoin\n",
      "51961:deso\u001b[01;31m\u001b[Kxy\u001b[m\u001b[Kcinchonine\n",
      "51962:deso\u001b[01;31m\u001b[Kxy\u001b[m\u001b[Kcorticosterone\n",
      "51963:deso\u001b[01;31m\u001b[Kxy\u001b[m\u001b[Kmorphine\n",
      "51964:deso\u001b[01;31m\u001b[Kxy\u001b[m\u001b[Kribonucleic\n",
      "52985:diastata\u001b[01;31m\u001b[Kxy\u001b[m\u001b[K\n",
      "53117:dicarbo\u001b[01;31m\u001b[Kxy\u001b[m\u001b[Klate\n",
      "53118:dicarbo\u001b[01;31m\u001b[Kxy\u001b[m\u001b[Klic\n",
      "53298:Dictyo\u001b[01;31m\u001b[Kxy\u001b[m\u001b[Klon\n",
      "53660:dihydro\u001b[01;31m\u001b[Kxy\u001b[m\u001b[K\n",
      "53661:dihydro\u001b[01;31m\u001b[Kxy\u001b[m\u001b[Ksuccinic\n",
      "53662:dihydro\u001b[01;31m\u001b[Kxy\u001b[m\u001b[Ktoluene\n",
      "53826:dimetho\u001b[01;31m\u001b[Kxy\u001b[m\u001b[K\n",
      "54083:dio\u001b[01;31m\u001b[Kxy\u001b[m\u001b[K\n",
      "55447:diso\u001b[01;31m\u001b[Kxy\u001b[m\u001b[Kgenate\n",
      "55448:diso\u001b[01;31m\u001b[Kxy\u001b[m\u001b[Kgenation\n",
      "56350:di\u001b[01;31m\u001b[Kxy\u001b[m\u001b[K\n",
      "57475:do\u001b[01;31m\u001b[Kxy\u001b[m\u001b[K\n",
      "58123:dru\u001b[01;31m\u001b[Kxy\u001b[m\u001b[K\n",
      "58904:dysore\u001b[01;31m\u001b[Kxy\u001b[m\u001b[K\n",
      "62772:enterope\u001b[01;31m\u001b[Kxy\u001b[m\u001b[K\n",
      "62925:entomota\u001b[01;31m\u001b[Kxy\u001b[m\u001b[K\n",
      "63683:epiplope\u001b[01;31m\u001b[Kxy\u001b[m\u001b[K\n",
      "63913:epi\u001b[01;31m\u001b[Kxy\u001b[m\u001b[Klous\n",
      "64652:Erythro\u001b[01;31m\u001b[Kxy\u001b[m\u001b[Klaceae\n",
      "64653:erythro\u001b[01;31m\u001b[Kxy\u001b[m\u001b[Klaceous\n",
      "64654:erythro\u001b[01;31m\u001b[Kxy\u001b[m\u001b[Kline\n",
      "64655:Erythro\u001b[01;31m\u001b[Kxy\u001b[m\u001b[Klon\n",
      "64656:Erythro\u001b[01;31m\u001b[Kxy\u001b[m\u001b[Klum\n",
      "64827:esothyrope\u001b[01;31m\u001b[Kxy\u001b[m\u001b[K\n",
      "65227:etho\u001b[01;31m\u001b[Kxy\u001b[m\u001b[Kcaffeine\n",
      "65228:etho\u001b[01;31m\u001b[Kxy\u001b[m\u001b[Kl\n",
      "65731:euta\u001b[01;31m\u001b[Kxy\u001b[m\u001b[K\n",
      "70820:fla\u001b[01;31m\u001b[Kxy\u001b[m\u001b[K\n",
      "72632:formaldehydesulpho\u001b[01;31m\u001b[Kxy\u001b[m\u001b[Klate\n",
      "72633:formaldehydesulpho\u001b[01;31m\u001b[Kxy\u001b[m\u001b[Klic\n",
      "73069:fo\u001b[01;31m\u001b[Kxy\u001b[m\u001b[K\n",
      "74803:gala\u001b[01;31m\u001b[Kxy\u001b[m\u001b[K\n",
      "75701:gastrohysterope\u001b[01;31m\u001b[Kxy\u001b[m\u001b[K\n",
      "75743:gastrope\u001b[01;31m\u001b[Kxy\u001b[m\u001b[K\n",
      "75797:gastro\u001b[01;31m\u001b[Kxy\u001b[m\u001b[Knsis\n",
      "76706:geota\u001b[01;31m\u001b[Kxy\u001b[m\u001b[K\n",
      "78256:glyo\u001b[01;31m\u001b[Kxy\u001b[m\u001b[Kl\n",
      "78257:glyo\u001b[01;31m\u001b[Kxy\u001b[m\u001b[Klic\n",
      "81590:haemato\u001b[01;31m\u001b[Kxy\u001b[m\u001b[Klic\n",
      "81591:haemato\u001b[01;31m\u001b[Kxy\u001b[m\u001b[Klin\n",
      "81592:Haemato\u001b[01;31m\u001b[Kxy\u001b[m\u001b[Klon\n",
      "82004:Hamamelido\u001b[01;31m\u001b[Kxy\u001b[m\u001b[Klon\n",
      "84011:hemiata\u001b[01;31m\u001b[Kxy\u001b[m\u001b[K\n",
      "84503:hepatope\u001b[01;31m\u001b[Kxy\u001b[m\u001b[K\n",
      "84556:heptahydro\u001b[01;31m\u001b[Kxy\u001b[m\u001b[K\n",
      "85124:heterodo\u001b[01;31m\u001b[Kxy\u001b[m\u001b[K\n",
      "85337:heterota\u001b[01;31m\u001b[Kxy\u001b[m\u001b[K\n",
      "85472:hexahydro\u001b[01;31m\u001b[Kxy\u001b[m\u001b[K\n",
      "85587:he\u001b[01;31m\u001b[Kxy\u001b[m\u001b[Kl\n",
      "85588:he\u001b[01;31m\u001b[Kxy\u001b[m\u001b[Klene\n",
      "85589:he\u001b[01;31m\u001b[Kxy\u001b[m\u001b[Klic\n",
      "85590:he\u001b[01;31m\u001b[Kxy\u001b[m\u001b[Klresorcinol\n",
      "85591:he\u001b[01;31m\u001b[Kxy\u001b[m\u001b[Kne\n",
      "87109:homota\u001b[01;31m\u001b[Kxy\u001b[m\u001b[K\n",
      "89021:hydro\u001b[01;31m\u001b[Kxy\u001b[m\u001b[K\n",
      "89022:hydro\u001b[01;31m\u001b[Kxy\u001b[m\u001b[Kacetic\n",
      "89023:hydro\u001b[01;31m\u001b[Kxy\u001b[m\u001b[Kanthraquinone\n",
      "89024:hydro\u001b[01;31m\u001b[Kxy\u001b[m\u001b[Kbutyricacid\n",
      "89025:hydro\u001b[01;31m\u001b[Kxy\u001b[m\u001b[Kketone\n",
      "89026:hydro\u001b[01;31m\u001b[Kxy\u001b[m\u001b[Kl\n",
      "89027:hydro\u001b[01;31m\u001b[Kxy\u001b[m\u001b[Klactone\n",
      "89028:hydro\u001b[01;31m\u001b[Kxy\u001b[m\u001b[Klamine\n",
      "89029:hydro\u001b[01;31m\u001b[Kxy\u001b[m\u001b[Klate\n",
      "89030:hydro\u001b[01;31m\u001b[Kxy\u001b[m\u001b[Klation\n",
      "89031:hydro\u001b[01;31m\u001b[Kxy\u001b[m\u001b[Klic\n",
      "89032:hydro\u001b[01;31m\u001b[Kxy\u001b[m\u001b[Klization\n",
      "89033:hydro\u001b[01;31m\u001b[Kxy\u001b[m\u001b[Klize\n",
      "89611:hyperothodo\u001b[01;31m\u001b[Kxy\u001b[m\u001b[K\n",
      "89618:hypero\u001b[01;31m\u001b[Kxy\u001b[m\u001b[Kgenate\n",
      "89619:hypero\u001b[01;31m\u001b[Kxy\u001b[m\u001b[Kgenation\n",
      "89620:hypero\u001b[01;31m\u001b[Kxy\u001b[m\u001b[Kgenize\n",
      "89626:hyperparo\u001b[01;31m\u001b[Kxy\u001b[m\u001b[Ksm\n",
      "90291:Hypo\u001b[01;31m\u001b[Kxy\u001b[m\u001b[Klon\n",
      "90420:hysterope\u001b[01;31m\u001b[Kxy\u001b[m\u001b[K\n",
      "93780:indo\u001b[01;31m\u001b[Kxy\u001b[m\u001b[Kl\n",
      "93781:indo\u001b[01;31m\u001b[Kxy\u001b[m\u001b[Klic\n",
      "93782:indo\u001b[01;31m\u001b[Kxy\u001b[m\u001b[Klsulphuric\n",
      "96573:interparo\u001b[01;31m\u001b[Kxy\u001b[m\u001b[Ksmal\n",
      "97001:inter\u001b[01;31m\u001b[Kxy\u001b[m\u001b[Klary\n",
      "97320:intra\u001b[01;31m\u001b[Kxy\u001b[m\u001b[Klary\n",
      "97838:iodo\u001b[01;31m\u001b[Kxy\u001b[m\u001b[K\n",
      "97839:iodo\u001b[01;31m\u001b[Kxy\u001b[m\u001b[Kbenzene\n",
      "98461:isazo\u001b[01;31m\u001b[Kxy\u001b[m\u001b[K\n",
      "98789:isohe\u001b[01;31m\u001b[Kxy\u001b[m\u001b[Kl\n",
      "99035:iso\u001b[01;31m\u001b[Kxy\u001b[m\u001b[Klene\n",
      "101308:kataple\u001b[01;31m\u001b[Kxy\u001b[m\u001b[K\n",
      "101775:ke\u001b[01;31m\u001b[Kxy\u001b[m\u001b[K\n",
      "104230:laparohysterope\u001b[01;31m\u001b[Kxy\u001b[m\u001b[K\n",
      "104826:laurino\u001b[01;31m\u001b[Kxy\u001b[m\u001b[Klon\n",
      "107043:lino\u001b[01;31m\u001b[Kxy\u001b[m\u001b[Kn\n",
      "107419:litholapa\u001b[01;31m\u001b[Kxy\u001b[m\u001b[K\n",
      "107491:litho\u001b[01;31m\u001b[Kxy\u001b[m\u001b[Kl\n",
      "112175:mastope\u001b[01;31m\u001b[Kxy\u001b[m\u001b[K\n",
      "112619:mazope\u001b[01;31m\u001b[Kxy\u001b[m\u001b[K\n",
      "113269:meiota\u001b[01;31m\u001b[Kxy\u001b[m\u001b[K\n",
      "114712:metagala\u001b[01;31m\u001b[Kxy\u001b[m\u001b[K\n",
      "115042:meta\u001b[01;31m\u001b[Kxy\u001b[m\u001b[Klem\n",
      "115043:meta\u001b[01;31m\u001b[Kxy\u001b[m\u001b[Klene\n",
      "115173:metho\u001b[01;31m\u001b[Kxy\u001b[m\u001b[Kchlor\n",
      "115174:metho\u001b[01;31m\u001b[Kxy\u001b[m\u001b[Kl\n",
      "115348:Metro\u001b[01;31m\u001b[Kxy\u001b[m\u001b[Klon\n",
      "117762:mi\u001b[01;31m\u001b[Kxy\u001b[m\u001b[K\n",
      "118574:monocarbo\u001b[01;31m\u001b[Kxy\u001b[m\u001b[Klic\n",
      "118783:monohydro\u001b[01;31m\u001b[Kxy\u001b[m\u001b[K\n",
      "119117:mono\u001b[01;31m\u001b[Kxy\u001b[m\u001b[Kle\n",
      "119118:mono\u001b[01;31m\u001b[Kxy\u001b[m\u001b[Klic\n",
      "119119:mono\u001b[01;31m\u001b[Kxy\u001b[m\u001b[Klon\n",
      "119120:mono\u001b[01;31m\u001b[Kxy\u001b[m\u001b[Klous\n",
      "121451:myelapople\u001b[01;31m\u001b[Kxy\u001b[m\u001b[K\n",
      "121835:Myro\u001b[01;31m\u001b[Kxy\u001b[m\u001b[Klon\n",
      "123587:nephrocolope\u001b[01;31m\u001b[Kxy\u001b[m\u001b[K\n",
      "123620:nephrope\u001b[01;31m\u001b[Kxy\u001b[m\u001b[K\n",
      "123852:neurata\u001b[01;31m\u001b[Kxy\u001b[m\u001b[K\n",
      "124750:nitro\u001b[01;31m\u001b[Kxy\u001b[m\u001b[Kl\n",
      "126798:nono\u001b[01;31m\u001b[Kxy\u001b[m\u001b[Kgenated\n",
      "126799:nono\u001b[01;31m\u001b[Kxy\u001b[m\u001b[Kgenous\n",
      "128063:nosota\u001b[01;31m\u001b[Kxy\u001b[m\u001b[K\n",
      "130602:omentope\u001b[01;31m\u001b[Kxy\u001b[m\u001b[K\n",
      "130605:omentosplenope\u001b[01;31m\u001b[Kxy\u001b[m\u001b[K\n",
      "131105:oophorope\u001b[01;31m\u001b[Kxy\u001b[m\u001b[K\n",
      "131862:orchidope\u001b[01;31m\u001b[Kxy\u001b[m\u001b[K\n",
      "131880:orchiope\u001b[01;31m\u001b[Kxy\u001b[m\u001b[K\n",
      "132447:orthodo\u001b[01;31m\u001b[Kxy\u001b[m\u001b[K\n",
      "132523:orthopra\u001b[01;31m\u001b[Kxy\u001b[m\u001b[K\n",
      "132596:ortho\u001b[01;31m\u001b[Kxy\u001b[m\u001b[Klene\n",
      "136480:o\u001b[01;31m\u001b[Kxy\u001b[m\u001b[K\n",
      "136481:o\u001b[01;31m\u001b[Kxy\u001b[m\u001b[Kacanthine\n",
      "136482:o\u001b[01;31m\u001b[Kxy\u001b[m\u001b[Kacanthous\n",
      "136483:o\u001b[01;31m\u001b[Kxy\u001b[m\u001b[Kacetylene\n",
      "136484:o\u001b[01;31m\u001b[Kxy\u001b[m\u001b[Kacid\n",
      "136485:O\u001b[01;31m\u001b[Kxy\u001b[m\u001b[Kaena\n",
      "136486:O\u001b[01;31m\u001b[Kxy\u001b[m\u001b[Kaenidae\n",
      "136487:o\u001b[01;31m\u001b[Kxy\u001b[m\u001b[Kaldehyde\n",
      "136488:o\u001b[01;31m\u001b[Kxy\u001b[m\u001b[Kamine\n",
      "136489:o\u001b[01;31m\u001b[Kxy\u001b[m\u001b[Kanthracene\n",
      "136490:o\u001b[01;31m\u001b[Kxy\u001b[m\u001b[Kanthraquinone\n",
      "136491:o\u001b[01;31m\u001b[Kxy\u001b[m\u001b[Kaphia\n",
      "136492:o\u001b[01;31m\u001b[Kxy\u001b[m\u001b[Kaster\n",
      "136493:o\u001b[01;31m\u001b[Kxy\u001b[m\u001b[Kbaphon\n",
      "136494:O\u001b[01;31m\u001b[Kxy\u001b[m\u001b[Kbaphus\n",
      "136495:o\u001b[01;31m\u001b[Kxy\u001b[m\u001b[Kbenzaldehyde\n",
      "136496:o\u001b[01;31m\u001b[Kxy\u001b[m\u001b[Kbenzene\n",
      "136497:o\u001b[01;31m\u001b[Kxy\u001b[m\u001b[Kbenzoic\n",
      "136498:o\u001b[01;31m\u001b[Kxy\u001b[m\u001b[Kbenzyl\n",
      "136499:o\u001b[01;31m\u001b[Kxy\u001b[m\u001b[Kberberine\n",
      "136500:o\u001b[01;31m\u001b[Kxy\u001b[m\u001b[Kblepsia\n",
      "136501:o\u001b[01;31m\u001b[Kxy\u001b[m\u001b[Kbromide\n",
      "136502:o\u001b[01;31m\u001b[Kxy\u001b[m\u001b[Kbutyria\n",
      "136503:o\u001b[01;31m\u001b[Kxy\u001b[m\u001b[Kbutyric\n",
      "136504:o\u001b[01;31m\u001b[Kxy\u001b[m\u001b[Kcalcium\n",
      "136505:o\u001b[01;31m\u001b[Kxy\u001b[m\u001b[Kcalorimeter\n",
      "136506:o\u001b[01;31m\u001b[Kxy\u001b[m\u001b[Kcamphor\n",
      "136507:o\u001b[01;31m\u001b[Kxy\u001b[m\u001b[Kcaproic\n",
      "136508:o\u001b[01;31m\u001b[Kxy\u001b[m\u001b[Kcarbonate\n",
      "136509:o\u001b[01;31m\u001b[Kxy\u001b[m\u001b[Kcellulose\n",
      "136510:o\u001b[01;31m\u001b[Kxy\u001b[m\u001b[Kcephalic\n",
      "136511:o\u001b[01;31m\u001b[Kxy\u001b[m\u001b[Kcephalism\n",
      "136512:o\u001b[01;31m\u001b[Kxy\u001b[m\u001b[Kcephalous\n",
      "136513:o\u001b[01;31m\u001b[Kxy\u001b[m\u001b[Kcephaly\n",
      "136514:o\u001b[01;31m\u001b[Kxy\u001b[m\u001b[Kchlorate\n",
      "136515:o\u001b[01;31m\u001b[Kxy\u001b[m\u001b[Kchloric\n",
      "136516:o\u001b[01;31m\u001b[Kxy\u001b[m\u001b[Kchloride\n",
      "136517:o\u001b[01;31m\u001b[Kxy\u001b[m\u001b[Kcholesterol\n",
      "136518:o\u001b[01;31m\u001b[Kxy\u001b[m\u001b[Kchromatic\n",
      "136519:o\u001b[01;31m\u001b[Kxy\u001b[m\u001b[Kchromatin\n",
      "136520:o\u001b[01;31m\u001b[Kxy\u001b[m\u001b[Kchromatinic\n",
      "136521:o\u001b[01;31m\u001b[Kxy\u001b[m\u001b[Kcinnamic\n",
      "136522:o\u001b[01;31m\u001b[Kxy\u001b[m\u001b[Kcobaltammine\n",
      "136523:O\u001b[01;31m\u001b[Kxy\u001b[m\u001b[Kcoccus\n",
      "136524:o\u001b[01;31m\u001b[Kxy\u001b[m\u001b[Kcopaivic\n",
      "136525:o\u001b[01;31m\u001b[Kxy\u001b[m\u001b[Kcoumarin\n",
      "136526:o\u001b[01;31m\u001b[Kxy\u001b[m\u001b[Kcrate\n",
      "136527:o\u001b[01;31m\u001b[Kxy\u001b[m\u001b[Kcyanide\n",
      "136528:o\u001b[01;31m\u001b[Kxy\u001b[m\u001b[Kdactyl\n",
      "136529:O\u001b[01;31m\u001b[Kxy\u001b[m\u001b[Kdendrum\n",
      "136530:o\u001b[01;31m\u001b[Kxy\u001b[m\u001b[Kdiact\n",
      "136531:o\u001b[01;31m\u001b[Kxy\u001b[m\u001b[Kesthesia\n",
      "136532:o\u001b[01;31m\u001b[Kxy\u001b[m\u001b[Kether\n",
      "136533:o\u001b[01;31m\u001b[Kxy\u001b[m\u001b[Kethyl\n",
      "136534:o\u001b[01;31m\u001b[Kxy\u001b[m\u001b[Kfatty\n",
      "136535:o\u001b[01;31m\u001b[Kxy\u001b[m\u001b[Kfluoride\n",
      "136536:o\u001b[01;31m\u001b[Kxy\u001b[m\u001b[Kgas\n",
      "136537:o\u001b[01;31m\u001b[Kxy\u001b[m\u001b[Kgen\n",
      "136538:o\u001b[01;31m\u001b[Kxy\u001b[m\u001b[Kgenant\n",
      "136539:o\u001b[01;31m\u001b[Kxy\u001b[m\u001b[Kgenate\n",
      "136540:o\u001b[01;31m\u001b[Kxy\u001b[m\u001b[Kgenation\n",
      "136541:o\u001b[01;31m\u001b[Kxy\u001b[m\u001b[Kgenator\n",
      "136542:o\u001b[01;31m\u001b[Kxy\u001b[m\u001b[Kgenerator\n",
      "136543:o\u001b[01;31m\u001b[Kxy\u001b[m\u001b[Kgenic\n",
      "136544:o\u001b[01;31m\u001b[Kxy\u001b[m\u001b[Kgenicity\n",
      "136545:o\u001b[01;31m\u001b[Kxy\u001b[m\u001b[Kgenium\n",
      "136546:o\u001b[01;31m\u001b[Kxy\u001b[m\u001b[Kgenizable\n",
      "136547:o\u001b[01;31m\u001b[Kxy\u001b[m\u001b[Kgenize\n",
      "136548:o\u001b[01;31m\u001b[Kxy\u001b[m\u001b[Kgenizement\n",
      "136549:o\u001b[01;31m\u001b[Kxy\u001b[m\u001b[Kgenizer\n",
      "136550:o\u001b[01;31m\u001b[Kxy\u001b[m\u001b[Kgenous\n",
      "136551:o\u001b[01;31m\u001b[Kxy\u001b[m\u001b[Kgeusia\n",
      "136552:o\u001b[01;31m\u001b[Kxy\u001b[m\u001b[Kgnathous\n",
      "136553:o\u001b[01;31m\u001b[Kxy\u001b[m\u001b[Khalide\n",
      "136554:o\u001b[01;31m\u001b[Kxy\u001b[m\u001b[Khaloid\n",
      "136555:o\u001b[01;31m\u001b[Kxy\u001b[m\u001b[Khematin\n",
      "136556:o\u001b[01;31m\u001b[Kxy\u001b[m\u001b[Khemocyanin\n",
      "136557:o\u001b[01;31m\u001b[Kxy\u001b[m\u001b[Khemoglobin\n",
      "136558:o\u001b[01;31m\u001b[Kxy\u001b[m\u001b[Khexactine\n",
      "136559:o\u001b[01;31m\u001b[Kxy\u001b[m\u001b[Khexaster\n",
      "136560:o\u001b[01;31m\u001b[Kxy\u001b[m\u001b[Khydrate\n",
      "136561:o\u001b[01;31m\u001b[Kxy\u001b[m\u001b[Khydric\n",
      "136562:o\u001b[01;31m\u001b[Kxy\u001b[m\u001b[Khydrogen\n",
      "136563:o\u001b[01;31m\u001b[Kxy\u001b[m\u001b[Kiodide\n",
      "136564:o\u001b[01;31m\u001b[Kxy\u001b[m\u001b[Kketone\n",
      "136565:o\u001b[01;31m\u001b[Kxy\u001b[m\u001b[Kl\n",
      "136566:O\u001b[01;31m\u001b[Kxy\u001b[m\u001b[Klabracidae\n",
      "136567:O\u001b[01;31m\u001b[Kxy\u001b[m\u001b[Klabrax\n",
      "136568:o\u001b[01;31m\u001b[Kxy\u001b[m\u001b[Kluciferin\n",
      "136569:o\u001b[01;31m\u001b[Kxy\u001b[m\u001b[Kluminescence\n",
      "136570:o\u001b[01;31m\u001b[Kxy\u001b[m\u001b[Kluminescent\n",
      "136571:o\u001b[01;31m\u001b[Kxy\u001b[m\u001b[Kmandelic\n",
      "136572:o\u001b[01;31m\u001b[Kxy\u001b[m\u001b[Kmel\n",
      "136573:o\u001b[01;31m\u001b[Kxy\u001b[m\u001b[Kmethylene\n",
      "136574:o\u001b[01;31m\u001b[Kxy\u001b[m\u001b[Kmoron\n",
      "136575:o\u001b[01;31m\u001b[Kxy\u001b[m\u001b[Kmuriate\n",
      "136576:o\u001b[01;31m\u001b[Kxy\u001b[m\u001b[Kmuriatic\n",
      "136577:o\u001b[01;31m\u001b[Kxy\u001b[m\u001b[Knaphthoic\n",
      "136578:o\u001b[01;31m\u001b[Kxy\u001b[m\u001b[Knaphtoquinone\n",
      "136579:o\u001b[01;31m\u001b[Kxy\u001b[m\u001b[Knarcotine\n",
      "136580:o\u001b[01;31m\u001b[Kxy\u001b[m\u001b[Kneurin\n",
      "136581:o\u001b[01;31m\u001b[Kxy\u001b[m\u001b[Kneurine\n",
      "136582:o\u001b[01;31m\u001b[Kxy\u001b[m\u001b[Knitrate\n",
      "136583:o\u001b[01;31m\u001b[Kxy\u001b[m\u001b[Kntic\n",
      "136584:o\u001b[01;31m\u001b[Kxy\u001b[m\u001b[Kophitic\n",
      "136585:o\u001b[01;31m\u001b[Kxy\u001b[m\u001b[Kopia\n",
      "136586:O\u001b[01;31m\u001b[Kxy\u001b[m\u001b[Kopidae\n",
      "136587:o\u001b[01;31m\u001b[Kxy\u001b[m\u001b[Kosphresia\n",
      "136588:o\u001b[01;31m\u001b[Kxy\u001b[m\u001b[Kpetalous\n",
      "136589:o\u001b[01;31m\u001b[Kxy\u001b[m\u001b[Kphenol\n",
      "136590:o\u001b[01;31m\u001b[Kxy\u001b[m\u001b[Kphenyl\n",
      "136591:o\u001b[01;31m\u001b[Kxy\u001b[m\u001b[Kphile\n",
      "136592:o\u001b[01;31m\u001b[Kxy\u001b[m\u001b[Kphilic\n",
      "136593:o\u001b[01;31m\u001b[Kxy\u001b[m\u001b[Kphilous\n",
      "136594:o\u001b[01;31m\u001b[Kxy\u001b[m\u001b[Kphonia\n",
      "136595:o\u001b[01;31m\u001b[Kxy\u001b[m\u001b[Kphosphate\n",
      "136596:o\u001b[01;31m\u001b[Kxy\u001b[m\u001b[Kphthalic\n",
      "136597:o\u001b[01;31m\u001b[Kxy\u001b[m\u001b[Kphyllous\n",
      "136598:o\u001b[01;31m\u001b[Kxy\u001b[m\u001b[Kphyte\n",
      "136599:o\u001b[01;31m\u001b[Kxy\u001b[m\u001b[Kpicric\n",
      "136600:O\u001b[01;31m\u001b[Kxy\u001b[m\u001b[Kpolis\n",
      "136601:o\u001b[01;31m\u001b[Kxy\u001b[m\u001b[Kproline\n",
      "136602:o\u001b[01;31m\u001b[Kxy\u001b[m\u001b[Kpropionic\n",
      "136603:o\u001b[01;31m\u001b[Kxy\u001b[m\u001b[Kpurine\n",
      "136604:o\u001b[01;31m\u001b[Kxy\u001b[m\u001b[Kpycnos\n",
      "136605:o\u001b[01;31m\u001b[Kxy\u001b[m\u001b[Kquinaseptol\n",
      "136606:o\u001b[01;31m\u001b[Kxy\u001b[m\u001b[Kquinoline\n",
      "136607:o\u001b[01;31m\u001b[Kxy\u001b[m\u001b[Kquinone\n",
      "136608:o\u001b[01;31m\u001b[Kxy\u001b[m\u001b[Krhine\n",
      "136609:o\u001b[01;31m\u001b[Kxy\u001b[m\u001b[Krhinous\n",
      "136610:o\u001b[01;31m\u001b[Kxy\u001b[m\u001b[Krhynch\n",
      "136611:o\u001b[01;31m\u001b[Kxy\u001b[m\u001b[Krhynchous\n",
      "136612:o\u001b[01;31m\u001b[Kxy\u001b[m\u001b[Krhynchus\n",
      "136613:O\u001b[01;31m\u001b[Kxy\u001b[m\u001b[Krrhyncha\n",
      "136614:o\u001b[01;31m\u001b[Kxy\u001b[m\u001b[Krrhynchid\n",
      "136615:o\u001b[01;31m\u001b[Kxy\u001b[m\u001b[Ksalicylic\n",
      "136616:o\u001b[01;31m\u001b[Kxy\u001b[m\u001b[Ksalt\n",
      "136617:o\u001b[01;31m\u001b[Kxy\u001b[m\u001b[Kstearic\n",
      "136618:O\u001b[01;31m\u001b[Kxy\u001b[m\u001b[Kstomata\n",
      "136619:o\u001b[01;31m\u001b[Kxy\u001b[m\u001b[Kstomatous\n",
      "136620:o\u001b[01;31m\u001b[Kxy\u001b[m\u001b[Kstome\n",
      "136621:o\u001b[01;31m\u001b[Kxy\u001b[m\u001b[Ksulphate\n",
      "136622:o\u001b[01;31m\u001b[Kxy\u001b[m\u001b[Ksulphide\n",
      "136623:o\u001b[01;31m\u001b[Kxy\u001b[m\u001b[Kterpene\n",
      "136624:o\u001b[01;31m\u001b[Kxy\u001b[m\u001b[Ktocia\n",
      "136625:o\u001b[01;31m\u001b[Kxy\u001b[m\u001b[Ktocic\n",
      "136626:o\u001b[01;31m\u001b[Kxy\u001b[m\u001b[Ktocin\n",
      "136627:o\u001b[01;31m\u001b[Kxy\u001b[m\u001b[Ktocous\n",
      "136628:o\u001b[01;31m\u001b[Kxy\u001b[m\u001b[Ktoluene\n",
      "136629:o\u001b[01;31m\u001b[Kxy\u001b[m\u001b[Ktoluic\n",
      "136630:o\u001b[01;31m\u001b[Kxy\u001b[m\u001b[Ktone\n",
      "136631:o\u001b[01;31m\u001b[Kxy\u001b[m\u001b[Ktonesis\n",
      "136632:o\u001b[01;31m\u001b[Kxy\u001b[m\u001b[Ktonical\n",
      "136633:o\u001b[01;31m\u001b[Kxy\u001b[m\u001b[Ktonize\n",
      "136634:O\u001b[01;31m\u001b[Kxy\u001b[m\u001b[Ktricha\n",
      "136635:O\u001b[01;31m\u001b[Kxy\u001b[m\u001b[Ktropis\n",
      "136636:o\u001b[01;31m\u001b[Kxy\u001b[m\u001b[Ktylotate\n",
      "136637:o\u001b[01;31m\u001b[Kxy\u001b[m\u001b[Ktylote\n",
      "136638:o\u001b[01;31m\u001b[Kxy\u001b[m\u001b[Kuriasis\n",
      "136639:o\u001b[01;31m\u001b[Kxy\u001b[m\u001b[Kuricide\n",
      "136640:O\u001b[01;31m\u001b[Kxy\u001b[m\u001b[Kuridae\n"
     ]
    },
    {
     "name": "stdout",
     "output_type": "stream",
     "text": [
      "136641:o\u001b[01;31m\u001b[Kxy\u001b[m\u001b[Kurous\n",
      "136642:o\u001b[01;31m\u001b[Kxy\u001b[m\u001b[Kwelding\n",
      "138193:panmi\u001b[01;31m\u001b[Kxy\u001b[m\u001b[K\n",
      "138849:parado\u001b[01;31m\u001b[Kxy\u001b[m\u001b[K\n",
      "139351:para\u001b[01;31m\u001b[Kxy\u001b[m\u001b[Klene\n",
      "139737:paro\u001b[01;31m\u001b[Kxy\u001b[m\u001b[Ksm\n",
      "139738:paro\u001b[01;31m\u001b[Kxy\u001b[m\u001b[Ksmal\n",
      "139739:paro\u001b[01;31m\u001b[Kxy\u001b[m\u001b[Ksmalist\n",
      "139740:paro\u001b[01;31m\u001b[Kxy\u001b[m\u001b[Ksmally\n",
      "139741:paro\u001b[01;31m\u001b[Kxy\u001b[m\u001b[Ksmic\n",
      "139742:paro\u001b[01;31m\u001b[Kxy\u001b[m\u001b[Ksmist\n",
      "139743:paro\u001b[01;31m\u001b[Kxy\u001b[m\u001b[Ktone\n",
      "139744:paro\u001b[01;31m\u001b[Kxy\u001b[m\u001b[Ktonic\n",
      "139745:paro\u001b[01;31m\u001b[Kxy\u001b[m\u001b[Ktonize\n",
      "141836:pentahydro\u001b[01;31m\u001b[Kxy\u001b[m\u001b[K\n",
      "142816:periphra\u001b[01;31m\u001b[Kxy\u001b[m\u001b[K\n",
      "142984:peritoneope\u001b[01;31m\u001b[Kxy\u001b[m\u001b[K\n",
      "143215:pero\u001b[01;31m\u001b[Kxy\u001b[m\u001b[K\n",
      "143216:pero\u001b[01;31m\u001b[Kxy\u001b[m\u001b[Kl\n",
      "144473:phenylglyo\u001b[01;31m\u001b[Kxy\u001b[m\u001b[Klic\n",
      "144737:philo\u001b[01;31m\u001b[Kxy\u001b[m\u001b[Kgenous\n",
      "144789:phlebope\u001b[01;31m\u001b[Kxy\u001b[m\u001b[K\n",
      "145484:photota\u001b[01;31m\u001b[Kxy\u001b[m\u001b[K\n",
      "145525:photo\u001b[01;31m\u001b[Kxy\u001b[m\u001b[Klography\n",
      "145844:phyllota\u001b[01;31m\u001b[Kxy\u001b[m\u001b[K\n",
      "147552:pi\u001b[01;31m\u001b[Kxy\u001b[m\u001b[K\n",
      "149262:pneumonope\u001b[01;31m\u001b[Kxy\u001b[m\u001b[K\n",
      "149275:pneumope\u001b[01;31m\u001b[Kxy\u001b[m\u001b[K\n",
      "150021:polycarbo\u001b[01;31m\u001b[Kxy\u001b[m\u001b[Klic\n",
      "150258:polyhydro\u001b[01;31m\u001b[Kxy\u001b[m\u001b[K\n",
      "150402:polyo\u001b[01;31m\u001b[Kxy\u001b[m\u001b[Kmethylene\n",
      "151818:postparo\u001b[01;31m\u001b[Kxy\u001b[m\u001b[Ksmal\n",
      "151961:post\u001b[01;31m\u001b[Kxy\u001b[m\u001b[Kphoid\n",
      "152229:po\u001b[01;31m\u001b[Kxy\u001b[m\u001b[K\n",
      "154516:preparo\u001b[01;31m\u001b[Kxy\u001b[m\u001b[Ksmal\n",
      "155494:pre\u001b[01;31m\u001b[Kxy\u001b[m\u001b[K\n",
      "157049:propanedicarbo\u001b[01;31m\u001b[Kxy\u001b[m\u001b[Klic\n",
      "157059:proparo\u001b[01;31m\u001b[Kxy\u001b[m\u001b[Ktone\n",
      "157060:proparo\u001b[01;31m\u001b[Kxy\u001b[m\u001b[Ktonic\n",
      "157130:prophyla\u001b[01;31m\u001b[Kxy\u001b[m\u001b[K\n",
      "157222:propo\u001b[01;31m\u001b[Kxy\u001b[m\u001b[K\n",
      "157705:proteope\u001b[01;31m\u001b[Kxy\u001b[m\u001b[K\n",
      "158084:proto\u001b[01;31m\u001b[Kxy\u001b[m\u001b[Klem\n",
      "158313:pro\u001b[01;31m\u001b[Kxy\u001b[m\u001b[K\n",
      "158314:pro\u001b[01;31m\u001b[Kxy\u001b[m\u001b[Kship\n",
      "158315:pro\u001b[01;31m\u001b[Kxy\u001b[m\u001b[Ksm\n",
      "158543:pseudoapople\u001b[01;31m\u001b[Kxy\u001b[m\u001b[K\n",
      "158665:pseudodo\u001b[01;31m\u001b[Kxy\u001b[m\u001b[K\n",
      "160532:pu\u001b[01;31m\u001b[Kxy\u001b[m\u001b[K\n",
      "161057:pyro\u001b[01;31m\u001b[Kxy\u001b[m\u001b[Kle\n",
      "161058:pyro\u001b[01;31m\u001b[Kxy\u001b[m\u001b[Klene\n",
      "161059:pyro\u001b[01;31m\u001b[Kxy\u001b[m\u001b[Klic\n",
      "161060:pyro\u001b[01;31m\u001b[Kxy\u001b[m\u001b[Klin\n",
      "164940:rectope\u001b[01;31m\u001b[Kxy\u001b[m\u001b[K\n",
      "166980:reo\u001b[01;31m\u001b[Kxy\u001b[m\u001b[Kgenate\n",
      "166981:reo\u001b[01;31m\u001b[Kxy\u001b[m\u001b[Kgenize\n",
      "169464:rhizota\u001b[01;31m\u001b[Kxy\u001b[m\u001b[K\n",
      "170284:ri\u001b[01;31m\u001b[Kxy\u001b[m\u001b[K\n",
      "171333:Ro\u001b[01;31m\u001b[Kxy\u001b[m\u001b[K\n",
      "171334:ro\u001b[01;31m\u001b[Kxy\u001b[m\u001b[K\n",
      "172859:salpingope\u001b[01;31m\u001b[Kxy\u001b[m\u001b[K\n",
      "174486:scapulope\u001b[01;31m\u001b[Kxy\u001b[m\u001b[K\n",
      "177819:semio\u001b[01;31m\u001b[Kxy\u001b[m\u001b[Kgenated\n",
      "177820:semio\u001b[01;31m\u001b[Kxy\u001b[m\u001b[Kgenized\n",
      "179415:se\u001b[01;31m\u001b[Kxy\u001b[m\u001b[K\n",
      "181102:Sidero\u001b[01;31m\u001b[Kxy\u001b[m\u001b[Klon\n",
      "181254:sigmoidope\u001b[01;31m\u001b[Kxy\u001b[m\u001b[K\n",
      "182336:skato\u001b[01;31m\u001b[Kxy\u001b[m\u001b[Kl\n",
      "187182:splenope\u001b[01;31m\u001b[Kxy\u001b[m\u001b[K\n",
      "188595:stanno\u001b[01;31m\u001b[Kxy\u001b[m\u001b[Kl\n",
      "190144:stomo\u001b[01;31m\u001b[Kxy\u001b[m\u001b[Ks\n",
      "193598:sulfo\u001b[01;31m\u001b[Kxy\u001b[m\u001b[Klate\n",
      "193599:sulfo\u001b[01;31m\u001b[Kxy\u001b[m\u001b[Klic\n",
      "193812:sulpho\u001b[01;31m\u001b[Kxy\u001b[m\u001b[Klate\n",
      "193813:sulpho\u001b[01;31m\u001b[Kxy\u001b[m\u001b[Klic\n",
      "193814:sulpho\u001b[01;31m\u001b[Kxy\u001b[m\u001b[Kphosphate\n",
      "194794:supero\u001b[01;31m\u001b[Kxy\u001b[m\u001b[Kgenate\n",
      "194795:supero\u001b[01;31m\u001b[Kxy\u001b[m\u001b[Kgenation\n",
      "198956:ta\u001b[01;31m\u001b[Kxy\u001b[m\u001b[K\n",
      "200690:tetracarbo\u001b[01;31m\u001b[Kxy\u001b[m\u001b[Klate\n",
      "200691:tetracarbo\u001b[01;31m\u001b[Kxy\u001b[m\u001b[Klic\n",
      "200792:tetrahydro\u001b[01;31m\u001b[Kxy\u001b[m\u001b[K\n",
      "205278:To\u001b[01;31m\u001b[Kxy\u001b[m\u001b[Klon\n",
      "206836:tricarbo\u001b[01;31m\u001b[Kxy\u001b[m\u001b[Klic\n",
      "207303:trihydro\u001b[01;31m\u001b[Kxy\u001b[m\u001b[K\n",
      "207413:trimetho\u001b[01;31m\u001b[Kxy\u001b[m\u001b[K\n",
      "207482:trinitro\u001b[01;31m\u001b[Kxy\u001b[m\u001b[Klene\n",
      "207483:trinitro\u001b[01;31m\u001b[Kxy\u001b[m\u001b[Klol\n",
      "207562:trio\u001b[01;31m\u001b[Kxy\u001b[m\u001b[Kmethylene\n",
      "207981:Tri\u001b[01;31m\u001b[Kxy\u001b[m\u001b[K\n",
      "209944:typhlope\u001b[01;31m\u001b[Kxy\u001b[m\u001b[K\n",
      "210452:ultraorthodo\u001b[01;31m\u001b[Kxy\u001b[m\u001b[K\n",
      "216823:unfo\u001b[01;31m\u001b[Kxy\u001b[m\u001b[K\n",
      "220107:unorthodo\u001b[01;31m\u001b[Kxy\u001b[m\u001b[K\n",
      "220148:uno\u001b[01;31m\u001b[Kxy\u001b[m\u001b[Kgenated\n",
      "220149:uno\u001b[01;31m\u001b[Kxy\u001b[m\u001b[Kgenized\n",
      "226162:uroto\u001b[01;31m\u001b[Kxy\u001b[m\u001b[K\n",
      "226370:uterope\u001b[01;31m\u001b[Kxy\u001b[m\u001b[K\n",
      "226645:vaginope\u001b[01;31m\u001b[Kxy\u001b[m\u001b[K\n",
      "227779:ventrohysterope\u001b[01;31m\u001b[Kxy\u001b[m\u001b[K\n",
      "230949:wa\u001b[01;31m\u001b[Kxy\u001b[m\u001b[K\n",
      "233977:xantho\u001b[01;31m\u001b[Kxy\u001b[m\u001b[Klin\n",
      "234174:\u001b[01;31m\u001b[Kxy\u001b[m\u001b[Kla\n",
      "234175:\u001b[01;31m\u001b[Kxy\u001b[m\u001b[Klan\n",
      "234178:\u001b[01;31m\u001b[Kxy\u001b[m\u001b[Klate\n",
      "234180:\u001b[01;31m\u001b[Kxy\u001b[m\u001b[Klem\n",
      "234181:\u001b[01;31m\u001b[Kxy\u001b[m\u001b[Klene\n",
      "234182:\u001b[01;31m\u001b[Kxy\u001b[m\u001b[Klenol\n",
      "234183:\u001b[01;31m\u001b[Kxy\u001b[m\u001b[Klenyl\n",
      "234184:\u001b[01;31m\u001b[Kxy\u001b[m\u001b[Kletic\n",
      "234186:\u001b[01;31m\u001b[Kxy\u001b[m\u001b[Klic\n",
      "234187:\u001b[01;31m\u001b[Kxy\u001b[m\u001b[Klidic\n",
      "234188:\u001b[01;31m\u001b[Kxy\u001b[m\u001b[Klidine\n",
      "234190:\u001b[01;31m\u001b[Kxy\u001b[m\u001b[Klindein\n",
      "234191:\u001b[01;31m\u001b[Kxy\u001b[m\u001b[Klinid\n",
      "234192:\u001b[01;31m\u001b[Kxy\u001b[m\u001b[Klite\n",
      "234193:\u001b[01;31m\u001b[Kxy\u001b[m\u001b[Klitol\n",
      "234194:\u001b[01;31m\u001b[Kxy\u001b[m\u001b[Klitone\n",
      "234195:\u001b[01;31m\u001b[Kxy\u001b[m\u001b[Klobalsamum\n",
      "234196:\u001b[01;31m\u001b[Kxy\u001b[m\u001b[Klocarp\n",
      "234197:\u001b[01;31m\u001b[Kxy\u001b[m\u001b[Klocarpous\n",
      "234199:\u001b[01;31m\u001b[Kxy\u001b[m\u001b[Klocopid\n",
      "234201:\u001b[01;31m\u001b[Kxy\u001b[m\u001b[Klogen\n",
      "234202:\u001b[01;31m\u001b[Kxy\u001b[m\u001b[Kloglyphy\n",
      "234203:\u001b[01;31m\u001b[Kxy\u001b[m\u001b[Klograph\n",
      "234204:\u001b[01;31m\u001b[Kxy\u001b[m\u001b[Klographer\n",
      "234205:\u001b[01;31m\u001b[Kxy\u001b[m\u001b[Klographic\n",
      "234206:\u001b[01;31m\u001b[Kxy\u001b[m\u001b[Klographical\n",
      "234207:\u001b[01;31m\u001b[Kxy\u001b[m\u001b[Klographically\n",
      "234208:\u001b[01;31m\u001b[Kxy\u001b[m\u001b[Klography\n",
      "234209:\u001b[01;31m\u001b[Kxy\u001b[m\u001b[Kloid\n",
      "234210:\u001b[01;31m\u001b[Kxy\u001b[m\u001b[Kloidin\n",
      "234211:\u001b[01;31m\u001b[Kxy\u001b[m\u001b[Klol\n",
      "234212:\u001b[01;31m\u001b[Kxy\u001b[m\u001b[Klology\n",
      "234213:\u001b[01;31m\u001b[Kxy\u001b[m\u001b[Kloma\n",
      "234214:\u001b[01;31m\u001b[Kxy\u001b[m\u001b[Klomancy\n",
      "234215:\u001b[01;31m\u001b[Kxy\u001b[m\u001b[Klometer\n",
      "234216:\u001b[01;31m\u001b[Kxy\u001b[m\u001b[Klon\n",
      "234217:\u001b[01;31m\u001b[Kxy\u001b[m\u001b[Klonic\n",
      "234219:\u001b[01;31m\u001b[Kxy\u001b[m\u001b[Klonitrile\n",
      "234221:\u001b[01;31m\u001b[Kxy\u001b[m\u001b[Klophagan\n",
      "234222:\u001b[01;31m\u001b[Kxy\u001b[m\u001b[Klophage\n",
      "234223:\u001b[01;31m\u001b[Kxy\u001b[m\u001b[Klophagid\n",
      "234225:\u001b[01;31m\u001b[Kxy\u001b[m\u001b[Klophagous\n",
      "234227:\u001b[01;31m\u001b[Kxy\u001b[m\u001b[Klophilous\n",
      "234228:\u001b[01;31m\u001b[Kxy\u001b[m\u001b[Klophone\n",
      "234229:\u001b[01;31m\u001b[Kxy\u001b[m\u001b[Klophonic\n",
      "234230:\u001b[01;31m\u001b[Kxy\u001b[m\u001b[Klophonist\n",
      "234232:\u001b[01;31m\u001b[Kxy\u001b[m\u001b[Kloplastic\n",
      "234233:\u001b[01;31m\u001b[Kxy\u001b[m\u001b[Klopyrography\n",
      "234234:\u001b[01;31m\u001b[Kxy\u001b[m\u001b[Kloquinone\n",
      "234235:\u001b[01;31m\u001b[Kxy\u001b[m\u001b[Klorcin\n",
      "234236:\u001b[01;31m\u001b[Kxy\u001b[m\u001b[Klorcinol\n",
      "234237:\u001b[01;31m\u001b[Kxy\u001b[m\u001b[Klose\n",
      "234238:\u001b[01;31m\u001b[Kxy\u001b[m\u001b[Kloside\n",
      "234240:\u001b[01;31m\u001b[Kxy\u001b[m\u001b[Klostroma\n",
      "234241:\u001b[01;31m\u001b[Kxy\u001b[m\u001b[Klostromata\n",
      "234242:\u001b[01;31m\u001b[Kxy\u001b[m\u001b[Klostromatoid\n",
      "234243:\u001b[01;31m\u001b[Kxy\u001b[m\u001b[Klotile\n",
      "234244:\u001b[01;31m\u001b[Kxy\u001b[m\u001b[Klotomist\n",
      "234245:\u001b[01;31m\u001b[Kxy\u001b[m\u001b[Klotomous\n",
      "234246:\u001b[01;31m\u001b[Kxy\u001b[m\u001b[Klotomy\n",
      "234248:\u001b[01;31m\u001b[Kxy\u001b[m\u001b[Klotypographic\n",
      "234249:\u001b[01;31m\u001b[Kxy\u001b[m\u001b[Klotypography\n",
      "234250:\u001b[01;31m\u001b[Kxy\u001b[m\u001b[Kloyl\n",
      "234251:\u001b[01;31m\u001b[Kxy\u001b[m\u001b[Klyl\n",
      "234252:\u001b[01;31m\u001b[Kxy\u001b[m\u001b[Klylene\n",
      "234253:\u001b[01;31m\u001b[Kxy\u001b[m\u001b[Klylic\n",
      "234254:\u001b[01;31m\u001b[Kxy\u001b[m\u001b[Kphoid\n",
      "234256:\u001b[01;31m\u001b[Kxy\u001b[m\u001b[Krid\n",
      "234258:\u001b[01;31m\u001b[Kxy\u001b[m\u001b[Kridaceous\n",
      "234261:\u001b[01;31m\u001b[Kxy\u001b[m\u001b[Kst\n",
      "234262:\u001b[01;31m\u001b[Kxy\u001b[m\u001b[Kster\n",
      "234263:\u001b[01;31m\u001b[Kxy\u001b[m\u001b[Ksti\n",
      "234264:\u001b[01;31m\u001b[Kxy\u001b[m\u001b[Kstos\n",
      "234265:\u001b[01;31m\u001b[Kxy\u001b[m\u001b[Kstum\n",
      "234266:\u001b[01;31m\u001b[Kxy\u001b[m\u001b[Kstus\n",
      "235010:Zantho\u001b[01;31m\u001b[Kxy\u001b[m\u001b[Klaceae\n",
      "235011:Zantho\u001b[01;31m\u001b[Kxy\u001b[m\u001b[Klum\n",
      "235012:zantho\u001b[01;31m\u001b[Kxy\u001b[m\u001b[Klum\n",
      "235655:zoota\u001b[01;31m\u001b[Kxy\u001b[m\u001b[K\n"
     ]
    }
   ],
   "source": [
    "!grep -n --color -E '[x]+[y]+' /usr/share/dict/words"
   ]
  },
  {
   "cell_type": "code",
   "execution_count": 58,
   "metadata": {},
   "outputs": [
    {
     "name": "stdout",
     "output_type": "stream",
     "text": [
      "4: * $FreeBSD: src/usr.bin/calendar/calendars/calendar.computer,v \u001b[01;31m\u001b[K1\u001b[m\u001b[K.\u001b[01;31m\u001b[K11\u001b[m\u001b[K \u001b[01;31m\u001b[K2007\u001b[m\u001b[K/\u001b[01;31m\u001b[K09\u001b[m\u001b[K/\u001b[01;31m\u001b[K07\u001b[m\u001b[K \u001b[01;31m\u001b[K03\u001b[m\u001b[K:\u001b[01;31m\u001b[K23\u001b[m\u001b[K:\u001b[01;31m\u001b[K06\u001b[m\u001b[K edwin Exp $\r\n",
      "10:\u001b[01;31m\u001b[K01\u001b[m\u001b[K/\u001b[01;31m\u001b[K01\u001b[m\u001b[K\tAT&T officially divests its local Bell companies, \u001b[01;31m\u001b[K1984\u001b[m\u001b[K\r\n",
      "11:\u001b[01;31m\u001b[K01\u001b[m\u001b[K/\u001b[01;31m\u001b[K01\u001b[m\u001b[K\tThe Epoch (Time \u001b[01;31m\u001b[K0\u001b[m\u001b[K for UNIX systems, Midnight GMT, \u001b[01;31m\u001b[K1970\u001b[m\u001b[K)\r\n",
      "12:\u001b[01;31m\u001b[K01\u001b[m\u001b[K/\u001b[01;31m\u001b[K03\u001b[m\u001b[K\tApple Computer founded, \u001b[01;31m\u001b[K1977\u001b[m\u001b[K\r\n",
      "13:\u001b[01;31m\u001b[K01\u001b[m\u001b[K/\u001b[01;31m\u001b[K08\u001b[m\u001b[K\tAmerican Telephone and Telegraph loses antitrust case, \u001b[01;31m\u001b[K1982\u001b[m\u001b[K\r\n",
      "14:\u001b[01;31m\u001b[K01\u001b[m\u001b[K/\u001b[01;31m\u001b[K08\u001b[m\u001b[K\tHerman Hollerith patents first data processing computer, \u001b[01;31m\u001b[K1889\u001b[m\u001b[K\r\n",
      "15:\u001b[01;31m\u001b[K01\u001b[m\u001b[K/\u001b[01;31m\u001b[K08\u001b[m\u001b[K\tJustice Dept. drops IBM suit, \u001b[01;31m\u001b[K1982\u001b[m\u001b[K\r\n",
      "16:\u001b[01;31m\u001b[K01\u001b[m\u001b[K/\u001b[01;31m\u001b[K10\u001b[m\u001b[K\tFirst CDC \u001b[01;31m\u001b[K1604\u001b[m\u001b[K delivered to Navy, \u001b[01;31m\u001b[K1960\u001b[m\u001b[K\r\n",
      "17:\u001b[01;31m\u001b[K01\u001b[m\u001b[K/\u001b[01;31m\u001b[K16\u001b[m\u001b[K\tSet uid bit patent issued, to Dennis Ritchie, \u001b[01;31m\u001b[K1979\u001b[m\u001b[K\r\n",
      "18:\u001b[01;31m\u001b[K01\u001b[m\u001b[K/\u001b[01;31m\u001b[K17\u001b[m\u001b[K\tJustice Dept. begins IBM anti-trust suit, \u001b[01;31m\u001b[K1969\u001b[m\u001b[K (drops it, January \u001b[01;31m\u001b[K8\u001b[m\u001b[K, \u001b[01;31m\u001b[K1982\u001b[m\u001b[K)\r\n",
      "19:\u001b[01;31m\u001b[K01\u001b[m\u001b[K/\u001b[01;31m\u001b[K24\u001b[m\u001b[K\tDG Nova introduced, \u001b[01;31m\u001b[K1969\u001b[m\u001b[K\r\n",
      "20:\u001b[01;31m\u001b[K01\u001b[m\u001b[K/\u001b[01;31m\u001b[K25\u001b[m\u001b[K\tFirst U.S. meeting of ALGOL definition committee, \u001b[01;31m\u001b[K1958\u001b[m\u001b[K\r\n",
      "21:\u001b[01;31m\u001b[K01\u001b[m\u001b[K/\u001b[01;31m\u001b[K26\u001b[m\u001b[K\tEDVAC demonstrated, \u001b[01;31m\u001b[K1952\u001b[m\u001b[K\r\n",
      "22:\u001b[01;31m\u001b[K01\u001b[m\u001b[K/\u001b[01;31m\u001b[K31\u001b[m\u001b[K\tHewlett-Packard founded, \u001b[01;31m\u001b[K1939\u001b[m\u001b[K\r\n",
      "23:\u001b[01;31m\u001b[K02\u001b[m\u001b[K/\u001b[01;31m\u001b[K11\u001b[m\u001b[K\tLast day of JOSS service at RAND Corp., \u001b[01;31m\u001b[K1966\u001b[m\u001b[K\r\n",
      "24:\u001b[01;31m\u001b[K02\u001b[m\u001b[K/\u001b[01;31m\u001b[K14\u001b[m\u001b[K\tFirst micro-on-a-chip patented (TI), \u001b[01;31m\u001b[K1978\u001b[m\u001b[K\r\n",
      "25:\u001b[01;31m\u001b[K02\u001b[m\u001b[K/\u001b[01;31m\u001b[K15\u001b[m\u001b[K\tENIAC demonstrated, \u001b[01;31m\u001b[K1946\u001b[m\u001b[K\r\n",
      "26:\u001b[01;31m\u001b[K03\u001b[m\u001b[K/\u001b[01;31m\u001b[K01\u001b[m\u001b[K\tFirst NPL (later PL/I) report published, \u001b[01;31m\u001b[K1964\u001b[m\u001b[K\r\n",
      "27:\u001b[01;31m\u001b[K03\u001b[m\u001b[K/\u001b[01;31m\u001b[K04\u001b[m\u001b[K\tFirst Cray-\u001b[01;31m\u001b[K1\u001b[m\u001b[K shipped to Los Alamos\r\n",
      "28:\u001b[01;31m\u001b[K03\u001b[m\u001b[K/\u001b[01;31m\u001b[K09\u001b[m\u001b[K\t\"GOTO considered harmful\" (E.J. Dijkstra) published in CACM, \u001b[01;31m\u001b[K1968\u001b[m\u001b[K\r\n",
      "29:\u001b[01;31m\u001b[K03\u001b[m\u001b[K/\u001b[01;31m\u001b[K14\u001b[m\u001b[K\tLISP introduced, \u001b[01;31m\u001b[K1960\u001b[m\u001b[K\r\n",
      "30:\u001b[01;31m\u001b[K03\u001b[m\u001b[K/\u001b[01;31m\u001b[K28\u001b[m\u001b[K\tDEC announces PDP-\u001b[01;31m\u001b[K11\u001b[m\u001b[K, \u001b[01;31m\u001b[K1970\u001b[m\u001b[K\r\n",
      "31:\u001b[01;31m\u001b[K03\u001b[m\u001b[K/\u001b[01;31m\u001b[K31\u001b[m\u001b[K\tEckert-Mauchly Computer Corp. founded, Phila, \u001b[01;31m\u001b[K1946\u001b[m\u001b[K\r\n",
      "32:\u001b[01;31m\u001b[K04\u001b[m\u001b[K/\u001b[01;31m\u001b[K01\u001b[m\u001b[K\tYourdon, Inc. founded, \u001b[01;31m\u001b[K1974\u001b[m\u001b[K (It figures.)\r\n",
      "33:\u001b[01;31m\u001b[K04\u001b[m\u001b[K/\u001b[01;31m\u001b[K03\u001b[m\u001b[K\tIBM \u001b[01;31m\u001b[K701\u001b[m\u001b[K introduced, \u001b[01;31m\u001b[K1953\u001b[m\u001b[K\r\n",
      "34:\u001b[01;31m\u001b[K04\u001b[m\u001b[K/\u001b[01;31m\u001b[K04\u001b[m\u001b[K\tTandy Corp. acquires Radio Shack, \u001b[01;31m\u001b[K1963\u001b[m\u001b[K (\u001b[01;31m\u001b[K9\u001b[m\u001b[K stores)\r\n",
      "35:\u001b[01;31m\u001b[K04\u001b[m\u001b[K/\u001b[01;31m\u001b[K07\u001b[m\u001b[K\tIBM announces System/\u001b[01;31m\u001b[K360\u001b[m\u001b[K, \u001b[01;31m\u001b[K1964\u001b[m\u001b[K\r\n",
      "36:\u001b[01;31m\u001b[K04\u001b[m\u001b[K/\u001b[01;31m\u001b[K09\u001b[m\u001b[K\tENIAC Project begun, \u001b[01;31m\u001b[K1943\u001b[m\u001b[K\r\n",
      "37:\u001b[01;31m\u001b[K04\u001b[m\u001b[K/\u001b[01;31m\u001b[K28\u001b[m\u001b[K\tZilog Z-\u001b[01;31m\u001b[K80\u001b[m\u001b[K introduced, \u001b[01;31m\u001b[K1976\u001b[m\u001b[K\r\n",
      "38:\u001b[01;31m\u001b[K05\u001b[m\u001b[K/\u001b[01;31m\u001b[K06\u001b[m\u001b[K\tEDSAC demonstrated, \u001b[01;31m\u001b[K1949\u001b[m\u001b[K\r\n",
      "39:\u001b[01;31m\u001b[K05\u001b[m\u001b[K/\u001b[01;31m\u001b[K01\u001b[m\u001b[K\tFirst BASIC program run at Dartmouth, \u001b[01;31m\u001b[K1964\u001b[m\u001b[K\r\n",
      "40:\u001b[01;31m\u001b[K05\u001b[m\u001b[K/\u001b[01;31m\u001b[K16\u001b[m\u001b[K\tFirst report on SNOBOL distributed (within BTL), \u001b[01;31m\u001b[K1963\u001b[m\u001b[K\r\n",
      "41:\u001b[01;31m\u001b[K05\u001b[m\u001b[K/\u001b[01;31m\u001b[K19\u001b[m\u001b[K\tUNIX is \u001b[01;31m\u001b[K10000\u001b[m\u001b[K days old, \u001b[01;31m\u001b[K1997\u001b[m\u001b[K\r\n",
      "42:\u001b[01;31m\u001b[K05\u001b[m\u001b[K/\u001b[01;31m\u001b[K21\u001b[m\u001b[K\tDEC announces PDP-\u001b[01;31m\u001b[K8\u001b[m\u001b[K, \u001b[01;31m\u001b[K1965\u001b[m\u001b[K\r\n",
      "43:\u001b[01;31m\u001b[K05\u001b[m\u001b[K/\u001b[01;31m\u001b[K22\u001b[m\u001b[K\tEthernet first described, \u001b[01;31m\u001b[K1973\u001b[m\u001b[K\r\n",
      "44:\u001b[01;31m\u001b[K05\u001b[m\u001b[K/\u001b[01;31m\u001b[K27\u001b[m\u001b[K\tFirst joint meeting of U.S. and European ALGOL definition cte., \u001b[01;31m\u001b[K1958\u001b[m\u001b[K\r\n",
      "45:\u001b[01;31m\u001b[K05\u001b[m\u001b[K/\u001b[01;31m\u001b[K28\u001b[m\u001b[K\tFirst meeting of COBOL definition cte. (eventually CODASYL), \u001b[01;31m\u001b[K1959\u001b[m\u001b[K\r\n",
      "46:\u001b[01;31m\u001b[K05\u001b[m\u001b[K/\u001b[01;31m\u001b[K30\u001b[m\u001b[K\tColossus Mark II, \u001b[01;31m\u001b[K1944\u001b[m\u001b[K\r\n",
      "47:\u001b[01;31m\u001b[K06\u001b[m\u001b[K/\u001b[01;31m\u001b[K02\u001b[m\u001b[K\tFirst issue of Computerworld, \u001b[01;31m\u001b[K1967\u001b[m\u001b[K\r\n",
      "48:\u001b[01;31m\u001b[K06\u001b[m\u001b[K/\u001b[01;31m\u001b[K07\u001b[m\u001b[K\tAlan Mathison Turing died, \u001b[01;31m\u001b[K1954\u001b[m\u001b[K\r\n",
      "49:\u001b[01;31m\u001b[K06\u001b[m\u001b[K/\u001b[01;31m\u001b[K10\u001b[m\u001b[K\tFirst Apple II shipped, \u001b[01;31m\u001b[K1977\u001b[m\u001b[K\r\n",
      "50:\u001b[01;31m\u001b[K06\u001b[m\u001b[K/\u001b[01;31m\u001b[K15\u001b[m\u001b[K\tUNIVAC I delivered to the Census Bureau, \u001b[01;31m\u001b[K1951\u001b[m\u001b[K\r\n",
      "51:\u001b[01;31m\u001b[K06\u001b[m\u001b[K/\u001b[01;31m\u001b[K16\u001b[m\u001b[K\tFirst publicized programming error at Census Bureau, \u001b[01;31m\u001b[K1951\u001b[m\u001b[K\r\n",
      "52:\u001b[01;31m\u001b[K06\u001b[m\u001b[K/\u001b[01;31m\u001b[K23\u001b[m\u001b[K\tIBM unbundles software, \u001b[01;31m\u001b[K1969\u001b[m\u001b[K\r\n",
      "53:\u001b[01;31m\u001b[K06\u001b[m\u001b[K/\u001b[01;31m\u001b[K23\u001b[m\u001b[K\tAlan Mathison Turing born, \u001b[01;31m\u001b[K1912\u001b[m\u001b[K\r\n",
      "54:\u001b[01;31m\u001b[K06\u001b[m\u001b[K/\u001b[01;31m\u001b[K30\u001b[m\u001b[K\tFirst advanced degree on computer related topic: to H. Karamanian,\r\n",
      "55:\tTemple Univ., Phila, \u001b[01;31m\u001b[K1948\u001b[m\u001b[K, for symbolic differentiation on the ENIAC\r\n",
      "56:\u001b[01;31m\u001b[K07\u001b[m\u001b[K/\u001b[01;31m\u001b[K08\u001b[m\u001b[K\tBell Telephone Co. formed (predecessor of AT&T), \u001b[01;31m\u001b[K1877\u001b[m\u001b[K\r\n",
      "57:\u001b[01;31m\u001b[K07\u001b[m\u001b[K/\u001b[01;31m\u001b[K08\u001b[m\u001b[K\tCDC incorporated, \u001b[01;31m\u001b[K1957\u001b[m\u001b[K\r\n",
      "58:\u001b[01;31m\u001b[K07\u001b[m\u001b[K/FriLast\tSystem Administrator Appreciation Day\r\n",
      "59:\u001b[01;31m\u001b[K08\u001b[m\u001b[K/\u001b[01;31m\u001b[K14\u001b[m\u001b[K\tFirst Unix-based mallet created, \u001b[01;31m\u001b[K1954\u001b[m\u001b[K\r\n",
      "60:\u001b[01;31m\u001b[K08\u001b[m\u001b[K/\u001b[01;31m\u001b[K14\u001b[m\u001b[K\tIBM PC announced, \u001b[01;31m\u001b[K1981\u001b[m\u001b[K\r\n",
      "61:\u001b[01;31m\u001b[K08\u001b[m\u001b[K/\u001b[01;31m\u001b[K22\u001b[m\u001b[K\tCDC \u001b[01;31m\u001b[K6600\u001b[m\u001b[K introduced, \u001b[01;31m\u001b[K1963\u001b[m\u001b[K\r\n",
      "62:\u001b[01;31m\u001b[K08\u001b[m\u001b[K/\u001b[01;31m\u001b[K23\u001b[m\u001b[K\tDEC founded, \u001b[01;31m\u001b[K1957\u001b[m\u001b[K\r\n",
      "63:\u001b[01;31m\u001b[K09\u001b[m\u001b[K/\u001b[01;31m\u001b[K15\u001b[m\u001b[K\tACM founded, \u001b[01;31m\u001b[K1947\u001b[m\u001b[K\r\n",
      "64:\u001b[01;31m\u001b[K09\u001b[m\u001b[K/\u001b[01;31m\u001b[K20\u001b[m\u001b[K\tHarlan Herrick runs first FORTRAN program, \u001b[01;31m\u001b[K1954\u001b[m\u001b[K\r\n",
      "65:\u001b[01;31m\u001b[K10\u001b[m\u001b[K/\u001b[01;31m\u001b[K02\u001b[m\u001b[K\tFirst robotics-based CAM, \u001b[01;31m\u001b[K1939\u001b[m\u001b[K\r\n",
      "66:\u001b[01;31m\u001b[K10\u001b[m\u001b[K/\u001b[01;31m\u001b[K06\u001b[m\u001b[K\tFirst GPSS manual published, \u001b[01;31m\u001b[K1961\u001b[m\u001b[K\r\n",
      "67:\u001b[01;31m\u001b[K10\u001b[m\u001b[K/\u001b[01;31m\u001b[K08\u001b[m\u001b[K\tFirst VisiCalc prototype, \u001b[01;31m\u001b[K1978\u001b[m\u001b[K\r\n",
      "68:\u001b[01;31m\u001b[K10\u001b[m\u001b[K/\u001b[01;31m\u001b[K12\u001b[m\u001b[K\tUnivac gives contract for SIMULA compiler to Nygaard and Dahl, \u001b[01;31m\u001b[K1962\u001b[m\u001b[K\r\n",
      "69:\u001b[01;31m\u001b[K10\u001b[m\u001b[K/\u001b[01;31m\u001b[K14\u001b[m\u001b[K\tBritish Computer Society founded, \u001b[01;31m\u001b[K1957\u001b[m\u001b[K\r\n",
      "70:\u001b[01;31m\u001b[K10\u001b[m\u001b[K/\u001b[01;31m\u001b[K15\u001b[m\u001b[K\tFirst FORTRAN Programmer's Reference Manual published, \u001b[01;31m\u001b[K1956\u001b[m\u001b[K\r\n",
      "71:\u001b[01;31m\u001b[K10\u001b[m\u001b[K/\u001b[01;31m\u001b[K20\u001b[m\u001b[K\tZurich ALGOL report published, \u001b[01;31m\u001b[K1958\u001b[m\u001b[K\r\n",
      "72:\u001b[01;31m\u001b[K10\u001b[m\u001b[K/\u001b[01;31m\u001b[K25\u001b[m\u001b[K\tDEC announces VAX-\u001b[01;31m\u001b[K11\u001b[m\u001b[K/\u001b[01;31m\u001b[K780\u001b[m\u001b[K\r\n",
      "73:\u001b[01;31m\u001b[K11\u001b[m\u001b[K/\u001b[01;31m\u001b[K04\u001b[m\u001b[K\tUNIVAC I program predicts Eisenhower victory based on \u001b[01;31m\u001b[K7\u001b[m\u001b[K% of votes, \u001b[01;31m\u001b[K1952\u001b[m\u001b[K\r\n",
      "74:\u001b[01;31m\u001b[K12\u001b[m\u001b[K/\u001b[01;31m\u001b[K08\u001b[m\u001b[K\tFirst Ph.D. awarded by Computer Science Dept, Univ. of Penna, \u001b[01;31m\u001b[K1965\u001b[m\u001b[K\r\n"
     ]
    }
   ],
   "source": [
    "!grep -n --color -E '\\d+' /usr/share/calendar/calendar.computer"
   ]
  },
  {
   "cell_type": "code",
   "execution_count": null,
   "metadata": {},
   "outputs": [],
   "source": []
  }
 ],
 "metadata": {
  "kernelspec": {
   "display_name": "Python 3",
   "language": "python",
   "name": "python3"
  },
  "language_info": {
   "codemirror_mode": {
    "name": "ipython",
    "version": 3
   },
   "file_extension": ".py",
   "mimetype": "text/x-python",
   "name": "python",
   "nbconvert_exporter": "python",
   "pygments_lexer": "ipython3",
   "version": "3.8.1"
  }
 },
 "nbformat": 4,
 "nbformat_minor": 4
}
