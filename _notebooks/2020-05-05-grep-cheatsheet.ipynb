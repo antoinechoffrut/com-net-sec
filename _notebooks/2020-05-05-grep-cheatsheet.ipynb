{
 "cells": [
  {
   "cell_type": "markdown",
   "metadata": {},
   "source": [
    "# \"Filtering file content with the `grep` command\"\n",
    "> Cheatsheet on the grep command in macos\n",
    "\n",
    "- toc: true \n",
    "- badges: true\n",
    "- comments: true\n",
    "- categories: [cheatsheet]"
   ]
  },
  {
   "cell_type": "markdown",
   "metadata": {},
   "source": [
    "> Important: The exclamation mark `!` and percent `%` symbols at the beginning of the lines should be ignored.  Indeed, this page is generated from a `jupyter notebook`, each cell of which runs `python` code.  In order to run `shell` commands (as \"magic commands\") one inserts a `!` or `%` at the beginning of the line."
   ]
  },
  {
   "cell_type": "markdown",
   "metadata": {
    "heading_collapsed": true
   },
   "source": [
    "# References"
   ]
  },
  {
   "cell_type": "markdown",
   "metadata": {
    "hidden": true
   },
   "source": [
    "## Documentation. \n",
    "- [`man` page documentation](https://ss64.com/osx/grep.html)\n",
    "- [Examples using `grep`](https://www.tldp.org/LDP/Bash-Beginners-Guide/html/sect_04_02.html) (tldp.org)\n",
    "- [Character classes and bracket expressions](https://www.gnu.org/software/grep/manual/html_node/Character-Classes-and-Bracket-Expressions.html) (gnu.org)\n",
    "- [A large collection of Unix/Linux ‘grep’ command examples](https://alvinalexander.com/unix/edu/examples/grep.shtml)\n",
    "- [grep or and not operators](https://www.thegeekstuff.com/2011/10/grep-or-and-not-operators/)\n",
    "- [15 practical unix grep command examples](https://www.thegeekstuff.com/2009/03/15-practical-unix-grep-command-examples/)\n",
    "\n",
    "- [What's the difference between `\\b` and `\\<` in the `grep` command?](https://unix.stackexchange.com/questions/121739/whats-the-difference-between-b-and-in-the-grep-command) (unix.stackexchange)\n",
    "- [Tutorial: Find Strings in Text Files Using Grep with Regular Expressions](https://thenewstack.io/tutorial-find-strings-in-text-files-using-grep-with-regular-expressions/) (Matt Zand, thenewstack)\n",
    "- [Regular Expressions In grep examples](https://www.cyberciti.biz/faq/grep-regular-expressions/) (cyberciti.biz)\n",
    "- [regex quickstart](https://www.rexegg.com/regex-quickstart.html) (Rex Egg)\n",
    "\n",
    "## Sample text files\n",
    "The sample text files used in this post are directly available from the OS:\n",
    "- calendar files in `/usr/share/calendar`\n",
    "- dictionary words in `/usr/share/dict/words`\n",
    "- meaning of flowers in `/usr/share/misc/flowers`\n",
    "- birth token `/usr/share/misc/birthtoken`\n",
    "- the ascii table `/usr/share/misc/ascii`\n",
    "- units `/usr/share/misc/units.lib`"
   ]
  },
  {
   "cell_type": "markdown",
   "metadata": {},
   "source": [
    "# System information"
   ]
  },
  {
   "cell_type": "markdown",
   "metadata": {},
   "source": [
    "Version of `grep` used in this page:"
   ]
  },
  {
   "cell_type": "code",
   "execution_count": 1,
   "metadata": {},
   "outputs": [
    {
     "name": "stdout",
     "output_type": "stream",
     "text": [
      "grep (BSD grep) 2.5.1-FreeBSD\r\n"
     ]
    }
   ],
   "source": [
    "!grep -V"
   ]
  },
  {
   "cell_type": "markdown",
   "metadata": {},
   "source": [
    "Operating system used in this page:"
   ]
  },
  {
   "cell_type": "code",
   "execution_count": 51,
   "metadata": {},
   "outputs": [
    {
     "name": "stdout",
     "output_type": "stream",
     "text": [
      "Darwin Kernel Version 19.4.0: Wed Mar  4 22:28:40 PST 2020; root:xnu-6153.101.6~15/RELEASE_X86_64\r\n"
     ]
    }
   ],
   "source": [
    "!uname -v"
   ]
  },
  {
   "cell_type": "markdown",
   "metadata": {},
   "source": [
    "# Basic usage"
   ]
  },
  {
   "cell_type": "markdown",
   "metadata": {},
   "source": [
    "## Match a string"
   ]
  },
  {
   "cell_type": "markdown",
   "metadata": {},
   "source": [
    "In a single file:"
   ]
  },
  {
   "cell_type": "code",
   "execution_count": 3,
   "metadata": {
    "scrolled": true
   },
   "outputs": [
    {
     "name": "stdout",
     "output_type": "stream",
     "text": [
      "06/07\tAlan Mathison Turing died, 1954\r\n",
      "06/23\tAlan Mathison Turing born, 1912\r\n"
     ]
    }
   ],
   "source": [
    "!grep \"Alan\" /usr/share/calendar/calendar.birthday"
   ]
  },
  {
   "cell_type": "markdown",
   "metadata": {},
   "source": [
    "In multiple files:"
   ]
  },
  {
   "cell_type": "code",
   "execution_count": 4,
   "metadata": {
    "scrolled": true
   },
   "outputs": [
    {
     "name": "stdout",
     "output_type": "stream",
     "text": [
      "/usr/share/calendar/calendar.birthday:06/07\tAlan Mathison Turing died, 1954\r\n",
      "/usr/share/calendar/calendar.birthday:06/23\tAlan Mathison Turing born, 1912\r\n",
      "/usr/share/calendar/calendar.computer:06/07\tAlan Mathison Turing died, 1954\r\n",
      "/usr/share/calendar/calendar.computer:06/23\tAlan Mathison Turing born, 1912\r\n",
      "/usr/share/calendar/calendar.freebsd:06/06\tAlan Eldridge <alane@FreeBSD.org> died in Denver, Colorado, 2003\r\n",
      "/usr/share/calendar/calendar.history:06/28\tSupreme Court decides in favor of Alan Bakke, 1978\r\n"
     ]
    }
   ],
   "source": [
    "!grep \"Alan\" /usr/share/calendar/calendar.*"
   ]
  },
  {
   "cell_type": "markdown",
   "metadata": {},
   "source": [
    "## Insert line number: `-n`"
   ]
  },
  {
   "cell_type": "code",
   "execution_count": null,
   "metadata": {},
   "outputs": [],
   "source": [
    "!grep -n Alan /usr/share/calendar/calendar.birthday"
   ]
  },
  {
   "cell_type": "markdown",
   "metadata": {},
   "source": [
    "## Highlight match: `--color`\n",
    ">Note: This is not currently visible once the `jupyter notebook` has been converted to `html`."
   ]
  },
  {
   "cell_type": "code",
   "execution_count": 5,
   "metadata": {},
   "outputs": [
    {
     "name": "stdout",
     "output_type": "stream",
     "text": [
      "06/07\t\u001b[01;31m\u001b[KAlan\u001b[m\u001b[K Mathison Turing died, 1954\r\n",
      "06/23\t\u001b[01;31m\u001b[KAlan\u001b[m\u001b[K Mathison Turing born, 1912\r\n"
     ]
    }
   ],
   "source": [
    "!grep --color \"Alan\" /usr/share/calendar/calendar.birthday"
   ]
  },
  {
   "cell_type": "markdown",
   "metadata": {},
   "source": [
    "## Match count: `-c`"
   ]
  },
  {
   "cell_type": "markdown",
   "metadata": {},
   "source": [
    "In a single file:"
   ]
  },
  {
   "cell_type": "code",
   "execution_count": 6,
   "metadata": {},
   "outputs": [
    {
     "name": "stdout",
     "output_type": "stream",
     "text": [
      "2\r\n"
     ]
    }
   ],
   "source": [
    "!grep -c \"Alan\" /usr/share/calendar/calendar.birthday"
   ]
  },
  {
   "cell_type": "markdown",
   "metadata": {},
   "source": [
    "In multiple files:"
   ]
  },
  {
   "cell_type": "code",
   "execution_count": 10,
   "metadata": {},
   "outputs": [
    {
     "name": "stdout",
     "output_type": "stream",
     "text": [
      "/usr/share/calendar/calendar.birthday:2\r\n",
      "/usr/share/calendar/calendar.christian:0\r\n",
      "/usr/share/calendar/calendar.computer:2\r\n",
      "/usr/share/calendar/calendar.croatian:0\r\n"
     ]
    }
   ],
   "source": [
    "!grep -c \"Alan\" /usr/share/calendar/calendar.[bc]*"
   ]
  },
  {
   "cell_type": "markdown",
   "metadata": {},
   "source": [
    "## Case-insensitive match"
   ]
  },
  {
   "cell_type": "code",
   "execution_count": 12,
   "metadata": {},
   "outputs": [
    {
     "name": "stdout",
     "output_type": "stream",
     "text": [
      "01/01\tThe Epoch (Time 0 for \u001b[01;31m\u001b[KUNIX\u001b[m\u001b[K systems, Midnight GMT, 1970)\r\n",
      "05/19\t\u001b[01;31m\u001b[KUNIX\u001b[m\u001b[K is 10000 days old, 1997\r\n",
      "08/14\tFirst \u001b[01;31m\u001b[KUnix\u001b[m\u001b[K-based mallet created, 1954\r\n"
     ]
    }
   ],
   "source": [
    "!grep --color -i \"unix\" /usr/share/calendar/calendar.computer"
   ]
  },
  {
   "cell_type": "markdown",
   "metadata": {},
   "source": [
    "## File names with a match: `-l`"
   ]
  },
  {
   "cell_type": "code",
   "execution_count": 13,
   "metadata": {},
   "outputs": [
    {
     "name": "stdout",
     "output_type": "stream",
     "text": [
      "/usr/share/calendar/calendar.birthday\r\n",
      "/usr/share/calendar/calendar.computer\r\n",
      "/usr/share/calendar/calendar.freebsd\r\n",
      "/usr/share/calendar/calendar.history\r\n"
     ]
    }
   ],
   "source": [
    "!grep -l \"Alan\" /usr/share/calendar/calendar.*"
   ]
  },
  {
   "cell_type": "markdown",
   "metadata": {},
   "source": [
    "## Position of match in file: `-b`"
   ]
  },
  {
   "cell_type": "code",
   "execution_count": 14,
   "metadata": {},
   "outputs": [
    {
     "name": "stdout",
     "output_type": "stream",
     "text": [
      "6906:06/07\tAlan Mathison Turing died, 1954\r\n",
      "7346:06/23\tAlan Mathison Turing born, 1912\r\n"
     ]
    }
   ],
   "source": [
    "!grep -b \"Alan\" /usr/share/calendar/calendar.birthday"
   ]
  },
  {
   "cell_type": "markdown",
   "metadata": {},
   "source": [
    "## Include/exclude files: `--include`, `--exclude`"
   ]
  },
  {
   "cell_type": "markdown",
   "metadata": {},
   "source": [
    "Exclude file in search:"
   ]
  },
  {
   "cell_type": "code",
   "execution_count": 16,
   "metadata": {},
   "outputs": [
    {
     "name": "stdout",
     "output_type": "stream",
     "text": [
      "/usr/share/calendar/calendar.birthday:06/07\tAlan Mathison Turing died, 1954\r\n",
      "/usr/share/calendar/calendar.birthday:06/23\tAlan Mathison Turing born, 1912\r\n",
      "/usr/share/calendar/calendar.freebsd:06/06\tAlan Eldridge <alane@FreeBSD.org> died in Denver, Colorado, 2003\r\n",
      "/usr/share/calendar/calendar.history:06/28\tSupreme Court decides in favor of Alan Bakke, 1978\r\n"
     ]
    }
   ],
   "source": [
    "!grep \"Alan\" --exclude /usr/share/calendar/calendar.computer /usr/share/calendar/calendar.*"
   ]
  },
  {
   "cell_type": "markdown",
   "metadata": {},
   "source": [
    "Include files:"
   ]
  },
  {
   "cell_type": "code",
   "execution_count": 18,
   "metadata": {},
   "outputs": [
    {
     "name": "stdout",
     "output_type": "stream",
     "text": [
      "/usr/share/calendar/calendar.birthday:06/07\tAlan Mathison Turing died, 1954\r\n",
      "/usr/share/calendar/calendar.birthday:06/23\tAlan Mathison Turing born, 1912\r\n",
      "/usr/share/calendar/calendar.computer:06/07\tAlan Mathison Turing died, 1954\r\n",
      "/usr/share/calendar/calendar.computer:06/23\tAlan Mathison Turing born, 1912\r\n",
      "/usr/share/calendar/calendar.freebsd:06/06\tAlan Eldridge <alane@FreeBSD.org> died in Denver, Colorado, 2003\r\n",
      "/usr/share/calendar/calendar.history:06/28\tSupreme Court decides in favor of Alan Bakke, 1978\r\n"
     ]
    }
   ],
   "source": [
    "!grep \"Alan\" --include \"calendar.*\" /usr/share/calendar/*"
   ]
  },
  {
   "cell_type": "markdown",
   "metadata": {},
   "source": [
    "## Whole word match: `-w`"
   ]
  },
  {
   "cell_type": "code",
   "execution_count": 52,
   "metadata": {},
   "outputs": [
    {
     "name": "stdout",
     "output_type": "stream",
     "text": [
      "31:01/22\tSir \u001b[01;31m\u001b[KFrancis\u001b[m\u001b[K Bacon born, 1561\r\n",
      "273:11/20\tRobert \u001b[01;31m\u001b[KFrancis\u001b[m\u001b[K Kennedy (RFK) born in Boston, Massachusetts, 1925\r\n"
     ]
    }
   ],
   "source": [
    "!grep -w  -n --color \"Francis\" /usr/share/calendar/calendar.birthday"
   ]
  },
  {
   "cell_type": "markdown",
   "metadata": {},
   "source": [
    "... as opposed to string matches:"
   ]
  },
  {
   "cell_type": "code",
   "execution_count": 53,
   "metadata": {},
   "outputs": [
    {
     "name": "stdout",
     "output_type": "stream",
     "text": [
      "31:01/22\tSir \u001b[01;31m\u001b[KFrancis\u001b[m\u001b[K Bacon born, 1561\r\n",
      "104:03/30\t\u001b[01;31m\u001b[KFrancis\u001b[m\u001b[Kco Jose de Goya born, 1746\r\n",
      "129:04/29\tWilliam Randolph Hearst born in San \u001b[01;31m\u001b[KFrancis\u001b[m\u001b[Kco, 1863\r\n",
      "151:05/30\tMel (Melvin Jerome) Blanc born in San \u001b[01;31m\u001b[KFrancis\u001b[m\u001b[Kco, 1908\r\n",
      "273:11/20\tRobert \u001b[01;31m\u001b[KFrancis\u001b[m\u001b[K Kennedy (RFK) born in Boston, Massachusetts, 1925\r\n"
     ]
    }
   ],
   "source": [
    "!grep -n --color \"Francis\" /usr/share/calendar/calendar.birthday"
   ]
  },
  {
   "cell_type": "markdown",
   "metadata": {},
   "source": [
    "## Lines before/after/around match"
   ]
  },
  {
   "cell_type": "markdown",
   "metadata": {},
   "source": [
    "Show two lines before each match:"
   ]
  },
  {
   "cell_type": "code",
   "execution_count": 21,
   "metadata": {},
   "outputs": [
    {
     "name": "stdout",
     "output_type": "stream",
     "text": [
      "212942-uncomputableness\r\n",
      "212943-uncomputably\r\n",
      "212944:\u001b[01;31m\u001b[Kuncomputed\u001b[m\u001b[K\r\n"
     ]
    }
   ],
   "source": [
    "!grep -n --color -B2 \"uncomputed\" /usr/share/dict/words"
   ]
  },
  {
   "cell_type": "markdown",
   "metadata": {},
   "source": [
    "Show three lines after each match:"
   ]
  },
  {
   "cell_type": "code",
   "execution_count": 22,
   "metadata": {},
   "outputs": [
    {
     "name": "stdout",
     "output_type": "stream",
     "text": [
      "212944:\u001b[01;31m\u001b[Kuncomputed\u001b[m\u001b[K\r\n",
      "212945-uncomraded\r\n",
      "212946-unconcatenated\r\n",
      "212947-unconcatenating\r\n"
     ]
    }
   ],
   "source": [
    "!grep -n --color -A3 \"uncomputed\" /usr/share/dict/words"
   ]
  },
  {
   "cell_type": "markdown",
   "metadata": {},
   "source": [
    "Show two lines before and three lines after each match:"
   ]
  },
  {
   "cell_type": "code",
   "execution_count": 28,
   "metadata": {},
   "outputs": [
    {
     "name": "stdout",
     "output_type": "stream",
     "text": [
      "212942-uncomputableness\r\n",
      "212943-uncomputably\r\n",
      "212944:\u001b[01;31m\u001b[Kuncomputed\u001b[m\u001b[K\r\n",
      "212945-uncomraded\r\n",
      "212946-unconcatenated\r\n",
      "212947-unconcatenating\r\n"
     ]
    }
   ],
   "source": [
    "!grep -n --color -B2 -A3 \"uncomputed\" /usr/share/dict/words"
   ]
  },
  {
   "cell_type": "markdown",
   "metadata": {},
   "source": [
    "Show two lines around match:"
   ]
  },
  {
   "cell_type": "code",
   "execution_count": 29,
   "metadata": {},
   "outputs": [
    {
     "name": "stdout",
     "output_type": "stream",
     "text": [
      "212942-uncomputableness\r\n",
      "212943-uncomputably\r\n",
      "212944:\u001b[01;31m\u001b[Kuncomputed\u001b[m\u001b[K\r\n",
      "212945-uncomraded\r\n",
      "212946-unconcatenated\r\n"
     ]
    }
   ],
   "source": [
    "!grep -n --color -C2 \"uncomputed\" /usr/share/dict/words"
   ]
  },
  {
   "cell_type": "markdown",
   "metadata": {},
   "source": [
    "# Regular expressions"
   ]
  },
  {
   "cell_type": "markdown",
   "metadata": {},
   "source": [
    "- `?` The preceding item is optional and matched at most once\n",
    "- `*` The preceding item will be matched zero or more times\n",
    "- `+` The preceding item will be matched one or more times\n",
    "- `{n}` The preceding item is matched exactly n times\n",
    "- `{n,}` The preceding item is matched n or more times\n",
    "- `{,m}` The preceding item is matched at most m times\n",
    "- `{n,m}` The preceding item is matched at least n times, but not more than m times\n",
    "\n",
    "- `\\<` matches the beginning of a word\n",
    "- `\\>` matches the end of a word\n",
    "- `\\b` matches both boundaries if at the end or at the beginning\n",
    "\n",
    "Classes of characters:  \n",
    "- `[[:alnum:]]`: Alphanumeric characters.\n",
    "- `[[:alpha:]]`: Alphabetic characters\n",
    "- `[[:blank:]]`: Blank characters: space and tab.\n",
    "- `[[:digit:]]`: Digits: ‘0 1 2 3 4 5 6 7 8 9’.\n",
    "- `[[:lower:]]`: Lower-case letters: ‘a b c d e f g h i j k l m n o p q r s t u v w x y z’.\n",
    "- `[[:space:]]`: Space characters: tab, newline, vertical tab, form feed, carriage return, and space.\n",
    "- `[[:upper:]]`: Upper-case letters: ‘A B C D E F G H I J K L M N O P Q R S T U V W X Y Z’.\n"
   ]
  },
  {
   "cell_type": "markdown",
   "metadata": {},
   "source": [
    "## Word anchors: `^`, `$`, `\\>`, `\\>`, `\\b`"
   ]
  },
  {
   "cell_type": "markdown",
   "metadata": {},
   "source": [
    "Lines beginning with pattern:"
   ]
  },
  {
   "cell_type": "code",
   "execution_count": 32,
   "metadata": {},
   "outputs": [
    {
     "name": "stdout",
     "output_type": "stream",
     "text": [
      "40564:\u001b[01;31m\u001b[Kcompute\u001b[m\u001b[K\r\n",
      "40565:\u001b[01;31m\u001b[Kcompute\u001b[m\u001b[Kr\r\n"
     ]
    }
   ],
   "source": [
    "!grep -n --color \"^compute\" /usr/share/dict/words"
   ]
  },
  {
   "cell_type": "markdown",
   "metadata": {},
   "source": [
    "Lines ending with pattern:"
   ]
  },
  {
   "cell_type": "code",
   "execution_count": 33,
   "metadata": {},
   "outputs": [
    {
     "name": "stdout",
     "output_type": "stream",
     "text": [
      "40564:\u001b[01;31m\u001b[Kcompute\u001b[m\u001b[K\n",
      "117000:mis\u001b[01;31m\u001b[Kcompute\u001b[m\u001b[K\n",
      "164643:re\u001b[01;31m\u001b[Kcompute\u001b[m\u001b[K\n"
     ]
    }
   ],
   "source": [
    "!grep -n --color \"compute$\" /usr/share/dict/words "
   ]
  },
  {
   "cell_type": "markdown",
   "metadata": {},
   "source": [
    "Beginning a word:"
   ]
  },
  {
   "cell_type": "code",
   "execution_count": 34,
   "metadata": {},
   "outputs": [
    {
     "name": "stdout",
     "output_type": "stream",
     "text": [
      "40564:\u001b[01;31m\u001b[Kcompute\u001b[m\u001b[K\r\n",
      "40565:\u001b[01;31m\u001b[Kcompute\u001b[m\u001b[Kr\r\n"
     ]
    }
   ],
   "source": [
    "!grep -n --color '\\<compute' /usr/share/dict/words"
   ]
  },
  {
   "cell_type": "markdown",
   "metadata": {},
   "source": [
    "Ending a word:"
   ]
  },
  {
   "cell_type": "code",
   "execution_count": 35,
   "metadata": {
    "scrolled": true
   },
   "outputs": [
    {
     "name": "stdout",
     "output_type": "stream",
     "text": [
      "40564:\u001b[01;31m\u001b[Kcompute\u001b[m\u001b[K\n",
      "117000:mis\u001b[01;31m\u001b[Kcompute\u001b[m\u001b[K\n",
      "164643:re\u001b[01;31m\u001b[Kcompute\u001b[m\u001b[K\n"
     ]
    }
   ],
   "source": [
    "!grep -n --color 'compute\\>' /usr/share/dict/words"
   ]
  },
  {
   "cell_type": "markdown",
   "metadata": {},
   "source": [
    "Words of specified length:"
   ]
  },
  {
   "cell_type": "code",
   "execution_count": 55,
   "metadata": {},
   "outputs": [
    {
     "name": "stdout",
     "output_type": "stream",
     "text": [
      "72632:\u001b[01;31m\u001b[Kformaldehydesulphoxylate\u001b[m\u001b[K\n",
      "140339:\u001b[01;31m\u001b[Kpathologicopsychological\u001b[m\u001b[K\n",
      "175108:\u001b[01;31m\u001b[Kscientificophilosophical\u001b[m\u001b[K\n",
      "200796:\u001b[01;31m\u001b[Ktetraiodophenolphthalein\u001b[m\u001b[K\n",
      "203042:\u001b[01;31m\u001b[Kthyroparathyroidectomize\u001b[m\u001b[K\n"
     ]
    }
   ],
   "source": [
    "!grep -n --color '\\<.\\{24\\}\\>' /usr/share/dict/words"
   ]
  },
  {
   "cell_type": "markdown",
   "metadata": {},
   "source": [
    "Words with fixed length and speficied starting and ending characters:"
   ]
  },
  {
   "cell_type": "code",
   "execution_count": 56,
   "metadata": {},
   "outputs": [
    {
     "name": "stdout",
     "output_type": "stream",
     "text": [
      "234368:\u001b[01;31m\u001b[Kyamph\u001b[m\u001b[K\r\n",
      "234449:\u001b[01;31m\u001b[Kyarth\u001b[m\u001b[K\r\n",
      "234632:\u001b[01;31m\u001b[Kyerth\u001b[m\u001b[K\r\n",
      "234702:\u001b[01;31m\u001b[Kyirth\u001b[m\u001b[K\r\n",
      "234824:\u001b[01;31m\u001b[Kyouth\u001b[m\u001b[K\r\n"
     ]
    }
   ],
   "source": [
    "!grep -n --color '\\<y...h\\>' /usr/share/dict/words"
   ]
  },
  {
   "cell_type": "markdown",
   "metadata": {},
   "source": [
    "Words with specified first and last characters, of any length:"
   ]
  },
  {
   "cell_type": "code",
   "execution_count": 57,
   "metadata": {
    "scrolled": true
   },
   "outputs": [
    {
     "name": "stdout",
     "output_type": "stream",
     "text": [
      "161224:quadratrix\r\n",
      "161400:quadruplex\r\n",
      "161963:quincunx\r\n"
     ]
    }
   ],
   "source": [
    "!grep -n'\\<q.*x\\>' /usr/share/dict/words"
   ]
  },
  {
   "cell_type": "markdown",
   "metadata": {},
   "source": [
    "## Boolean `OR`"
   ]
  },
  {
   "cell_type": "code",
   "execution_count": 42,
   "metadata": {},
   "outputs": [
    {
     "name": "stdout",
     "output_type": "stream",
     "text": [
      "40565:\u001b[01;31m\u001b[Kcomputer\u001b[m\u001b[K\n",
      "82436:\u001b[01;31m\u001b[Khardware\u001b[m\u001b[K\n",
      "82437:\u001b[01;31m\u001b[Khardware\u001b[m\u001b[Kman\n"
     ]
    }
   ],
   "source": [
    "!grep -n --color -E 'computer|hardware' /usr/share/dict/words"
   ]
  },
  {
   "cell_type": "code",
   "execution_count": 43,
   "metadata": {},
   "outputs": [
    {
     "name": "stdout",
     "output_type": "stream",
     "text": [
      "4:February:Amethyst:\u001b[01;31m\u001b[KViolet\u001b[m\u001b[K\r\n",
      "8:June:Pearl:\u001b[01;31m\u001b[KRose\u001b[m\u001b[K\r\n"
     ]
    }
   ],
   "source": [
    "!grep -n --color -E 'Rose|Violet' /usr/share/misc/birthtoken"
   ]
  },
  {
   "cell_type": "markdown",
   "metadata": {},
   "source": [
    "## Character classes"
   ]
  },
  {
   "cell_type": "markdown",
   "metadata": {},
   "source": [
    "Match whole words `gray` or `grey`:"
   ]
  },
  {
   "cell_type": "code",
   "execution_count": 44,
   "metadata": {},
   "outputs": [
    {
     "name": "stdout",
     "output_type": "stream",
     "text": [
      "79755:\u001b[01;31m\u001b[Kgray\u001b[m\u001b[K\r\n",
      "79976:\u001b[01;31m\u001b[Kgrey\u001b[m\u001b[K\r\n"
     ]
    }
   ],
   "source": [
    "!grep -n --color '\\<gr[ae]y\\>' /usr/share/dict/words"
   ]
  },
  {
   "cell_type": "markdown",
   "metadata": {},
   "source": [
    "Match words of two characters, first an upper case, the second lower case:"
   ]
  },
  {
   "cell_type": "code",
   "execution_count": 47,
   "metadata": {},
   "outputs": [
    {
     "name": "stdout",
     "output_type": "stream",
     "text": [
      "May:Emerald:Lily \u001b[01;31m\u001b[KOf\u001b[m\u001b[K The Valley\r\n"
     ]
    }
   ],
   "source": [
    "!grep --color '\\<[[:upper:]][[:lower:]]\\>' /usr/share/misc/birthtoken "
   ]
  },
  {
   "cell_type": "markdown",
   "metadata": {},
   "source": [
    "Match numbers of any length:"
   ]
  },
  {
   "cell_type": "code",
   "execution_count": 50,
   "metadata": {},
   "outputs": [
    {
     "name": "stdout",
     "output_type": "stream",
     "text": [
      "4: * $FreeBSD: src/usr.bin/calendar/calendars/calendar.australia,v \u001b[01;31m\u001b[K1\u001b[m\u001b[K.\u001b[01;31m\u001b[K7\u001b[m\u001b[K \u001b[01;31m\u001b[K2006\u001b[m\u001b[K/\u001b[01;31m\u001b[K10\u001b[m\u001b[K/\u001b[01;31m\u001b[K06\u001b[m\u001b[K \u001b[01;31m\u001b[K23\u001b[m\u001b[K:\u001b[01;31m\u001b[K20\u001b[m\u001b[K:\u001b[01;31m\u001b[K01\u001b[m\u001b[K flz Exp $\r\n",
      "10:LANG=en_AU.ISO\u001b[01;31m\u001b[K8859\u001b[m\u001b[K-\u001b[01;31m\u001b[K1\u001b[m\u001b[K\r\n",
      "13:Jan \u001b[01;31m\u001b[K26\u001b[m\u001b[K\tAustralia Day\r\n",
      "15:Apr \u001b[01;31m\u001b[K25\u001b[m\u001b[K\tAnzac Day\r\n",
      "20:Mar \u001b[01;31m\u001b[K18\u001b[m\u001b[K\tCanberra Day (ACT)\r\n",
      "21:\u001b[01;31m\u001b[K8\u001b[m\u001b[K/MonFirst\tBank Holiday (ACT, NSW)\r\n",
      "22:\u001b[01;31m\u001b[K10\u001b[m\u001b[K/MonFirst\tLabour Day (ACT, NSW, SA)\r\n",
      "25:\u001b[01;31m\u001b[K3\u001b[m\u001b[K/MonSecond\tLabour Day (Vic)\r\n",
      "29:Feb \u001b[01;31m\u001b[K11\u001b[m\u001b[K\tRegatta Day (Tas)\r\n",
      "30:Feb \u001b[01;31m\u001b[K27\u001b[m\u001b[K\tLaunceston Cup (Tas)\r\n",
      "31:Mar \u001b[01;31m\u001b[K11\u001b[m\u001b[K\tEight Hours Day (Tas)\r\n",
      "33:Oct \u001b[01;31m\u001b[K10\u001b[m\u001b[K\tLaunceston Show Day (Tas)\r\n",
      "34:Oct \u001b[01;31m\u001b[K24\u001b[m\u001b[K\tHobart Show Day (Tas)\r\n",
      "35:Nov \u001b[01;31m\u001b[K04\u001b[m\u001b[K\tRecreation Day (N Tas)\r\n",
      "39:Dec \u001b[01;31m\u001b[K26\u001b[m\u001b[K\tProclamation Day holiday (SA)\r\n",
      "42:\u001b[01;31m\u001b[K3\u001b[m\u001b[K/MonFirst\tLabour Day (WA)\r\n",
      "43:\u001b[01;31m\u001b[K6\u001b[m\u001b[K/MonFirst\tFoundation Day (WA)\r\n",
      "44:Sep \u001b[01;31m\u001b[K30\u001b[m\u001b[K\tQueen's Birthday (WA)\r\n",
      "47:\u001b[01;31m\u001b[K5\u001b[m\u001b[K/MonFirst\tMay Day (NT)\r\n",
      "48:\u001b[01;31m\u001b[K7\u001b[m\u001b[K/FriFirst\tAlice Springs Show Day (NT)\r\n",
      "49:\u001b[01;31m\u001b[K7\u001b[m\u001b[K/FriSecond\tTennant Creek Show Day (NT)\r\n",
      "50:\u001b[01;31m\u001b[K7\u001b[m\u001b[K/FriThird\tKatherine Show Day (NT)\r\n",
      "51:\u001b[01;31m\u001b[K7\u001b[m\u001b[K/FriLast\tDarwin Show Day (NT)\r\n",
      "52:\u001b[01;31m\u001b[K8\u001b[m\u001b[K/MonFirst\tPicnic Day (NT)\r\n",
      "55:\u001b[01;31m\u001b[K5\u001b[m\u001b[K/MonFirst\tLabour Day (Qld)\r\n",
      "56:Aug \u001b[01;31m\u001b[K14\u001b[m\u001b[K\tRNA Show Day (Brisbane metro)\r\n"
     ]
    }
   ],
   "source": [
    "!grep -n --color -E '\\d+' /usr/share/calendar/calendar.australia"
   ]
  },
  {
   "cell_type": "markdown",
   "metadata": {},
   "source": [
    "# TODO"
   ]
  },
  {
   "cell_type": "markdown",
   "metadata": {},
   "source": [
    "- `v`\n",
    "- search directory recursively"
   ]
  }
 ],
 "metadata": {
  "kernelspec": {
   "display_name": "Python 3",
   "language": "python",
   "name": "python3"
  },
  "language_info": {
   "codemirror_mode": {
    "name": "ipython",
    "version": 3
   },
   "file_extension": ".py",
   "mimetype": "text/x-python",
   "name": "python",
   "nbconvert_exporter": "python",
   "pygments_lexer": "ipython3",
   "version": "3.8.1"
  }
 },
 "nbformat": 4,
 "nbformat_minor": 4
}
