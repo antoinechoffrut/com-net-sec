{
 "cells": [
  {
   "cell_type": "markdown",
   "metadata": {},
   "source": [
    "# \"The sed command (macOS)\"\n",
    "> \"The sed command is a stream text editor, capable of performing searches and substitution, and supports regular expressions\"\n",
    "\n",
    "- toc: true \n",
    "- badges: true\n",
    "- comments: true\n",
    "- categories: [cheatsheet, cli, macOS]"
   ]
  },
  {
   "cell_type": "markdown",
   "metadata": {},
   "source": [
    "# Preliminaries"
   ]
  },
  {
   "cell_type": "markdown",
   "metadata": {},
   "source": [
    "## References\n",
    "- [FreeBSD man page](https://www.freebsd.org/cgi/man.cgi?query=sed) (freebsd)\n",
    "- [mac OS sed documentation](https://ss64.com/osx/sed.html) (ss64)\n",
    "- [sed tutorial](https://www.grymoire.com/Unix/Sed.html) (grymoire)\n",
    "- [IBM: the `sed` command](https://www.ibm.com/support/knowledgecenter/en/ssw_aix_72/s_commands/sed.html)"
   ]
  },
  {
   "cell_type": "markdown",
   "metadata": {},
   "source": [
    "## BSD `sed`\n",
    ">Important: MacOS uses the FreeBSD version of `sed`:"
   ]
  },
  {
   "cell_type": "code",
   "execution_count": 1,
   "metadata": {},
   "outputs": [
    {
     "name": "stdout",
     "output_type": "stream",
     "text": [
      "1-\n",
      "2:SED(1)                    BSD General Commands Manual                   SED(1)\n",
      "3-\n",
      "--\n",
      "--\n",
      "345-\n",
      "346:     The -E, -a and -i options are non-standard FreeBSD extensions and may not\n",
      "347-     be available on other operating systems.\n",
      "--\n",
      "--\n",
      "352-AUTHORS\n",
      "353:     Diomidis D. Spinellis <dds@FreeBSD.org>\n",
      "354-\n",
      "--\n",
      "--\n",
      "360-\n",
      "361:BSD                              May 10, 2005                              BSD\n"
     ]
    }
   ],
   "source": [
    "man sed | grep -n \"BSD\" -C1"
   ]
  },
  {
   "cell_type": "markdown",
   "metadata": {},
   "source": [
    ">Note: There doesn't seem to be a way to find a version number on macOS from the OS, even if one looks in the binary code with the command `strings $(which sed)`.  However, this information is available from [apple's source browser](https://opensource.apple.com/source/text_cmds/)."
   ]
  },
  {
   "cell_type": "markdown",
   "metadata": {},
   "source": [
    "# Basic usage"
   ]
  },
  {
   "cell_type": "markdown",
   "metadata": {},
   "source": [
    "## Silent mode with flag`-n`, print with command `p`"
   ]
  },
  {
   "cell_type": "markdown",
   "metadata": {},
   "source": [
    "By default, the command `sed` simply outputs each line, one at a time:"
   ]
  },
  {
   "cell_type": "code",
   "execution_count": 185,
   "metadata": {},
   "outputs": [
    {
     "name": "stdout",
     "output_type": "stream",
     "text": [
      "bob\n",
      "joe\n",
      "tim\n"
     ]
    }
   ],
   "source": [
    "echo -e \"bob\\njoe\\ntim\" | sed"
   ]
  },
  {
   "cell_type": "markdown",
   "metadata": {},
   "source": [
    "Do not print anything:"
   ]
  },
  {
   "cell_type": "code",
   "execution_count": 186,
   "metadata": {},
   "outputs": [],
   "source": [
    "echo -e \"bob\\njoe\\ntim\" | sed -n"
   ]
  },
  {
   "cell_type": "markdown",
   "metadata": {},
   "source": [
    "Duplicate every line, i.e. for each line, print it:"
   ]
  },
  {
   "cell_type": "code",
   "execution_count": 187,
   "metadata": {},
   "outputs": [
    {
     "name": "stdout",
     "output_type": "stream",
     "text": [
      "bob\n",
      "bob\n",
      "joe\n",
      "joe\n",
      "tim\n",
      "tim\n"
     ]
    }
   ],
   "source": [
    "echo -e \"bob\\njoe\\ntim\" | sed 'p'"
   ]
  },
  {
   "cell_type": "markdown",
   "metadata": {},
   "source": [
    "Print each line once:"
   ]
  },
  {
   "cell_type": "code",
   "execution_count": 188,
   "metadata": {},
   "outputs": [
    {
     "name": "stdout",
     "output_type": "stream",
     "text": [
      "bob\n",
      "joe\n",
      "tim\n"
     ]
    }
   ],
   "source": [
    "echo -e 'bob\\njoe\\ntim' | sed -n 'p'"
   ]
  },
  {
   "cell_type": "markdown",
   "metadata": {},
   "source": [
    "Reverse command with '!':"
   ]
  },
  {
   "cell_type": "code",
   "execution_count": 190,
   "metadata": {},
   "outputs": [],
   "source": [
    "echo -e 'bob\\njoe\\ntime' | sed -n '!p'"
   ]
  },
  {
   "cell_type": "markdown",
   "metadata": {},
   "source": [
    "## Pattern matching\n",
    "Print lines matching a pattern with the command `p`:"
   ]
  },
  {
   "cell_type": "code",
   "execution_count": 78,
   "metadata": {},
   "outputs": [
    {
     "name": "stdout",
     "output_type": "stream",
     "text": [
      "bob rob bob\n",
      "bob\n"
     ]
    }
   ],
   "source": [
    "echo -e \"bob rob bob\\njoe\\nbob\" | sed -n '/bob/p'"
   ]
  },
  {
   "cell_type": "markdown",
   "metadata": {},
   "source": [
    "Some explanations:\n",
    "- `-n`: do not print anything;\n",
    "- `/bob/`: pattern to match;\n",
    "- `/p`: print line when there is a match."
   ]
  },
  {
   "cell_type": "markdown",
   "metadata": {},
   "source": [
    "Print lines _not_ matching a pattern:"
   ]
  },
  {
   "cell_type": "code",
   "execution_count": 192,
   "metadata": {},
   "outputs": [
    {
     "name": "stdout",
     "output_type": "stream",
     "text": [
      "joe\n",
      "tim\n"
     ]
    }
   ],
   "source": [
    "echo -e \"bob rob bob\\njoe\\nbob\\ntim\" | sed -n '/bob/ !p'"
   ]
  },
  {
   "cell_type": "markdown",
   "metadata": {},
   "source": [
    "Print line numbers where matches occur with the command `=`:"
   ]
  },
  {
   "cell_type": "code",
   "execution_count": 86,
   "metadata": {},
   "outputs": [
    {
     "name": "stdout",
     "output_type": "stream",
     "text": [
      "1\n",
      "3\n"
     ]
    }
   ],
   "source": [
    "echo -e \"bob rob bob\\njoe\\nbob\" | sed -n '/bob/='"
   ]
  },
  {
   "cell_type": "markdown",
   "metadata": {},
   "source": [
    "## Quit with command `q`"
   ]
  },
  {
   "cell_type": "markdown",
   "metadata": {},
   "source": [
    "Quit printing file after match:"
   ]
  },
  {
   "cell_type": "code",
   "execution_count": 196,
   "metadata": {},
   "outputs": [
    {
     "name": "stdout",
     "output_type": "stream",
     "text": [
      "one: bob\n",
      "two: bob\n"
     ]
    }
   ],
   "source": [
    "echo -e 'one: bob\\ntwo: bob\\nthree:bob\\n' | sed -e '/two/ q'"
   ]
  },
  {
   "cell_type": "markdown",
   "metadata": {},
   "source": [
    "As an application, perform substitution up to match: "
   ]
  },
  {
   "cell_type": "code",
   "execution_count": 200,
   "metadata": {},
   "outputs": [
    {
     "name": "stdout",
     "output_type": "stream",
     "text": [
      "one: BOB\n",
      "two: BOB\n"
     ]
    }
   ],
   "source": [
    "echo -e 'one: bob\\ntwo: bob\\nthree:bob\\n' | sed -e 's/bob/BOB/' -e '/two/ q'"
   ]
  },
  {
   "cell_type": "markdown",
   "metadata": {},
   "source": [
    "Note how the order matters;"
   ]
  },
  {
   "cell_type": "code",
   "execution_count": 201,
   "metadata": {},
   "outputs": [
    {
     "name": "stdout",
     "output_type": "stream",
     "text": [
      "one: BOB\n",
      "two: bob\n"
     ]
    }
   ],
   "source": [
    "echo -e 'one: bob\\ntwo: bob\\nthree:bob\\n' | sed -e '/two/ q' -e 's/bob/BOB/'"
   ]
  },
  {
   "cell_type": "markdown",
   "metadata": {},
   "source": [
    "## Transformation with `y`:"
   ]
  },
  {
   "cell_type": "code",
   "execution_count": 87,
   "metadata": {},
   "outputs": [
    {
     "name": "stdout",
     "output_type": "stream",
     "text": [
      "this is now in lowercase\n"
     ]
    }
   ],
   "source": [
    "echo \"This is NOW in loweRcase\" | sed 'y/ABCDEFGHIJKLMNOPQRSTUVWXYZ/abcdefghijklmnopqrstuvwxyz/'"
   ]
  },
  {
   "cell_type": "markdown",
   "metadata": {},
   "source": [
    "## Substitution with `s`"
   ]
  },
  {
   "cell_type": "markdown",
   "metadata": {},
   "source": [
    "Sustitute a word for another, in each line:"
   ]
  },
  {
   "cell_type": "code",
   "execution_count": 2,
   "metadata": {},
   "outputs": [
    {
     "name": "stdout",
     "output_type": "stream",
     "text": [
      "night\n",
      "Day\n",
      "dAy\n",
      "Monnight\n"
     ]
    }
   ],
   "source": [
    "echo -e \"day\\nDay\\ndAy\\nMonday\" | sed 's/day/night/'"
   ]
  },
  {
   "cell_type": "markdown",
   "metadata": {},
   "source": [
    "Note that the match is case-sensitive."
   ]
  },
  {
   "cell_type": "markdown",
   "metadata": {},
   "source": [
    "Only the first occurrence in each line will be substituted:"
   ]
  },
  {
   "cell_type": "code",
   "execution_count": 3,
   "metadata": {},
   "outputs": [
    {
     "name": "stdout",
     "output_type": "stream",
     "text": [
      "ONE two three, one two three \n",
      "four three two ONE\n",
      "ONE hundred\n"
     ]
    }
   ],
   "source": [
    "echo -e \"one two three, one two three \\nfour three two one\\none hundred\" | sed 's/one/ONE/'"
   ]
  },
  {
   "cell_type": "markdown",
   "metadata": {},
   "source": [
    "## Select occurrence for substitution with index: `/1`, `/2`, etc."
   ]
  },
  {
   "cell_type": "code",
   "execution_count": 4,
   "metadata": {},
   "outputs": [
    {
     "name": "stdout",
     "output_type": "stream",
     "text": [
      "ONE one one\n"
     ]
    }
   ],
   "source": [
    "echo \"one one one\" | sed 's/one/ONE/1'"
   ]
  },
  {
   "cell_type": "code",
   "execution_count": 5,
   "metadata": {},
   "outputs": [
    {
     "name": "stdout",
     "output_type": "stream",
     "text": [
      "one ONE one\n"
     ]
    }
   ],
   "source": [
    "echo \"one one one\" | sed 's/one/ONE/2'"
   ]
  },
  {
   "cell_type": "code",
   "execution_count": 6,
   "metadata": {},
   "outputs": [
    {
     "name": "stdout",
     "output_type": "stream",
     "text": [
      "one one ONE\n"
     ]
    }
   ],
   "source": [
    "echo \"one one one\" | sed 's/one/ONE/3'"
   ]
  },
  {
   "cell_type": "code",
   "execution_count": 7,
   "metadata": {
    "scrolled": true
   },
   "outputs": [
    {
     "name": "stdout",
     "output_type": "stream",
     "text": [
      "one one one\n"
     ]
    }
   ],
   "source": [
    "echo \"one one one\" | sed 's/one/ONE/4'"
   ]
  },
  {
   "cell_type": "markdown",
   "metadata": {},
   "source": [
    "## Global substitution: `/g`"
   ]
  },
  {
   "cell_type": "markdown",
   "metadata": {},
   "source": [
    "To perform substitution on all non-overlapping match, use the `/g` option:"
   ]
  },
  {
   "cell_type": "code",
   "execution_count": 8,
   "metadata": {},
   "outputs": [
    {
     "name": "stdout",
     "output_type": "stream",
     "text": [
      "ONE two three, ONE two three \n",
      "four three two ONE\n",
      "ONE hundred\n"
     ]
    }
   ],
   "source": [
    "echo -e \"one two three, one two three \\nfour three two one\\none hundred\" | sed 's/one/ONE/g'"
   ]
  },
  {
   "cell_type": "markdown",
   "metadata": {},
   "source": [
    "## Silence output with `-n`, printed substituted lines with `/p`\n",
    "The flag `-n`, nothing is sent to standard output:"
   ]
  },
  {
   "cell_type": "code",
   "execution_count": 9,
   "metadata": {},
   "outputs": [],
   "source": [
    "echo -e \"day\\nDay\\ndAy\\nMonday\" | sed -n 's/day/night/'"
   ]
  },
  {
   "cell_type": "markdown",
   "metadata": {},
   "source": [
    "But with the `/p` flag, write the pattern space to standard output if a substitution occurred:"
   ]
  },
  {
   "cell_type": "code",
   "execution_count": 10,
   "metadata": {},
   "outputs": [
    {
     "name": "stdout",
     "output_type": "stream",
     "text": [
      "night\n",
      "Monnight\n"
     ]
    }
   ],
   "source": [
    "echo -e \"day\\nDay\\ndAy\\nMonday\" | sed -n 's/day/night/p'"
   ]
  },
  {
   "cell_type": "markdown",
   "metadata": {},
   "source": [
    "Thus, without the option `-n`, lines with substitution appear twice:"
   ]
  },
  {
   "cell_type": "code",
   "execution_count": 11,
   "metadata": {},
   "outputs": [
    {
     "name": "stdout",
     "output_type": "stream",
     "text": [
      "night\n",
      "night\n",
      "Day\n",
      "dAy\n",
      "Monnight\n",
      "Monnight\n"
     ]
    }
   ],
   "source": [
    "echo -e \"day\\nDay\\ndAy\\nMonday\" | sed 's/day/night/p'"
   ]
  },
  {
   "cell_type": "markdown",
   "metadata": {},
   "source": [
    "## Regular expressions"
   ]
  },
  {
   "cell_type": "markdown",
   "metadata": {},
   "source": [
    "Replace the first single-digit number with a fixed string:"
   ]
  },
  {
   "cell_type": "code",
   "execution_count": 12,
   "metadata": {},
   "outputs": [
    {
     "name": "stdout",
     "output_type": "stream",
     "text": [
      "abceX45f\n"
     ]
    }
   ],
   "source": [
    "echo \"abce345f\" | sed 's/[0-9]/X/'"
   ]
  },
  {
   "cell_type": "markdown",
   "metadata": {},
   "source": [
    "Replace the first longest consecutive string of digits with a fixed string:"
   ]
  },
  {
   "cell_type": "code",
   "execution_count": 13,
   "metadata": {},
   "outputs": [
    {
     "name": "stdout",
     "output_type": "stream",
     "text": [
      "X 456 abc\n"
     ]
    }
   ],
   "source": [
    "echo \"123 456 abc\" | sed 's/[0-9]*/X/'"
   ]
  },
  {
   "cell_type": "markdown",
   "metadata": {},
   "source": [
    ">Important: Since the asterisk `*` stands for **zero** or more character, the first match for `[0-9]*` will occur at the beginning of the line if it doesn't start with a number:"
   ]
  },
  {
   "cell_type": "code",
   "execution_count": 14,
   "metadata": {},
   "outputs": [
    {
     "name": "stdout",
     "output_type": "stream",
     "text": [
      "Xabc 123 def \n"
     ]
    }
   ],
   "source": [
    "echo \"abc 123 def \" | sed 's/[0-9]*/X/'"
   ]
  },
  {
   "cell_type": "markdown",
   "metadata": {},
   "source": [
    "To match **one** or more character, use the extended regular expressioon `+`, with the option `-E`:"
   ]
  },
  {
   "cell_type": "code",
   "execution_count": 15,
   "metadata": {},
   "outputs": [
    {
     "name": "stdout",
     "output_type": "stream",
     "text": [
      "abc X def \n"
     ]
    }
   ],
   "source": [
    "echo \"abc 123 def \" | sed -E 's/[0-9]+/X/'"
   ]
  },
  {
   "cell_type": "markdown",
   "metadata": {},
   "source": [
    "## Refer to the match with `&`"
   ]
  },
  {
   "cell_type": "markdown",
   "metadata": {},
   "source": [
    "Put parentheses around the first digit appearing in the line:"
   ]
  },
  {
   "cell_type": "code",
   "execution_count": 19,
   "metadata": {},
   "outputs": [
    {
     "name": "stdout",
     "output_type": "stream",
     "text": [
      "abc (1)23 def \n"
     ]
    }
   ],
   "source": [
    "echo \"abc 123 def \" | sed -E 's/[0-9]/(&)/'"
   ]
  },
  {
   "cell_type": "markdown",
   "metadata": {},
   "source": [
    "Put parentheses around the first multi-digit number appearing in the line:"
   ]
  },
  {
   "cell_type": "code",
   "execution_count": 21,
   "metadata": {},
   "outputs": [
    {
     "name": "stdout",
     "output_type": "stream",
     "text": [
      "abc (123) def \n"
     ]
    }
   ],
   "source": [
    "echo \"abc 123 def \" | sed -E 's/[0-9]+/(&)/'"
   ]
  },
  {
   "cell_type": "markdown",
   "metadata": {},
   "source": [
    "Put parentheses around each digit appearing in the line:"
   ]
  },
  {
   "cell_type": "code",
   "execution_count": 23,
   "metadata": {},
   "outputs": [
    {
     "name": "stdout",
     "output_type": "stream",
     "text": [
      "abc (1)(2)(3) def (4)(5)(6)\n"
     ]
    }
   ],
   "source": [
    "echo \"abc 123 def 456\" | sed -E 's/[0-9]/(&)/g'"
   ]
  },
  {
   "cell_type": "markdown",
   "metadata": {},
   "source": [
    "`&` can be used multiple times:"
   ]
  },
  {
   "cell_type": "code",
   "execution_count": 24,
   "metadata": {},
   "outputs": [
    {
     "name": "stdout",
     "output_type": "stream",
     "text": [
      "abc (123 123) def\n"
     ]
    }
   ],
   "source": [
    "echo \"abc 123 def\" | sed -E 's/[0-9]+/(& &)/'"
   ]
  },
  {
   "cell_type": "markdown",
   "metadata": {},
   "source": [
    "## Handle on matches: `(` `)`, `\\1`, `\\2`, etc."
   ]
  },
  {
   "cell_type": "markdown",
   "metadata": {},
   "source": [
    "Keep only first word of line, using a basic regular expression:"
   ]
  },
  {
   "cell_type": "code",
   "execution_count": 37,
   "metadata": {},
   "outputs": [
    {
     "name": "stdout",
     "output_type": "stream",
     "text": [
      "Do\n"
     ]
    }
   ],
   "source": [
    "echo \"Do not do this\" | sed 's/\\([a-zA-Z]*\\).*/\\1/'"
   ]
  },
  {
   "cell_type": "markdown",
   "metadata": {},
   "source": [
    "... and using an extenced regular expression:"
   ]
  },
  {
   "cell_type": "code",
   "execution_count": 38,
   "metadata": {
    "scrolled": true
   },
   "outputs": [
    {
     "name": "stdout",
     "output_type": "stream",
     "text": [
      "Do\n"
     ]
    }
   ],
   "source": [
    "echo \"Do not do this\" | sed -E 's/([a-zA-Z]*).*/\\1/'"
   ]
  },
  {
   "cell_type": "markdown",
   "metadata": {},
   "source": [
    "Swap strings:"
   ]
  },
  {
   "cell_type": "code",
   "execution_count": 39,
   "metadata": {},
   "outputs": [
    {
     "name": "stdout",
     "output_type": "stream",
     "text": [
      "321 123: swap occurred\n"
     ]
    }
   ],
   "source": [
    "echo \"123 321: swap occurred\" | sed -E 's/([0-9]+) ([0-9]+)/\\2 \\1/'"
   ]
  },
  {
   "cell_type": "markdown",
   "metadata": {},
   "source": [
    "Remove duplicated words:"
   ]
  },
  {
   "cell_type": "code",
   "execution_count": 46,
   "metadata": {},
   "outputs": [
    {
     "name": "stdout",
     "output_type": "stream",
     "text": [
      "I  don't stutter \n"
     ]
    }
   ],
   "source": [
    "echo \"I I don't stutter stutter\" | sed 's/\\([a-zA-Z]*\\) \\1/\\1 /g'"
   ]
  },
  {
   "cell_type": "code",
   "execution_count": 49,
   "metadata": {},
   "outputs": [
    {
     "name": "stdout",
     "output_type": "stream",
     "text": [
      "I  don't stutter \n"
     ]
    }
   ],
   "source": [
    "echo \"I I don't stutter stutter\" | sed 's/\\([a-zA-Z]*\\) \\1/\\1 /g'"
   ]
  },
  {
   "cell_type": "markdown",
   "metadata": {},
   "source": [
    "Parentheses around first word:"
   ]
  },
  {
   "cell_type": "code",
   "execution_count": 51,
   "metadata": {},
   "outputs": [
    {
     "name": "stdout",
     "output_type": "stream",
     "text": [
      "(put) parentheses around first blob\n"
     ]
    }
   ],
   "source": [
    "echo \"put parentheses around first blob\" | sed 's/[^ ]*/(&)/'"
   ]
  },
  {
   "cell_type": "markdown",
   "metadata": {},
   "source": [
    "Apply substitution on second occurrence only:"
   ]
  },
  {
   "cell_type": "code",
   "execution_count": 55,
   "metadata": {},
   "outputs": [
    {
     "name": "stdout",
     "output_type": "stream",
     "text": [
      "au  clair de la lune\n"
     ]
    }
   ],
   "source": [
    "echo \"au invisibleword clair de la lune\" | sed -E 's/[a-z]+//2'"
   ]
  },
  {
   "cell_type": "markdown",
   "metadata": {},
   "source": [
    "Add a colon after character in position `10`:"
   ]
  },
  {
   "cell_type": "code",
   "execution_count": 59,
   "metadata": {},
   "outputs": [
    {
     "name": "stdout",
     "output_type": "stream",
     "text": [
      "add a colo:n after character in position ten\n"
     ]
    }
   ],
   "source": [
    "echo \"add a colon after character in position ten\" | sed 's/./&:/10'"
   ]
  },
  {
   "cell_type": "markdown",
   "metadata": {},
   "source": [
    "# Duplicate `grep` with `-n` and `/p`\n",
    ">Note: `grep` looks for the first occurrence of a pattern in each line:"
   ]
  },
  {
   "cell_type": "code",
   "execution_count": 65,
   "metadata": {},
   "outputs": [
    {
     "name": "stdout",
     "output_type": "stream",
     "text": [
      "bob rob bob\n",
      "bob\n"
     ]
    }
   ],
   "source": [
    "echo -e \"bob rob bob\\njoe\\nbob\" | grep \"bob\""
   ]
  },
  {
   "cell_type": "code",
   "execution_count": 64,
   "metadata": {},
   "outputs": [
    {
     "name": "stdout",
     "output_type": "stream",
     "text": [
      "bob rob bob\n",
      "bob\n"
     ]
    }
   ],
   "source": [
    "echo -e \"bob rob bob\\njoe\\nbob\" | sed -n 's/bob/&/p'"
   ]
  },
  {
   "cell_type": "code",
   "execution_count": 67,
   "metadata": {},
   "outputs": [
    {
     "name": "stdout",
     "output_type": "stream",
     "text": [
      "bob rob bob\n",
      "bob\n"
     ]
    }
   ],
   "source": [
    "echo -e \"bob rob bob\\njoe\\nbob\" | sed -n '/bob/p'"
   ]
  },
  {
   "cell_type": "markdown",
   "metadata": {},
   "source": [
    "# Execute several commands: `-e`"
   ]
  },
  {
   "cell_type": "code",
   "execution_count": 96,
   "metadata": {},
   "outputs": [
    {
     "name": "stdout",
     "output_type": "stream",
     "text": [
      "1bc\n",
      "12c\n"
     ]
    }
   ],
   "source": [
    "echo \"abc\" | sed -n -e 's/a/1/p' -e 's/b/2/p'"
   ]
  },
  {
   "cell_type": "markdown",
   "metadata": {},
   "source": [
    "## Delete lines"
   ]
  },
  {
   "cell_type": "markdown",
   "metadata": {},
   "source": [
    "Delete line by its number:"
   ]
  },
  {
   "cell_type": "code",
   "execution_count": 99,
   "metadata": {},
   "outputs": [
    {
     "name": "stdout",
     "output_type": "stream",
     "text": [
      "1\n",
      "3\n"
     ]
    }
   ],
   "source": [
    "echo -e \"1\\n2\\n3\" | sed '2d'"
   ]
  },
  {
   "cell_type": "markdown",
   "metadata": {},
   "source": [
    "Delete last line:"
   ]
  },
  {
   "cell_type": "code",
   "execution_count": 100,
   "metadata": {},
   "outputs": [
    {
     "name": "stdout",
     "output_type": "stream",
     "text": [
      "1\n",
      "2\n"
     ]
    }
   ],
   "source": [
    "echo -e \"1\\n2\\n3\" | sed '$d'"
   ]
  },
  {
   "cell_type": "code",
   "execution_count": 105,
   "metadata": {},
   "outputs": [
    {
     "name": "stdout",
     "output_type": "stream",
     "text": [
      "one\n",
      "\n",
      "two\n",
      "\n",
      "three\n"
     ]
    }
   ],
   "source": [
    "echo -e 'one\\n\\ntwo\\n\\nthree' | sed '/\\S/d'"
   ]
  },
  {
   "cell_type": "markdown",
   "metadata": {},
   "source": [
    "## Combining  substitution flags"
   ]
  },
  {
   "cell_type": "code",
   "execution_count": 115,
   "metadata": {},
   "outputs": [
    {
     "name": "stdout",
     "output_type": "stream",
     "text": [
      "one one ONE\n",
      "one one ONE one\n"
     ]
    }
   ],
   "source": [
    "echo -e \"one\\none one\\none one one\\none one one one\" | sed -n 's/one/ONE/3p'"
   ]
  },
  {
   "cell_type": "markdown",
   "metadata": {},
   "source": [
    "## Restricting to a line number"
   ]
  },
  {
   "cell_type": "code",
   "execution_count": 118,
   "metadata": {},
   "outputs": [
    {
     "name": "stdout",
     "output_type": "stream",
     "text": [
      "one\n",
      "ONE\n",
      "one\n"
     ]
    }
   ],
   "source": [
    "echo -e 'one\\none\\none' | sed '2 s/one/ONE/'"
   ]
  },
  {
   "cell_type": "markdown",
   "metadata": {},
   "source": [
    "## Match and substitution "
   ]
  },
  {
   "cell_type": "code",
   "execution_count": 123,
   "metadata": {},
   "outputs": [
    {
     "name": "stdout",
     "output_type": "stream",
     "text": [
      "bob: Hi\n",
      "joe: hello\n",
      "bob: How are you?\n"
     ]
    }
   ],
   "source": [
    "echo -e \"bob: hi\\njoe: hello\\nbob: how are you?\" | sed '/bob/ s/h/H/'"
   ]
  },
  {
   "cell_type": "code",
   "execution_count": 128,
   "metadata": {},
   "outputs": [
    {
     "name": "stdout",
     "output_type": "stream",
     "text": [
      "(parentheses) around first word of each lines\n",
      "(only) if the word \"line\"\n",
      "appears in it\n",
      "(this) is the last line\n"
     ]
    }
   ],
   "source": [
    "echo -e 'parentheses around first word of each lines\\nonly if the word \"line\"\\nappears in it\\nthis is the last line' | sed -E  '/line/s/[a-z]+/(&)/'"
   ]
  },
  {
   "cell_type": "markdown",
   "metadata": {},
   "source": [
    "# Further examples"
   ]
  },
  {
   "cell_type": "code",
   "execution_count": 129,
   "metadata": {},
   "outputs": [
    {
     "name": "stdout",
     "output_type": "stream",
     "text": [
      "[There was a line beginning with a pound sign]\n",
      "this line does not start with a pound sign\n",
      "[There was a line beginning with a pound sign]\n"
     ]
    }
   ],
   "source": [
    "echo -e '#a\\nthis line does not start with a pound sign\\n#b' | sed 's/^#.*/[There was a line beginning with a pound sign]/'"
   ]
  },
  {
   "cell_type": "markdown",
   "metadata": {},
   "source": [
    "Count the number of non-blank lines not beginning with `#`:"
   ]
  },
  {
   "cell_type": "code",
   "execution_count": 131,
   "metadata": {},
   "outputs": [
    {
     "name": "stdout",
     "output_type": "stream",
     "text": [
      "       1\n"
     ]
    }
   ],
   "source": [
    "echo -e \"#a\\nthis line does not start with a pound sign\\n#b\" | sed 's/^#.*//' | grep \"\\S\" | wc -l"
   ]
  },
  {
   "cell_type": "markdown",
   "metadata": {},
   "source": [
    "## Ranges by line number"
   ]
  },
  {
   "cell_type": "markdown",
   "metadata": {},
   "source": [
    "Specify range of lines to which substitution is performed:"
   ]
  },
  {
   "cell_type": "code",
   "execution_count": 133,
   "metadata": {},
   "outputs": [
    {
     "name": "stdout",
     "output_type": "stream",
     "text": [
      "one\n",
      "ONE\n",
      "ONE\n",
      "one\n"
     ]
    }
   ],
   "source": [
    "echo -e \"one\\none\\none\\none\" | sed '2,3 s/one/ONE/'"
   ]
  },
  {
   "cell_type": "markdown",
   "metadata": {},
   "source": [
    "Perform subsitution from specified line to end of file:"
   ]
  },
  {
   "cell_type": "code",
   "execution_count": 134,
   "metadata": {},
   "outputs": [
    {
     "name": "stdout",
     "output_type": "stream",
     "text": [
      "one\n",
      "ONE\n",
      "ONE\n",
      "ONE\n"
     ]
    }
   ],
   "source": [
    "echo -e \"one\\none\\none\\none\" | sed '2,$ s/one/ONE/'"
   ]
  },
  {
   "cell_type": "markdown",
   "metadata": {},
   "source": [
    "## Ranges by patterns"
   ]
  },
  {
   "cell_type": "code",
   "execution_count": 146,
   "metadata": {},
   "outputs": [
    {
     "name": "stdout",
     "output_type": "stream",
     "text": [
      "one: bob\n",
      "two: BOB\n",
      "three: BOB\n",
      "four: bob\n",
      "five: bob\n"
     ]
    }
   ],
   "source": [
    "echo -e \"one: bob\\ntwo: bob\\nthree: bob\\nfour: bob\\nfive: bob\" | sed '/two/,/three/ s/bob/BOB/'"
   ]
  },
  {
   "cell_type": "markdown",
   "metadata": {},
   "source": [
    "## Hybrid ranges"
   ]
  },
  {
   "cell_type": "code",
   "execution_count": 147,
   "metadata": {},
   "outputs": [
    {
     "name": "stdout",
     "output_type": "stream",
     "text": [
      "one: bob\n",
      "two: BOB\n",
      "three: BOB\n",
      "four: bob\n",
      "five: bob\n"
     ]
    }
   ],
   "source": [
    "echo -e \"one: bob\\ntwo: bob\\nthree: bob\\nfour: bob\\nfive: bob\" | sed '2,/three/ s/bob/BOB/'"
   ]
  },
  {
   "cell_type": "markdown",
   "metadata": {},
   "source": [
    "Remove everything up to the first blank line:"
   ]
  },
  {
   "cell_type": "code",
   "execution_count": 180,
   "metadata": {},
   "outputs": [
    {
     "name": "stdout",
     "output_type": "stream",
     "text": [
      "there was a blank line\n",
      "right above\n",
      "the end\n"
     ]
    }
   ],
   "source": [
    "echo -e \"first line\\nsecond line\\n\\nthere was a blank line\\nright above\\nthe end\" | sed '1,/^$/d'"
   ]
  },
  {
   "cell_type": "code",
   "execution_count": 171,
   "metadata": {},
   "outputs": [
    {
     "name": "stdout",
     "output_type": "stream",
     "text": [
      "3:b\u001b[01;31m\u001b[K \u001b[m\u001b[Kc\n"
     ]
    }
   ],
   "source": [
    "echo -e 'a\\n\\nb c' | grep -n --color '\\s'"
   ]
  },
  {
   "cell_type": "code",
   "execution_count": 157,
   "metadata": {},
   "outputs": [
    {
     "name": "stdout",
     "output_type": "stream",
     "text": [
      "00000000  66 69 72 73 74 20 6c 69  6e 65 0a 73 65 63 6f 6e  |first line.secon|\n",
      "00000010  64 20 6c 69 6e 65 0a 0a  74 68 65 72 65 20 77 61  |d line..there wa|\n",
      "00000020  73 20 61 20 62 6c 61 6e  6b 20 6c 69 6e 65 0a 74  |s a blank line.t|\n",
      "00000030  68 65 20 65 6e 64 0a                              |he end.|\n",
      "00000037\n"
     ]
    }
   ],
   "source": [
    "echo -e \"first line\\nsecond line\\n\\nthere was a blank line\\nthe end\" | hexdump -C"
   ]
  },
  {
   "cell_type": "code",
   "execution_count": 170,
   "metadata": {},
   "outputs": [
    {
     "name": "stdout",
     "output_type": "stream",
     "text": [
      "00000000  09 0a                                             |..|\n",
      "00000002\n"
     ]
    }
   ],
   "source": [
    "echo -e '\\t' | hexdump -C"
   ]
  },
  {
   "cell_type": "code",
   "execution_count": null,
   "metadata": {},
   "outputs": [],
   "source": []
  }
 ],
 "metadata": {
  "kernelspec": {
   "display_name": "Bash",
   "language": "bash",
   "name": "bash"
  },
  "language_info": {
   "codemirror_mode": "shell",
   "file_extension": ".sh",
   "mimetype": "text/x-sh",
   "name": "bash"
  }
 },
 "nbformat": 4,
 "nbformat_minor": 4
}
