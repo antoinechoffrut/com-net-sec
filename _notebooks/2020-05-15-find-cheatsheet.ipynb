{
 "cells": [
  {
   "cell_type": "markdown",
   "metadata": {},
   "source": [
    "# \"find cheatsheet\"\n",
    "> The find command searches files by name, size, type, and other criteria,  down a directory tree\n",
    "\n",
    "- toc: true \n",
    "- badges: true\n",
    "- comments: true\n",
    "- categories: [cheatsheet, cli, macos]"
   ]
  },
  {
   "cell_type": "markdown",
   "metadata": {},
   "source": [
    "# Documentation"
   ]
  },
  {
   "cell_type": "markdown",
   "metadata": {},
   "source": [
    "From the [man page](https://ss64.com/osx/find.html) (ss64.com):\n",
    "```\n",
    "DESCRIPTION\n",
    "     The find utility recursively descends the directory tree for each path\n",
    "     listed, evaluating an expression (composed of the ``primaries'' and\n",
    "     ``operands'' listed below) in terms of each file in the tree.\n",
    "```\n",
    "Further references:\n",
    "- [man page of the `find` command in linux](https://ss64.com/bash/find.html) (ss64)\n",
    "\n",
    "- [35 pratical examples of linux find command](https://www.tecmint.com/35-practical-examples-of-linux-find-command/) (tecmint)"
   ]
  },
  {
   "cell_type": "markdown",
   "metadata": {},
   "source": [
    "# List all files in directory tree"
   ]
  },
  {
   "cell_type": "markdown",
   "metadata": {},
   "source": [
    "List all files in specified directory and its subdirectories, recursively:"
   ]
  },
  {
   "cell_type": "code",
   "execution_count": 1,
   "metadata": {
    "scrolled": true
   },
   "outputs": [
    {
     "name": "stdout",
     "output_type": "stream",
     "text": [
      "/usr/share/dict\n",
      "/usr/share/dict/words\n",
      "/usr/share/dict/web2\n",
      "/usr/share/dict/README\n",
      "/usr/share/dict/connectives\n",
      "/usr/share/dict/web2a\n",
      "/usr/share/dict/propernames\n"
     ]
    }
   ],
   "source": [
    "find /usr/share/dict"
   ]
  },
  {
   "cell_type": "markdown",
   "metadata": {},
   "source": [
    "Total number of results:"
   ]
  },
  {
   "cell_type": "code",
   "execution_count": 2,
   "metadata": {},
   "outputs": [
    {
     "name": "stdout",
     "output_type": "stream",
     "text": [
      "       7\n"
     ]
    }
   ],
   "source": [
    "find /usr/share/dict | wc -l"
   ]
  },
  {
   "cell_type": "markdown",
   "metadata": {},
   "source": [
    "## Restrict depth of search: `-maxdepth`, `-mindepth`"
   ]
  },
  {
   "cell_type": "markdown",
   "metadata": {},
   "source": [
    "Specify maximum depth down the directory tree:"
   ]
  },
  {
   "cell_type": "code",
   "execution_count": 3,
   "metadata": {},
   "outputs": [
    {
     "name": "stdout",
     "output_type": "stream",
     "text": [
      "/usr/share/dict\n"
     ]
    }
   ],
   "source": [
    "find /usr/share/dict -maxdepth 0"
   ]
  },
  {
   "cell_type": "markdown",
   "metadata": {},
   "source": [
    "Specify minimum depth down the directory tree:"
   ]
  },
  {
   "cell_type": "code",
   "execution_count": 4,
   "metadata": {},
   "outputs": [
    {
     "name": "stdout",
     "output_type": "stream",
     "text": [
      "/usr/share/dict/words\n",
      "/usr/share/dict/web2\n",
      "/usr/share/dict/README\n",
      "/usr/share/dict/connectives\n",
      "/usr/share/dict/web2a\n",
      "/usr/share/dict/propernames\n"
     ]
    }
   ],
   "source": [
    "find /usr/share/dict -mindepth 1"
   ]
  },
  {
   "cell_type": "markdown",
   "metadata": {},
   "source": [
    "# Find by name: `-name`"
   ]
  },
  {
   "cell_type": "markdown",
   "metadata": {},
   "source": [
    "Find a file by its name: "
   ]
  },
  {
   "cell_type": "code",
   "execution_count": 5,
   "metadata": {},
   "outputs": [
    {
     "name": "stdout",
     "output_type": "stream",
     "text": [
      "/usr/share/misc/flowers\n"
     ]
    }
   ],
   "source": [
    "find /usr/share -name \"flowers\""
   ]
  },
  {
   "cell_type": "markdown",
   "metadata": {},
   "source": [
    "Note that `find` descends the tree, so it will return all files with the same name present in all subdirectories:"
   ]
  },
  {
   "cell_type": "code",
   "execution_count": 6,
   "metadata": {},
   "outputs": [
    {
     "name": "stdout",
     "output_type": "stream",
     "text": [
      "/usr/share/calendar/uk_UA.KOI8-U/calendar.holiday\n",
      "/usr/share/calendar/ru_RU.KOI8-R/calendar.holiday\n",
      "/usr/share/calendar/calendar.holiday\n"
     ]
    }
   ],
   "source": [
    "find /usr/share -name \"calendar.holiday\""
   ]
  },
  {
   "cell_type": "markdown",
   "metadata": {},
   "source": [
    "Find all files (including directories) containing a string pattern:"
   ]
  },
  {
   "cell_type": "code",
   "execution_count": 7,
   "metadata": {},
   "outputs": [
    {
     "name": "stdout",
     "output_type": "stream",
     "text": [
      "/usr/share/vim/vim81/lang/menu_german_germany.1252.vim\n",
      "/usr/share/calendar/calendar.german\n",
      "/usr/share/germantok\n",
      "/usr/share/germantok/german.index\n"
     ]
    }
   ],
   "source": [
    "find /usr/share -name \"*german*\""
   ]
  },
  {
   "cell_type": "markdown",
   "metadata": {},
   "source": [
    "## Find by type: `-type`"
   ]
  },
  {
   "cell_type": "markdown",
   "metadata": {},
   "source": [
    "Possible file types:  \n",
    "- `b`: block special\n",
    "- `c`: character special\n",
    "- `d`: directory\n",
    "- `f`: regular file\n",
    "- `l`: symbolic link\n",
    "- `p`: FIFO\n",
    "- `s`: socket"
   ]
  },
  {
   "cell_type": "markdown",
   "metadata": {},
   "source": [
    "Some of theses are (regular) files, others are directories:"
   ]
  },
  {
   "cell_type": "code",
   "execution_count": 8,
   "metadata": {},
   "outputs": [
    {
     "name": "stdout",
     "output_type": "stream",
     "text": [
      "-rw-r--r--  1 root  wheel      105  4 Sep  2019 /usr/share/vim/vim81/lang/menu_german_germany.1252.vim\n",
      "-rw-r--r--  1 root  wheel      261 24 Aug  2019 /usr/share/calendar/calendar.german\n",
      "-rw-r--r--  1 root  wheel  5018153 25 Aug  2019 /usr/share/germantok/german.index\n",
      "drwxr-xr-x  3 root  wheel       96 25 Aug  2019 /usr/share/germantok\n"
     ]
    }
   ],
   "source": [
    "find /usr/share -name \"*german*\" | xargs ls -ld | sort "
   ]
  },
  {
   "cell_type": "markdown",
   "metadata": {},
   "source": [
    "Find all **regular** files (in particular, excluding directories) containing a string pattern:"
   ]
  },
  {
   "cell_type": "code",
   "execution_count": 9,
   "metadata": {},
   "outputs": [
    {
     "name": "stdout",
     "output_type": "stream",
     "text": [
      "/usr/share/vim/vim81/lang/menu_german_germany.1252.vim\n",
      "/usr/share/calendar/calendar.german\n",
      "/usr/share/germantok/german.index\n"
     ]
    }
   ],
   "source": [
    "find /usr/share -name \"*german*\" -type f"
   ]
  },
  {
   "cell_type": "markdown",
   "metadata": {},
   "source": [
    "Find all **directories** (in particular excluding regular files) containing a string pattern:"
   ]
  },
  {
   "cell_type": "code",
   "execution_count": 10,
   "metadata": {},
   "outputs": [
    {
     "name": "stdout",
     "output_type": "stream",
     "text": [
      "/usr/share/germantok\n"
     ]
    }
   ],
   "source": [
    "find /usr/share -name \"*german*\" -type d"
   ]
  },
  {
   "cell_type": "markdown",
   "metadata": {},
   "source": [
    "# Find by permissions: `-perm`"
   ]
  },
  {
   "cell_type": "markdown",
   "metadata": {},
   "source": [
    "A directory containing files with different permissions:"
   ]
  },
  {
   "cell_type": "code",
   "execution_count": 11,
   "metadata": {},
   "outputs": [
    {
     "name": "stdout",
     "output_type": "stream",
     "text": [
      "drwxr-xr-x  8 root  wheel      256 19 Oct  2019 /usr/share/dict\n",
      "-r--r--r--  1 root  wheel     1311 24 Aug  2019 /usr/share/dict/README\n",
      "-r--r--r--  1 root  wheel      706 24 Aug  2019 /usr/share/dict/connectives\n",
      "-r--r--r--  1 root  wheel     8546 24 Aug  2019 /usr/share/dict/propernames\n",
      "-r--r--r--  1 root  wheel  2493109 24 Aug  2019 /usr/share/dict/web2\n",
      "-r--r--r--  1 root  wheel  1012731 24 Aug  2019 /usr/share/dict/web2a\n",
      "lrwxr-xr-x  1 root  wheel        4 19 Oct  2019 /usr/share/dict/words -> web2\n"
     ]
    }
   ],
   "source": [
    "find /usr/share/dict | xargs ls -ld"
   ]
  },
  {
   "cell_type": "markdown",
   "metadata": {},
   "source": [
    "Find files with specified permission:"
   ]
  },
  {
   "cell_type": "code",
   "execution_count": 12,
   "metadata": {},
   "outputs": [
    {
     "name": "stdout",
     "output_type": "stream",
     "text": [
      "/usr/share/dict/web2\n",
      "/usr/share/dict/README\n",
      "/usr/share/dict/connectives\n",
      "/usr/share/dict/web2a\n",
      "/usr/share/dict/propernames\n"
     ]
    }
   ],
   "source": [
    "find /usr/share/dict -perm 444"
   ]
  },
  {
   "cell_type": "markdown",
   "metadata": {},
   "source": [
    "Find files **without** specified permission:"
   ]
  },
  {
   "cell_type": "code",
   "execution_count": 13,
   "metadata": {},
   "outputs": [
    {
     "name": "stdout",
     "output_type": "stream",
     "text": [
      "/usr/share/dict\n",
      "/usr/share/dict/words\n"
     ]
    }
   ],
   "source": [
    "find /usr/share/dict ! -perm 444"
   ]
  },
  {
   "cell_type": "markdown",
   "metadata": {},
   "source": [
    "Find files by symbolic mode: for user..."
   ]
  },
  {
   "cell_type": "code",
   "execution_count": 14,
   "metadata": {},
   "outputs": [
    {
     "name": "stdout",
     "output_type": "stream",
     "text": [
      "/usr/share/dict\n",
      "/usr/share/dict/words\n"
     ]
    }
   ],
   "source": [
    "find /usr/share/dict -perm -u=rwx"
   ]
  },
  {
   "cell_type": "markdown",
   "metadata": {},
   "source": [
    "... for group:"
   ]
  },
  {
   "cell_type": "code",
   "execution_count": 15,
   "metadata": {},
   "outputs": [
    {
     "name": "stdout",
     "output_type": "stream",
     "text": [
      "/usr/share/dict\n",
      "/usr/share/dict/words\n",
      "/usr/share/dict/web2\n",
      "/usr/share/dict/README\n",
      "/usr/share/dict/connectives\n",
      "/usr/share/dict/web2a\n",
      "/usr/share/dict/propernames\n"
     ]
    }
   ],
   "source": [
    "find /usr/share/dict -perm -g=r-x"
   ]
  },
  {
   "cell_type": "markdown",
   "metadata": {},
   "source": [
    "... for others:"
   ]
  },
  {
   "cell_type": "code",
   "execution_count": 16,
   "metadata": {},
   "outputs": [
    {
     "name": "stdout",
     "output_type": "stream",
     "text": [
      "/usr/share/dict\n",
      "/usr/share/dict/words\n",
      "/usr/share/dict/web2\n",
      "/usr/share/dict/README\n",
      "/usr/share/dict/connectives\n",
      "/usr/share/dict/web2a\n",
      "/usr/share/dict/propernames\n"
     ]
    }
   ],
   "source": [
    "find /usr/share/dict -perm -o=r-x"
   ]
  },
  {
   "cell_type": "markdown",
   "metadata": {},
   "source": [
    "# Find by size: `-size`"
   ]
  },
  {
   "cell_type": "markdown",
   "metadata": {},
   "source": [
    "Available suffixes (from the [man page of the _linux_ command](https://ss64.com/bash/find.html)):  \n",
    "- `b`: 512-byte blocks (this is the default if no suffix is used)\n",
    "- `c`: bytes\n",
    "- `w`: two-byte words\n",
    "- `k`: Kilobytes\n",
    "- `M`: Megabytes\n",
    "- `G`: Gigabytes"
   ]
  },
  {
   "cell_type": "markdown",
   "metadata": {},
   "source": [
    "Find files greater than a specified size:"
   ]
  },
  {
   "cell_type": "code",
   "execution_count": 17,
   "metadata": {},
   "outputs": [
    {
     "name": "stdout",
     "output_type": "stream",
     "text": [
      "/usr/share/examples/DTTk//iopending_example.txt\n",
      "/usr/share/examples/DTTk//iotop_example.txt\n",
      "/usr/share/examples/DTTk//seeksize_example.txt\n",
      "/usr/share/examples/DTTk//dapptrace_example.txt\n",
      "/usr/share/examples/DTTk//pridist_example.txt\n"
     ]
    }
   ],
   "source": [
    "find /usr/share/examples/DTTk/ -size +5k"
   ]
  },
  {
   "cell_type": "markdown",
   "metadata": {},
   "source": [
    "Find files smaller than a specified size:"
   ]
  },
  {
   "cell_type": "code",
   "execution_count": 18,
   "metadata": {},
   "outputs": [
    {
     "name": "stdout",
     "output_type": "stream",
     "text": [
      "/usr/share/examples/DTTk/kill_example.txt\n",
      "/usr/share/examples/DTTk/iofileb_example.txt\n",
      "/usr/share/examples/DTTk/creatbyproc_example.txt\n",
      "/usr/share/examples/DTTk/rwbypid_example.txt\n",
      "/usr/share/examples/DTTk/pidpersec_example.txt\n",
      "/usr/share/examples/DTTk/loads_example.txt\n",
      "/usr/share/examples/DTTk/sigdist_example.txt\n",
      "/usr/share/examples/DTTk/syscallbyproc_example.txt\n"
     ]
    }
   ],
   "source": [
    "find /usr/share/examples/DTTk -size -1k"
   ]
  },
  {
   "cell_type": "markdown",
   "metadata": {},
   "source": [
    "Find files of exactly (up to roundup) a specified size:"
   ]
  },
  {
   "cell_type": "code",
   "execution_count": 19,
   "metadata": {},
   "outputs": [
    {
     "name": "stdout",
     "output_type": "stream",
     "text": [
      "/usr/share/examples/DTTk//kill_example.txt\n"
     ]
    }
   ],
   "source": [
    "find /usr/share/examples/DTTk/ -size 358c"
   ]
  },
  {
   "cell_type": "markdown",
   "metadata": {},
   "source": [
    ">Note:  The directory chosen abovec contains only files, listed below in increasing order of size:"
   ]
  },
  {
   "cell_type": "code",
   "execution_count": 20,
   "metadata": {
    "scrolled": true
   },
   "outputs": [
    {
     "name": "stdout",
     "output_type": "stream",
     "text": [
      "total 432\n",
      "-rw-r--r--  1 root  wheel    358 25 Aug  2019 kill_example.txt\n",
      "-rw-r--r--  1 root  wheel    557 25 Aug  2019 loads_example.txt\n",
      "-rw-r--r--  1 root  wheel    605 25 Aug  2019 creatbyproc_example.txt\n",
      "-rw-r--r--  1 root  wheel    622 25 Aug  2019 sigdist_example.txt\n",
      "-rw-r--r--  1 root  wheel    636 25 Aug  2019 rwbypid_example.txt\n",
      "-rw-r--r--  1 root  wheel    818 25 Aug  2019 iofileb_example.txt\n",
      "-rw-r--r--  1 root  wheel    827 25 Aug  2019 syscallbyproc_example.txt\n",
      "-rw-r--r--  1 root  wheel    955 25 Aug  2019 pidpersec_example.txt\n",
      "-rw-r--r--  1 root  wheel   1031 25 Aug  2019 pathopens_example.txt\n",
      "-rw-r--r--  1 root  wheel   1127 25 Aug  2019 setuids_example.txt\n",
      "-rw-r--r--  1 root  wheel   1159 25 Aug  2019 newproc_example.txt\n",
      "-rw-r--r--  1 root  wheel   1334 25 Aug  2019 syscallbysysc_example.txt\n",
      "-rw-r--r--  1 root  wheel   1436 25 Aug  2019 iofile_example.txt\n",
      "-rw-r--r--  1 root  wheel   1530 25 Aug  2019 rwbytype_example.txt\n",
      "-rw-r--r--  1 root  wheel   1536 25 Aug  2019 fddist_example.txt\n",
      "-rw-r--r--  1 root  wheel   1550 25 Aug  2019 filebyproc_example.txt\n",
      "-rw-r--r--  1 root  wheel   1647 25 Aug  2019 hotspot_example.txt\n",
      "-rw-r--r--  1 root  wheel   1830 25 Aug  2019 iosnoop_example.txt\n",
      "-rw-r--r--  1 root  wheel   2050 25 Aug  2019 sampleproc_example.txt\n",
      "-rw-r--r--  1 root  wheel   2139 25 Aug  2019 topsysproc_example.txt\n",
      "-rw-r--r--  1 root  wheel   2260 25 Aug  2019 iopattern_example.txt\n",
      "-rw-r--r--  1 root  wheel   2457 25 Aug  2019 topsyscall_example.txt\n",
      "-rw-r--r--  1 root  wheel   2518 25 Aug  2019 execsnoop_example.txt\n",
      "-rw-r--r--  1 root  wheel   2530 25 Aug  2019 dispqlen_example.txt\n",
      "-rw-r--r--  1 root  wheel   2987 25 Aug  2019 syscallbypid_example.txt\n",
      "-rw-r--r--  1 root  wheel   3239 25 Aug  2019 cpuwalk_example.txt\n",
      "-rw-r--r--  1 root  wheel   3315 25 Aug  2019 dappprof_example.txt\n",
      "-rw-r--r--  1 root  wheel   3629 25 Aug  2019 bitesize_example.txt\n",
      "-rw-r--r--  1 root  wheel   4135 25 Aug  2019 priclass_example.txt\n",
      "-rw-r--r--  1 root  wheel   4275 25 Aug  2019 errinfo_example.txt\n",
      "-rw-r--r--  1 root  wheel   4500 25 Aug  2019 lastwords_example.txt\n",
      "-rw-r--r--  1 root  wheel   4505 25 Aug  2019 dtruss_example.txt\n",
      "-rw-r--r--  1 root  wheel   4584 25 Aug  2019 procsystime_example.txt\n",
      "-rw-r--r--  1 root  wheel   4658 25 Aug  2019 opensnoop_example.txt\n",
      "-rw-r--r--  1 root  wheel   5074 25 Aug  2019 rwsnoop_example.txt\n",
      "-rw-r--r--  1 root  wheel   6108 25 Aug  2019 iopending_example.txt\n",
      "-rw-r--r--  1 root  wheel   6737 25 Aug  2019 iotop_example.txt\n",
      "-rw-r--r--  1 root  wheel   6984 25 Aug  2019 dapptrace_example.txt\n",
      "-rw-r--r--  1 root  wheel  10361 25 Aug  2019 seeksize_example.txt\n",
      "-rw-r--r--  1 root  wheel  10718 25 Aug  2019 pridist_example.txt\n"
     ]
    }
   ],
   "source": [
    "ls -lSr /usr/share/examples/DTTk/"
   ]
  },
  {
   "cell_type": "markdown",
   "metadata": {},
   "source": [
    "# Files by timestamps: `-mtime`, `-mmin`, `-atime`, etc.\n"
   ]
  },
  {
   "cell_type": "markdown",
   "metadata": {},
   "source": [
    "Possible timestamps:\n",
    "- creation/birth time;\n",
    "- last access time;\n",
    "- last modification time (content);\n",
    "- last change time (permissions)"
   ]
  },
  {
   "cell_type": "markdown",
   "metadata": {},
   "source": [
    "Create files and manipulate creation, modification, and access times:"
   ]
  },
  {
   "cell_type": "code",
   "execution_count": 21,
   "metadata": {},
   "outputs": [
    {
     "name": "stdout",
     "output_type": "stream",
     "text": [
      "Creating old file...\n",
      "Access (atime): Feb  1 12:34:00 2020\n",
      "Modify (mtime): Feb  1 12:34:00 2020\n",
      "Change (ctime): May 18 22:41:45 2020\n",
      "Birth  (Btime): Feb  1 12:34:00 2020\n"
     ]
    }
   ],
   "source": [
    "cd ~/.Trash\n",
    "echo \"Creating old file...\"\n",
    "touch oldfile.txt\n",
    "touch -t 202002011234 oldfile.txt\n",
    "stat -f \"Access (atime): %Sa%nModify (mtime): %Sm%nChange (ctime): %Sc%nBirth  (Btime): %SB\" oldfile.txt"
   ]
  },
  {
   "cell_type": "code",
   "execution_count": 22,
   "metadata": {},
   "outputs": [
    {
     "name": "stdout",
     "output_type": "stream",
     "text": [
      "Creating new file...\n",
      "Access (atime): May  4 12:34:00 2020\n",
      "Modify (mtime): May  4 12:34:00 2020\n",
      "Change (ctime): May 18 22:41:46 2020\n",
      "Birth  (Btime): Feb  1 12:34:00 2020\n"
     ]
    }
   ],
   "source": [
    "cd ~/.Trash\n",
    "echo \"Creating new file...\"\n",
    "touch newfile.txt\n",
    "touch -t 202005041234 newfile.txt\n",
    "stat -f \"Access (atime): %Sa%nModify (mtime): %Sm%nChange (ctime): %Sc%nBirth  (Btime): %SB\" newfile.txt"
   ]
  },
  {
   "cell_type": "code",
   "execution_count": 23,
   "metadata": {},
   "outputs": [
    {
     "name": "stdout",
     "output_type": "stream",
     "text": [
      "Creating in between file...\n",
      "Access (atime): Apr 20 12:34:00 2020\n",
      "Modify (mtime): Apr 20 12:34:00 2020\n",
      "Change (ctime): May 18 22:41:46 2020\n",
      "Birth  (Btime): Apr 20 12:34:00 2020\n"
     ]
    }
   ],
   "source": [
    "cd ~/.Trash\n",
    "echo \"Creating in between file...\"\n",
    "touch betweenfile.txt\n",
    "touch -t 202004201234 betweenfile.txt\n",
    "stat -f \"Access (atime): %Sa%nModify (mtime): %Sm%nChange (ctime): %Sc%nBirth  (Btime): %SB\" betweenfile.txt"
   ]
  },
  {
   "cell_type": "markdown",
   "metadata": {},
   "source": [
    "Find files with access time older than a specified number of days in the past:"
   ]
  },
  {
   "cell_type": "code",
   "execution_count": 24,
   "metadata": {},
   "outputs": [
    {
     "name": "stdout",
     "output_type": "stream",
     "text": [
      "./oldfile.txt\n",
      "./betweenfile.txt\n"
     ]
    }
   ],
   "source": [
    "find ./oldfile.txt ./betweenfile.txt ./newfile.txt -atime +20"
   ]
  },
  {
   "cell_type": "markdown",
   "metadata": {},
   "source": [
    "\n",
    "Find files with access time newer than a specified number of days in the past:"
   ]
  },
  {
   "cell_type": "code",
   "execution_count": 25,
   "metadata": {},
   "outputs": [
    {
     "name": "stdout",
     "output_type": "stream",
     "text": [
      "./betweenfile.txt\n",
      "./newfile.txt\n"
     ]
    }
   ],
   "source": [
    "find ./oldfile.txt ./betweenfile.txt ./newfile.txt -atime -30"
   ]
  },
  {
   "cell_type": "markdown",
   "metadata": {},
   "source": [
    "Find files with change time more recent than a specified number of minutes in the past:"
   ]
  },
  {
   "cell_type": "code",
   "execution_count": 26,
   "metadata": {},
   "outputs": [
    {
     "name": "stdout",
     "output_type": "stream",
     "text": [
      "./oldfile.txt\n",
      "./betweenfile.txt\n",
      "./newfile.txt\n"
     ]
    }
   ],
   "source": [
    "touch -m ./betweenfile.txt\n",
    "find ./oldfile.txt ./betweenfile.txt ./newfile.txt -cmin -1"
   ]
  },
  {
   "cell_type": "markdown",
   "metadata": {},
   "source": [
    "# TODO\n",
    "- `iname`: case insensitive\n",
    "- `inode`: number of inode\n",
    "- `user`: name of user to whom file belongs to\n",
    "- `group`: name of group\n",
    "- `regex`: use regular expression"
   ]
  }
 ],
 "metadata": {
  "kernelspec": {
   "display_name": "Bash",
   "language": "bash",
   "name": "bash"
  },
  "language_info": {
   "codemirror_mode": "shell",
   "file_extension": ".sh",
   "mimetype": "text/x-sh",
   "name": "bash"
  }
 },
 "nbformat": 4,
 "nbformat_minor": 4
}
